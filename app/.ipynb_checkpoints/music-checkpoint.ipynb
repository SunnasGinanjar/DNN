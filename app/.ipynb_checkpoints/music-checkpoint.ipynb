{
 "cells": [
  {
   "cell_type": "code",
   "execution_count": 1,
   "metadata": {},
   "outputs": [
    {
     "name": "stderr",
     "output_type": "stream",
     "text": [
      "Using Theano backend.\n"
     ]
    }
   ],
   "source": [
    "## import library yang diperlukan \n",
    "import os #untuk python secara langsung berinteraksi dengan sistem operasinya\n",
    "##\n",
    "import argparse # library pemanggilan / pengolahan argumen \n",
    "import csv # separated file in record (bekerja dengan data yang di format dengan field atau record)\n",
    "import datetime # date/time manuipulation\n",
    "import glob # Dengan aturan shell unix  (to fine filenames matching a pattern )\n",
    "import math # memanggil fungsi matematika \n",
    "import sys # konfigurasi sistem spesifik \n",
    "import time # fungsi untuk waktu (manipulation time for clock time )\n",
    "\n",
    "## Import library data science\n",
    "import numpy as np # library data sains untuk operasi vektor dan matriks \n",
    "import pandas as pd # Memiliki kegunaan untuk pengolahan data seperti pada SQl (join, distrinct dll)\n",
    "from os.path import join\n",
    "\n",
    "## Machine Learning Preprocessing and Evaluation\n",
    "## Menggunakan library sklearn digunakan untuk memberi beberapa fitur pada keperluan data science\n",
    "from sklearn import preprocessing  #mengubah vektor fitur mentah menjadi representasi yang lebih sesuai termasuk standarisasi data\n",
    "from sklearn.metrics import accuracy_score #digunakan untuk seleksi dan evaluasi \n",
    "                                           #Modul sklearn.metrics juga memaparkan \n",
    "                                           #serangkaian fungsi sederhana yang mengukur kesalahan prediksi \n",
    "                                           #berdasarkan kebenaran dan prediksi dasar:\n",
    "                                           #menggunakan beberapa fungsi untuk mengukur kinerja klasifikasi salah satunya accuracu_score\n",
    "from sklearn import __version__ as sklearn_version #menggunakan fungsi dari package library sklearn sesuai dengan versi \n",
    "##apabila versi sklearn yang digunakan kurang dari versi 0.17 sampai versi 0.17 maka menggunakan cross validation untuk membuat data random \n",
    "##antara data test dan data training (train_test_split) \n",
    "if sklearn_version.startswith('0.17'):\n",
    "    from sklearn.cross_validation import train_test_split\n",
    "    from sklearn.cross_validation import StratifiedShuffleSplit #digunakan untuk pemisahan (split bertingkat)\n",
    "else: # >= 0.18\n",
    "    from sklearn.model_selection import train_test_split #(membagi data array atau matrix menjadi training dan testing data secara random)\n",
    "    from sklearn.model_selection import StratifiedShuffleSplit #digunakan untuk pemisahan (split bertingkat)\n",
    "\n",
    "#Import library pendukung CNN (Deep Learning)\n",
    "from theano import config #Theano merupakan library python yang memungkinkan pengoptimalan evaluasi fungsi matematika pada multidimensi array\n",
    "\n",
    "import keras #library pada python yang dpt bekerja di Theano yg merupakan JST tingkat tinggi \n",
    "             #pada keras diperlukan import beberapa fungsi yaitu : \n",
    "from keras.models import Sequential, Model #menggunakan tipe sequential model pada keras model \n",
    "##import dibawah ini digunakan untuk memanggil library yg mendukung fungsi atau proses CNN yaitu setelah pembagian data training dan testing\n",
    "##kemudian melakukan CNN single, stacked, paralel kemudian melakukan ReLU Activation, Dropout dan batch normalization\n",
    "from keras.layers import Input, Convolution2D, MaxPooling2D, Dense, Dropout, Activation, Flatten, merge\n",
    "from keras.layers.normalization import BatchNormalization\n",
    "from keras.optimizers import SGD\n",
    "\n",
    "import matplotlib.pyplot as plt #kumpulan fungsi seperti matlab berfungsi untuk plotting\n",
    "%matplotlib inline \n",
    "\n",
    "# Library python untuk deskriptor audio dari WAV, MP3 untuk mendengar musik serupa, klasifikasi, emosi dll\n",
    "import rp_extract as rp\n",
    "from audiofile_read import audiofile_read\n",
    "\n"
   ]
  },
  {
   "cell_type": "code",
   "execution_count": 4,
   "metadata": {},
   "outputs": [],
   "source": [
    "#set path untuk data musik \n",
    "AUDIO_PATH = './data/GTZAN_mp3'"
   ]
  },
  {
   "cell_type": "code",
   "execution_count": null,
   "metadata": {},
   "outputs": [],
   "source": [
    "csv_file = join(AUDIO_PATH,'filelist_GTZAN_mp3_wclasses.txt')\n",
    "metadata = pd.read_csv(csv_file, index_col=0, header=None)\n",
    "metadata.head(10)"
   ]
  },
  {
   "cell_type": "code",
   "execution_count": null,
   "metadata": {},
   "outputs": [],
   "source": [
    "# create list of filenames with associated classes\n",
    "filelist = metadata.index.tolist()\n",
    "classes = metadata[1].values.tolist()"
   ]
  },
  {
   "cell_type": "code",
   "execution_count": null,
   "metadata": {},
   "outputs": [],
   "source": []
  },
  {
   "cell_type": "code",
   "execution_count": null,
   "metadata": {},
   "outputs": [],
   "source": []
  },
  {
   "cell_type": "code",
   "execution_count": null,
   "metadata": {},
   "outputs": [],
   "source": []
  },
  {
   "cell_type": "code",
   "execution_count": null,
   "metadata": {},
   "outputs": [],
   "source": []
  }
 ],
 "metadata": {
  "kernelspec": {
   "display_name": "Python 2",
   "language": "python",
   "name": "python2"
  },
  "language_info": {
   "codemirror_mode": {
    "name": "ipython",
    "version": 2
   },
   "file_extension": ".py",
   "mimetype": "text/x-python",
   "name": "python",
   "nbconvert_exporter": "python",
   "pygments_lexer": "ipython2",
   "version": "2.7.15"
  }
 },
 "nbformat": 4,
 "nbformat_minor": 2
}
