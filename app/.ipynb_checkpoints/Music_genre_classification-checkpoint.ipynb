{
 "cells": [
  {
   "cell_type": "markdown",
   "metadata": {
    "colab_type": "text",
    "id": "w6fNfWLQD5Jy"
   },
   "source": [
    "# Music Genre Classification with Deep Learning\n",
    "\n",
    "This tutorial shows how different Convolutional Neural Network architectures are used for the taks of music genre classification.\n",
    "\n",
    "The data set used is the [GTZAN](http://marsyasweb.appspot.com/download/data_sets/) genre data set compiled by George Tzanetakis. It consists of 1000 tracks (30 second excerpts) from 10 genres, each with 100 examples.\n",
    "\n",
    "The original tracks are 22050Hz Mono 16-bit audio files in .au format.\n",
    "\n",
    "For a more compact download we provide a version in .mp3 format, also 22050 Hz.\n",
    "\n",
    "This tutorial contains:\n",
    "* Loading and preprocessing of audio files\n",
    "* Loading class files from CSV and using Label Encoder\n",
    "* using One-Hot Encoder to prepare class data for Deep Learning\n",
    "* Generating Mel spectrograms from the audio\n",
    "* Standardization of data\n",
    "* Train/Test set split\n",
    "* Stratified splits\n",
    "* Convolutional Neural Networks: single, stacked, parallel\n",
    "* ReLU Activation\n",
    "* Dropout\n",
    "* Batch Normalization\n",
    "\n",
    "(entensions for later:)\n",
    "* Majority Vote / Max Probability \n",
    "* Recurrent Neural Networks\n",
    "* Cross-validation\n",
    "\n",
    "You can execute the following code blocks by pressing SHIFT+Enter consecutively."
   ]
  },
  {
   "cell_type": "code",
   "execution_count": 62,
   "metadata": {
    "colab": {
     "base_uri": "https://localhost:8080/",
     "height": 253
    },
    "colab_type": "code",
    "executionInfo": {
     "elapsed": 71477,
     "status": "ok",
     "timestamp": 1557641431131,
     "user": {
      "displayName": "saesa rahmike",
      "photoUrl": "",
      "userId": "16840703955574169797"
     },
     "user_tz": -420
    },
    "id": "f5WG7NZsf_sB",
    "outputId": "ca164d5a-3bf8-4917-9049-79e53a17b2e8"
   },
   "outputs": [],
   "source": [
    "# !pip install pydrive\n",
    "\n",
    "# from pydrive.auth import GoogleAuth\n",
    "# from pydrive.drive import GoogleDrive\n",
    "# from google.colab import auth\n",
    "# from oauth2client.client import GoogleCredentials\n",
    "\n",
    "# auth.authenticate_user()\n",
    "# gauth = GoogleAuth()\n",
    "# gauth.credentials = GoogleCredentials.get_application_default()\n",
    "# drive = GoogleDrive(gauth)"
   ]
  },
  {
   "cell_type": "code",
   "execution_count": 63,
   "metadata": {
    "colab": {},
    "colab_type": "code",
    "id": "KU4VHi-qgWgr"
   },
   "outputs": [],
   "source": [
    "# your_module = drive.CreateFile({'id':'1hOxiDQdtb7LrqdOEZk2153JMEWTUF4TE'})\n",
    "# your_module.GetContentFile('rp_extract.pyc')"
   ]
  },
  {
   "cell_type": "code",
   "execution_count": 64,
   "metadata": {
    "colab": {},
    "colab_type": "code",
    "id": "4_ZtwrPQhTkQ"
   },
   "outputs": [],
   "source": [
    "# your_module2 = drive.CreateFile({'id':'178xwkc7eQT8K0it-e6RkrLP4y4i_JoMc'})\n",
    "# your_module2.GetContentFile('audiofile_read.pyc')"
   ]
  },
  {
   "cell_type": "code",
   "execution_count": 65,
   "metadata": {
    "colab": {},
    "colab_type": "code",
    "id": "fT1_wXtEilKO"
   },
   "outputs": [],
   "source": [
    "# your_module3 = drive.CreateFile({'id':'1SIpBpbZIAJOsn5qWgF1O1wOoxa7UKeBq'})\n",
    "# your_module3.GetContentFile('audiofile_read.py')\n",
    "# your_module3.trash()"
   ]
  },
  {
   "cell_type": "code",
   "execution_count": 66,
   "metadata": {
    "colab": {},
    "colab_type": "code",
    "id": "cUTZh_b6j1Kr"
   },
   "outputs": [],
   "source": [
    "# your_module4 = drive.CreateFile({'id':'1wI4VHrJW2-C8mF-RaIZjpv366Tguhg2c'})\n",
    "# your_module4.GetContentFile('wavio.pyc')"
   ]
  },
  {
   "cell_type": "code",
   "execution_count": 67,
   "metadata": {
    "colab": {
     "base_uri": "https://localhost:8080/",
     "height": 87
    },
    "colab_type": "code",
    "executionInfo": {
     "elapsed": 10249,
     "status": "ok",
     "timestamp": 1557641444180,
     "user": {
      "displayName": "saesa rahmike",
      "photoUrl": "",
      "userId": "16840703955574169797"
     },
     "user_tz": -420
    },
    "id": "AP7iEug5MWZq",
    "outputId": "7a4aa207-85d5-447a-8b2e-cd906f01ccc6"
   },
   "outputs": [],
   "source": [
    "# !pip install Keras==1.2.1 Theano==0.8.2 scikit-learn>0.17 pandas librosa\n"
   ]
  },
  {
   "cell_type": "code",
   "execution_count": 68,
   "metadata": {
    "colab": {
     "base_uri": "https://localhost:8080/",
     "height": 150
    },
    "colab_type": "code",
    "executionInfo": {
     "elapsed": 12947,
     "status": "ok",
     "timestamp": 1557641447557,
     "user": {
      "displayName": "saesa rahmike",
      "photoUrl": "",
      "userId": "16840703955574169797"
     },
     "user_tz": -420
    },
    "id": "X38Tbb2sRKoK",
    "outputId": "2278bd8e-9e7f-4934-bafa-75bf506c6643"
   },
   "outputs": [],
   "source": [
    "# !apt install ffmpeg"
   ]
  },
  {
   "cell_type": "code",
   "execution_count": 69,
   "metadata": {
    "colab": {
     "base_uri": "https://localhost:8080/",
     "height": 87
    },
    "colab_type": "code",
    "executionInfo": {
     "elapsed": 14452,
     "status": "ok",
     "timestamp": 1557641450555,
     "user": {
      "displayName": "saesa rahmike",
      "photoUrl": "",
      "userId": "16840703955574169797"
     },
     "user_tz": -420
    },
    "id": "5s0api0yF-mD",
    "outputId": "0846783a-d002-4d02-9d44-8ae43f61ef18"
   },
   "outputs": [],
   "source": [
    "# !pip install rp_extract"
   ]
  },
  {
   "cell_type": "code",
   "execution_count": 70,
   "metadata": {
    "colab": {
     "base_uri": "https://localhost:8080/",
     "height": 53
    },
    "colab_type": "code",
    "executionInfo": {
     "elapsed": 1797,
     "status": "ok",
     "timestamp": 1557641523962,
     "user": {
      "displayName": "saesa rahmike",
      "photoUrl": "",
      "userId": "16840703955574169797"
     },
     "user_tz": -420
    },
    "id": "yQHlFQLpD5J6",
    "outputId": "9cb9527e-ddb1-4844-d148-30110227f512"
   },
   "outputs": [],
   "source": [
    "# General Imports\n",
    "\n",
    "import os\n",
    "\n",
    "# choosing between CPU and GPU\n",
    "device = 'cuda'\n",
    "os.environ['THEANO_FLAGS']='mode=FAST_RUN,device=' + device \n",
    "\n",
    "# from google.colab import drive\n",
    "# drive.mount(\"/content/drive/\")\n",
    "\n",
    "import argparse\n",
    "import csv\n",
    "import datetime\n",
    "import glob\n",
    "import math\n",
    "import sys\n",
    "import time\n",
    "import numpy as np\n",
    "import pandas as pd # Pandas for reading CSV files and easier Data handling in preparation\n",
    "from os.path import join\n",
    "\n",
    "# Machine Learning Preprocessing and Evaluation\n",
    "\n",
    "from sklearn import preprocessing\n",
    "from sklearn.metrics import accuracy_score\n",
    "from sklearn import __version__ as sklearn_version\n",
    "\n",
    "if sklearn_version.startswith('0.17'):\n",
    "    from sklearn.cross_validation import train_test_split\n",
    "    from sklearn.cross_validation import StratifiedShuffleSplit, StratifiedKFold\n",
    "else: # >= 0.18\n",
    "    from sklearn.model_selection import train_test_split\n",
    "    from sklearn.model_selection import StratifiedShuffleSplit, StratifiedKFold\n",
    "\n",
    "# Deep Learning\n",
    "\n",
    "from theano import config\n",
    "\n",
    "import keras\n",
    "from keras.models import Sequential, Model\n",
    "from keras.layers import Input, Convolution2D, MaxPooling2D, Dense, Dropout, Activation, Flatten, merge\n",
    "from keras.layers.normalization import BatchNormalization\n",
    "from keras.optimizers import SGD\n",
    "\n",
    "# Plotting\n",
    "\n",
    "import matplotlib.pyplot as plt\n",
    "%matplotlib inline \n",
    "\n",
    "sys.path.append('/content/drive/My Drive/DL_MIR_TUTORIAL/')\n",
    "# Local imports\n",
    "import rp_extract as rp\n",
    "from audiofile_read import audiofile_read\n",
    "\n",
    "\n"
   ]
  },
  {
   "cell_type": "code",
   "execution_count": null,
   "metadata": {
    "colab": {},
    "colab_type": "code",
    "id": "xHnzylonRXlz"
   },
   "outputs": [],
   "source": []
  },
  {
   "cell_type": "markdown",
   "metadata": {
    "colab_type": "text",
    "id": "AIOx5560MUly"
   },
   "source": [
    "\n",
    "\n",
    "Jadi nanti kamu ngerun ini dulu ya\n",
    "\n",
    "\n"
   ]
  },
  {
   "cell_type": "code",
   "execution_count": 71,
   "metadata": {
    "colab": {
     "base_uri": "https://localhost:8080/",
     "height": 33
    },
    "colab_type": "code",
    "executionInfo": {
     "elapsed": 988,
     "status": "ok",
     "timestamp": 1557641495089,
     "user": {
      "displayName": "saesa rahmike",
      "photoUrl": "",
      "userId": "16840703955574169797"
     },
     "user_tz": -420
    },
    "id": "F0Ef6zKhMU_L",
    "outputId": "aad2496e-4f33-46ef-d7da-0ddd99a10e64"
   },
   "outputs": [],
   "source": [
    "# %cd drive/My Drive"
   ]
  },
  {
   "cell_type": "code",
   "execution_count": null,
   "metadata": {
    "colab": {},
    "colab_type": "code",
    "id": "M0zzzj5LGGQD"
   },
   "outputs": [],
   "source": []
  },
  {
   "cell_type": "markdown",
   "metadata": {
    "colab_type": "text",
    "id": "zjoksJxmD5KQ"
   },
   "source": [
    "## Set the Path to the Dataset\n",
    "\n",
    "adjust this path to where the data set is stored on your computer:\n"
   ]
  },
  {
   "cell_type": "code",
   "execution_count": 72,
   "metadata": {
    "colab": {},
    "colab_type": "code",
    "id": "aQ3NSkZ3D5KW"
   },
   "outputs": [],
   "source": [
    "# SET YOUR OWN PATH HERE\n",
    "AUDIO_PATH = './data/mp3/'\n",
    "# AUDIO_PATH1 = './data/mp3'"
   ]
  },
  {
   "cell_type": "markdown",
   "metadata": {
    "colab_type": "text",
    "id": "KffDlLwv8CIj"
   },
   "source": []
  },
  {
   "cell_type": "code",
   "execution_count": 73,
   "metadata": {
    "colab": {
     "base_uri": "https://localhost:8080/",
     "height": 104
    },
    "colab_type": "code",
    "executionInfo": {
     "elapsed": 20557,
     "status": "ok",
     "timestamp": 1557330890892,
     "user": {
      "displayName": "saesa rahmike",
      "photoUrl": "",
      "userId": "16840703955574169797"
     },
     "user_tz": -420
    },
    "id": "tf2UWDtFG4ms",
    "outputId": "e2e06753-1a14-4dba-b562-653a5ee4f371"
   },
   "outputs": [],
   "source": [
    "# !ls"
   ]
  },
  {
   "cell_type": "code",
   "execution_count": 74,
   "metadata": {
    "colab": {
     "base_uri": "https://localhost:8080/",
     "height": 34
    },
    "colab_type": "code",
    "executionInfo": {
     "elapsed": 24234,
     "status": "ok",
     "timestamp": 1557330894582,
     "user": {
      "displayName": "saesa rahmike",
      "photoUrl": "",
      "userId": "16840703955574169797"
     },
     "user_tz": -420
    },
    "id": "isxVg0lfCmNt",
    "outputId": "0851d15d-63d4-439c-b56c-b15f74de2723"
   },
   "outputs": [],
   "source": [
    "# !pwd"
   ]
  },
  {
   "cell_type": "code",
   "execution_count": 75,
   "metadata": {
    "colab": {
     "base_uri": "https://localhost:8080/",
     "height": 52
    },
    "colab_type": "code",
    "executionInfo": {
     "elapsed": 24223,
     "status": "ok",
     "timestamp": 1557330894583,
     "user": {
      "displayName": "saesa rahmike",
      "photoUrl": "",
      "userId": "16840703955574169797"
     },
     "user_tz": -420
    },
    "id": "xumtE3osDIjB",
    "outputId": "bdee317b-dbba-42cf-af58-35079e9a7b5e"
   },
   "outputs": [],
   "source": [
    "# %cd \"drive\""
   ]
  },
  {
   "cell_type": "code",
   "execution_count": 76,
   "metadata": {
    "colab": {
     "base_uri": "https://localhost:8080/",
     "height": 52
    },
    "colab_type": "code",
    "executionInfo": {
     "elapsed": 24204,
     "status": "ok",
     "timestamp": 1557330894583,
     "user": {
      "displayName": "saesa rahmike",
      "photoUrl": "",
      "userId": "16840703955574169797"
     },
     "user_tz": -420
    },
    "id": "IM8Q7NihDOkI",
    "outputId": "b090a50a-17d4-4823-c54a-80cef633fc9d"
   },
   "outputs": [],
   "source": [
    "# %cd \"My Drive\""
   ]
  },
  {
   "cell_type": "code",
   "execution_count": 77,
   "metadata": {
    "colab": {
     "base_uri": "https://localhost:8080/",
     "height": 104
    },
    "colab_type": "code",
    "executionInfo": {
     "elapsed": 27234,
     "status": "ok",
     "timestamp": 1557330897625,
     "user": {
      "displayName": "saesa rahmike",
      "photoUrl": "",
      "userId": "16840703955574169797"
     },
     "user_tz": -420
    },
    "id": "fuiGfDLBCpW6",
    "outputId": "217dbbbc-2599-4c29-f32e-2edf9eaf9827"
   },
   "outputs": [],
   "source": [
    "# !ls"
   ]
  },
  {
   "cell_type": "markdown",
   "metadata": {
    "colab_type": "text",
    "id": "NAYp_w_CD5Kf"
   },
   "source": [
    "## Load the Metadata\n",
    "\n",
    "The tab-separated file contains pairs of filename TAB class category (i.e. genre)."
   ]
  },
  {
   "cell_type": "code",
   "execution_count": 78,
   "metadata": {
    "colab": {
     "base_uri": "https://localhost:8080/",
     "height": 377
    },
    "colab_type": "code",
    "executionInfo": {
     "elapsed": 1441,
     "status": "ok",
     "timestamp": 1557641499971,
     "user": {
      "displayName": "saesa rahmike",
      "photoUrl": "",
      "userId": "16840703955574169797"
     },
     "user_tz": -420
    },
    "id": "j2-KNqlND5Kj",
    "outputId": "e58a9ed8-3d70-4584-c881-3f94f720a3b5"
   },
   "outputs": [
    {
     "data": {
      "text/html": [
       "<div>\n",
       "<style scoped>\n",
       "    .dataframe tbody tr th:only-of-type {\n",
       "        vertical-align: middle;\n",
       "    }\n",
       "\n",
       "    .dataframe tbody tr th {\n",
       "        vertical-align: top;\n",
       "    }\n",
       "\n",
       "    .dataframe thead th {\n",
       "        text-align: right;\n",
       "    }\n",
       "</style>\n",
       "<table border=\"1\" class=\"dataframe\">\n",
       "  <thead>\n",
       "    <tr style=\"text-align: right;\">\n",
       "      <th></th>\n",
       "      <th>1</th>\n",
       "    </tr>\n",
       "    <tr>\n",
       "      <th>0</th>\n",
       "      <th></th>\n",
       "    </tr>\n",
       "  </thead>\n",
       "  <tbody>\n",
       "    <tr>\n",
       "      <th>keroncong/keroncong.0001.mp3</th>\n",
       "      <td>keroncong</td>\n",
       "    </tr>\n",
       "    <tr>\n",
       "      <th>keroncong/keroncong.0002.mp3</th>\n",
       "      <td>keroncong</td>\n",
       "    </tr>\n",
       "    <tr>\n",
       "      <th>keroncong/keroncong.0003.mp3</th>\n",
       "      <td>keroncong</td>\n",
       "    </tr>\n",
       "    <tr>\n",
       "      <th>keroncong/keroncong.0004.mp3</th>\n",
       "      <td>keroncong</td>\n",
       "    </tr>\n",
       "    <tr>\n",
       "      <th>keroncong/keroncong.0005.mp3</th>\n",
       "      <td>keroncong</td>\n",
       "    </tr>\n",
       "    <tr>\n",
       "      <th>keroncong/keroncong.0006.mp3</th>\n",
       "      <td>keroncong</td>\n",
       "    </tr>\n",
       "    <tr>\n",
       "      <th>keroncong/keroncong.0009.mp3</th>\n",
       "      <td>keroncong</td>\n",
       "    </tr>\n",
       "    <tr>\n",
       "      <th>keroncong/keroncong.0010.mp3</th>\n",
       "      <td>keroncong</td>\n",
       "    </tr>\n",
       "    <tr>\n",
       "      <th>keroncong/keroncong.0012.mp3</th>\n",
       "      <td>keroncong</td>\n",
       "    </tr>\n",
       "    <tr>\n",
       "      <th>keroncong/keroncong.0013.mp3</th>\n",
       "      <td>keroncong</td>\n",
       "    </tr>\n",
       "  </tbody>\n",
       "</table>\n",
       "</div>"
      ],
      "text/plain": [
       "                                      1\n",
       "0                                      \n",
       "keroncong/keroncong.0001.mp3  keroncong\n",
       "keroncong/keroncong.0002.mp3  keroncong\n",
       "keroncong/keroncong.0003.mp3  keroncong\n",
       "keroncong/keroncong.0004.mp3  keroncong\n",
       "keroncong/keroncong.0005.mp3  keroncong\n",
       "keroncong/keroncong.0006.mp3  keroncong\n",
       "keroncong/keroncong.0009.mp3  keroncong\n",
       "keroncong/keroncong.0010.mp3  keroncong\n",
       "keroncong/keroncong.0012.mp3  keroncong\n",
       "keroncong/keroncong.0013.mp3  keroncong"
      ]
     },
     "execution_count": 78,
     "metadata": {},
     "output_type": "execute_result"
    }
   ],
   "source": [
    "# csv_file = join(AUDIO_PATH,'filelist_GTZAN_mp3_wclasses.txt')\n",
    "# csv_file = \"content/filelist_GTZAN_mp3_wclasses_coba.txt\"\n",
    "metadata = pd.read_csv('./data/mp3/test.txt', index_col=0, header=None)\n",
    "metadata.head(10)"
   ]
  },
  {
   "cell_type": "code",
   "execution_count": 79,
   "metadata": {
    "colab": {
     "base_uri": "https://localhost:8080/",
     "height": 53
    },
    "colab_type": "code",
    "executionInfo": {
     "elapsed": 899,
     "status": "ok",
     "timestamp": 1557641502332,
     "user": {
      "displayName": "saesa rahmike",
      "photoUrl": "",
      "userId": "16840703955574169797"
     },
     "user_tz": -420
    },
    "id": "pL8bkHMRD5Kv",
    "outputId": "f2d3b772-5f4c-4c7c-96b3-51180d688cba"
   },
   "outputs": [
    {
     "name": "stdout",
     "output_type": "stream",
     "text": [
      "['keroncong/keroncong.0001.mp3', 'keroncong/keroncong.0002.mp3', 'keroncong/keroncong.0003.mp3', 'keroncong/keroncong.0004.mp3', 'keroncong/keroncong.0005.mp3', 'keroncong/keroncong.0006.mp3', 'keroncong/keroncong.0009.mp3', 'keroncong/keroncong.0010.mp3', 'keroncong/keroncong.0012.mp3', 'keroncong/keroncong.0013.mp3', 'keroncong/keroncong.0014.mp3', 'keroncong/keroncong.0015.mp3', 'keroncong/keroncong.0016.mp3', 'keroncong/keroncong.0017.mp3', 'keroncong/keroncong.0019.mp3', 'keroncong/keroncong.0023.mp3', 'keroncong/keroncong.0024.mp3', 'keroncong/keroncong.0025.mp3', 'keroncong/keroncong.0026.mp3', 'keroncong/keroncong.0027.mp3', 'keroncong/keroncong.0028.mp3', 'keroncong/keroncong.0029.mp3', 'keroncong/keroncong.0031.mp3', 'keroncong/keroncong.0032.mp3', 'keroncong/keroncong.0033.mp3', 'keroncong/keroncong.0034.mp3', 'keroncong/keroncong.0035.mp3', 'keroncong/keroncong.0036.mp3', 'keroncong/keroncong.0041.mp3', 'keroncong/keroncong.0042.mp3', 'keroncong/keroncong.0043.mp3', 'keroncong/keroncong.0044.mp3', 'keroncong/keroncong.0045.mp3', 'keroncong/keroncong.0046.mp3', 'keroncong/keroncong.0049.mp3', 'keroncong/keroncong.0051.mp3', 'keroncong/keroncong.0052.mp3', 'keroncong/keroncong.0053.mp3', 'keroncong/keroncong.0054.mp3', 'keroncong/keroncong.0055.mp3', 'keroncong/keroncong.0056.mp3', 'keroncong/keroncong.0057.mp3', 'keroncong/keroncong.0061.mp3', 'keroncong/keroncong.0063.mp3', 'keroncong/keroncong.0064.mp3', 'keroncong/keroncong.0065.mp3', 'keroncong/keroncong.0066.mp3', 'keroncong/keroncong.0067.mp3', 'keroncong/keroncong.0068.mp3', 'keroncong/keroncong.0069.mp3', 'keroncong/keroncong.0073.mp3', 'keroncong/keroncong.0074.mp3', 'keroncong/keroncong.0075.mp3', 'keroncong/keroncong.0076.mp3', 'keroncong/keroncong.0077.mp3', 'keroncong/keroncong.0078.mp3', 'keroncong/keroncong.0079.mp3', 'keroncong/keroncong.0080.mp3', 'keroncong/keroncong.0085.mp3', 'keroncong/keroncong.0086.mp3', 'keroncong/keroncong.0087.mp3', 'keroncong/keroncong.0088.mp3', 'keroncong/keroncong.0089.mp3', 'keroncong/keroncong.0090.mp3', 'keroncong/keroncong.0091.mp3', 'keroncong/keroncong.0097.mp3', 'keroncong/keroncong.0098.mp3', 'keroncong/keroncong.0099.mp3', 'keroncong/keroncong.0100.mp3', 'keroncong/keroncong.0101.mp3', 'keroncong/keroncong.0102.mp3', 'keroncong/keroncong.0106.mp3', 'keroncong/keroncong.0107.mp3', 'keroncong/keroncong.0108.mp3', 'keroncong/keroncong.0109.mp3', 'keroncong/keroncong.0110.mp3', 'keroncong/keroncong.0111.mp3', 'keroncong/keroncong.0112.mp3', 'keroncong/keroncong.0115.mp3', 'keroncong/keroncong.0117.mp3', 'keroncong/keroncong.0118.mp3', 'keroncong/keroncong.0119.mp3', 'keroncong/keroncong.0120.mp3', 'keroncong/keroncong.0121.mp3', 'keroncong/keroncong.0122.mp3', 'keroncong/keroncong.0126.mp3', 'keroncong/keroncong.0127.mp3', 'keroncong/keroncong.0128.mp3', 'keroncong/keroncong.0129.mp3', 'keroncong/keroncong.0130.mp3', 'keroncong/keroncong.0134.mp3', 'keroncong/keroncong.0135.mp3', 'keroncong/keroncong.0136.mp3', 'keroncong/keroncong.0137.mp3', 'keroncong/keroncong.0138.mp3', 'keroncong/keroncong.0139.mp3', 'keroncong/keroncong.0140.mp3', 'keroncong/keroncong.0141.mp3', 'keroncong/keroncong.0142.mp3', 'keroncong/keroncong.0143.mp3', 'keroncong/keroncong.0144.mp3', 'keroncong/keroncong.0146.mp3', 'keroncong/keroncong.0147.mp3', 'keroncong/keroncong.0148.mp3', 'keroncong/keroncong.0149.mp3', 'keroncong/keroncong.0150.mp3', 'keroncong/keroncong.0151.mp3', 'keroncong/keroncong.0152.mp3', 'keroncong/keroncong.0154.mp3', 'keroncong/keroncong.0155.mp3', 'keroncong/keroncong.0156.mp3', 'keroncong/keroncong.0157.mp3', 'keroncong/keroncong.0160.mp3', 'keroncong/keroncong.0161.mp3', 'keroncong/keroncong.0162.mp3', 'keroncong/keroncong.0164.mp3', 'keroncong/keroncong.0165.mp3', 'keroncong/keroncong.0166.mp3', 'keroncong/keroncong.0167.mp3', 'keroncong/keroncong.0168.mp3', 'keroncong/keroncong.0169.mp3', 'keroncong/keroncong.0170.mp3', 'keroncong/keroncong.0171.mp3', 'keroncong/keroncong.0172.mp3', 'keroncong/keroncong.0173.mp3', 'keroncong/keroncong.0174.mp3', 'keroncong/keroncong.0175.mp3', 'keroncong/keroncong.0176.mp3', 'keroncong/keroncong.0177.mp3', 'keroncong/keroncong.0179.mp3', 'keroncong/keroncong.0180.mp3', 'keroncong/keroncong.0181.mp3', 'keroncong/keroncong.0182.mp3', 'keroncong/keroncong.0183.mp3', 'keroncong/keroncong.0184.mp3', 'keroncong/keroncong.0185.mp3', 'keroncong/keroncong.0188.mp3', 'keroncong/keroncong.0190.mp3', 'keroncong/keroncong.0191.mp3', 'keroncong/keroncong.0192.mp3', 'keroncong/keroncong.0193.mp3', 'keroncong/keroncong.0195.mp3', 'keroncong/keroncong.0196.mp3', 'keroncong/keroncong.0198.mp3', 'keroncong/keroncong.0200.mp3', 'keroncong/keroncong.0201.mp3', 'keroncong/keroncong.0202.mp3', 'keroncong/keroncong.0203.mp3', 'keroncong/keroncong.0204.mp3', 'keroncong/keroncong.0205.mp3', 'keroncong/keroncong.0206.mp3', 'keroncong/keroncong.0207.mp3', 'keroncong/keroncong.0208.mp3', 'keroncong/keroncong.0209.mp3', 'keroncong/keroncong.0210.mp3', 'keroncong/keroncong.0211.mp3', 'keroncong/keroncong.0216.mp3', 'keroncong/keroncong.0217.mp3', 'keroncong/keroncong.0218.mp3', 'keroncong/keroncong.0219.mp3', 'keroncong/keroncong.0220.mp3', 'keroncong/keroncong.0221.mp3', 'keroncong/keroncong.0223.mp3', 'keroncong/keroncong.0224.mp3', 'keroncong/keroncong.0225.mp3', 'keroncong/keroncong.0226.mp3', 'keroncong/keroncong.0227.mp3', 'keroncong/keroncong.0228.mp3', 'keroncong/keroncong.0229.mp3', 'keroncong/keroncong.0230.mp3', 'keroncong/keroncong.0234.mp3', 'keroncong/keroncong.0235.mp3', 'keroncong/keroncong.0236.mp3', 'keroncong/keroncong.0237.mp3', 'keroncong/keroncong.0239.mp3', 'keroncong/keroncong.0242.mp3', 'keroncong/keroncong.0243.mp3', 'keroncong/keroncong.0244.mp3', 'keroncong/keroncong.0245.mp3', 'keroncong/keroncong.0247.mp3', 'keroncong/keroncong.0248.mp3', 'keroncong/keroncong.0251.mp3', 'keroncong/keroncong.0252.mp3', 'keroncong/keroncong.0253.mp3', 'keroncong/keroncong.0254.mp3', 'keroncong/keroncong.0255.mp3', 'keroncong/keroncong.0256.mp3', 'keroncong/keroncong.0257.mp3', 'keroncong/keroncong.0261.mp3', 'keroncong/keroncong.0262.mp3', 'keroncong/keroncong.0263.mp3', 'keroncong/keroncong.0264.mp3', 'keroncong/keroncong.0265.mp3', 'keroncong/keroncong.0266.mp3', 'keroncong/keroncong.0268.mp3', 'keroncong/keroncong.0269.mp3', 'keroncong/keroncong.0270.mp3', 'keroncong/keroncong.0271.mp3', 'keroncong/keroncong.0272.mp3', 'keroncong/keroncong.0273.mp3', 'campursari/campursari.0002.mp3', 'campursari/campursari.0003.mp3', 'campursari/campursari.0004.mp3', 'campursari/campursari.0005.mp3', 'campursari/campursari.0006.mp3', 'campursari/campursari.0007.mp3', 'campursari/campursari.0011.mp3', 'campursari/campursari.0012.mp3', 'campursari/campursari.0013.mp3', 'campursari/campursari.0014.mp3', 'campursari/campursari.0015.mp3', 'campursari/campursari.0016.mp3', 'campursari/campursari.0019.mp3', 'campursari/campursari.0020.mp3', 'campursari/campursari.0021.mp3', 'campursari/campursari.0022.mp3', 'campursari/campursari.0023.mp3', 'campursari/campursari.0024.mp3', 'campursari/campursari.0025.mp3', 'campursari/campursari.0029.mp3', 'campursari/campursari.0030.mp3', 'campursari/campursari.0031.mp3', 'campursari/campursari.0032.mp3', 'campursari/campursari.0033.mp3', 'campursari/campursari.0034.mp3', 'campursari/campursari.0036.mp3', 'campursari/campursari.0037.mp3', 'campursari/campursari.0038.mp3', 'campursari/campursari.0039.mp3', 'campursari/campursari.0040.mp3', 'campursari/campursari.0044.mp3', 'campursari/campursari.0045.mp3', 'campursari/campursari.0046.mp3', 'campursari/campursari.0047.mp3', 'campursari/campursari.0048.mp3', 'campursari/campursari.0049.mp3', 'campursari/campursari.0050.mp3', 'campursari/campursari.0051.mp3', 'campursari/campursari.0056.mp3', 'campursari/campursari.0057.mp3', 'campursari/campursari.0058.mp3', 'campursari/campursari.0059.mp3', 'campursari/campursari.0060.mp3', 'campursari/campursari.0065.mp3', 'campursari/campursari.0066.mp3', 'campursari/campursari.0067.mp3', 'campursari/campursari.0068.mp3', 'campursari/campursari.0069.mp3', 'campursari/campursari.0073.mp3', 'campursari/campursari.0074.mp3', 'campursari/campursari.0075.mp3', 'campursari/campursari.0076.mp3', 'campursari/campursari.0077.mp3', 'campursari/campursari.0078.mp3', 'campursari/campursari.0084.mp3', 'campursari/campursari.0085.mp3', 'campursari/campursari.0086.mp3', 'campursari/campursari.0087.mp3', 'campursari/campursari.0088.mp3', 'campursari/campursari.0089.mp3', 'campursari/campursari.0093.mp3', 'campursari/campursari.0094.mp3', 'campursari/campursari.0095.mp3', 'campursari/campursari.0096.mp3', 'campursari/campursari.0097.mp3', 'campursari/campursari.0098.mp3', 'campursari/campursari.0104.mp3', 'campursari/campursari.0105.mp3', 'campursari/campursari.0106.mp3', 'campursari/campursari.0107.mp3', 'campursari/campursari.0108.mp3', 'campursari/campursari.0109.mp3', 'campursari/campursari.0111.mp3', 'campursari/campursari.0112.mp3', 'campursari/campursari.0113.mp3', 'campursari/campursari.0115.mp3', 'campursari/campursari.0117.mp3', 'campursari/campursari.0118.mp3', 'campursari/campursari.0119.mp3', 'campursari/campursari.0120.mp3', 'campursari/campursari.0121.mp3', 'campursari/campursari.0122.mp3', 'campursari/campursari.0124.mp3', 'campursari/campursari.0125.mp3', 'campursari/campursari.0126.mp3', 'campursari/campursari.0127.mp3', 'campursari/campursari.0128.mp3', 'campursari/campursari.0131.mp3', 'campursari/campursari.0132.mp3', 'campursari/campursari.0133.mp3', 'campursari/campursari.0134.mp3', 'campursari/campursari.0135.mp3', 'campursari/campursari.0136.mp3', 'campursari/campursari.0138.mp3', 'campursari/campursari.0139.mp3', 'campursari/campursari.0140.mp3', 'campursari/campursari.0141.mp3', 'campursari/campursari.0142.mp3', 'campursari/campursari.0143.mp3', 'campursari/campursari.0145.mp3', 'campursari/campursari.0146.mp3', 'campursari/campursari.0148.mp3', 'campursari/campursari.0149.mp3', 'campursari/campursari.0150.mp3', 'campursari/campursari.0151.mp3', 'campursari/campursari.0154.mp3', 'campursari/campursari.0156.mp3', 'campursari/campursari.0157.mp3', 'campursari/campursari.0158.mp3', 'campursari/campursari.0159.mp3', 'campursari/campursari.0160.mp3', 'campursari/campursari.0164.mp3', 'campursari/campursari.0165.mp3', 'campursari/campursari.0166.mp3', 'campursari/campursari.0167.mp3', 'campursari/campursari.0168.mp3', 'campursari/campursari.0173.mp3', 'campursari/campursari.0174.mp3', 'campursari/campursari.0175.mp3', 'campursari/campursari.0176.mp3', 'campursari/campursari.0177.mp3', 'campursari/campursari.0178.mp3', 'campursari/campursari.0181.mp3', 'campursari/campursari.0183.mp3', 'campursari/campursari.0184.mp3', 'campursari/campursari.0185.mp3', 'campursari/campursari.0186.mp3', 'campursari/campursari.0187.mp3', 'campursari/campursari.0188.mp3', 'campursari/campursari.0191.mp3', 'campursari/campursari.0192.mp3', 'campursari/campursari.0193.mp3', 'campursari/campursari.0194.mp3', 'campursari/campursari.0196.mp3', 'campursari/campursari.0202.mp3', 'campursari/campursari.0203.mp3', 'campursari/campursari.0204.mp3', 'campursari/campursari.0205.mp3', 'campursari/campursari.0206.mp3', 'campursari/campursari.0207.mp3', 'campursari/campursari.0212.mp3', 'campursari/campursari.0213.mp3', 'campursari/campursari.0214.mp3', 'campursari/campursari.0215.mp3', 'campursari/campursari.0216.mp3', 'campursari/campursari.0217.mp3', 'campursari/campursari.0218.mp3', 'campursari/campursari.0224.mp3', 'campursari/campursari.0225.mp3', 'campursari/campursari.0226.mp3', 'campursari/campursari.0227.mp3', 'campursari/campursari.0228.mp3', 'campursari/campursari.0233.mp3', 'campursari/campursari.0234.mp3', 'campursari/campursari.0235.mp3', 'campursari/campursari.0236.mp3', 'campursari/campursari.0237.mp3', 'campursari/campursari.0242.mp3', 'campursari/campursari.0243.mp3', 'campursari/campursari.0244.mp3', 'campursari/campursari.0245.mp3', 'campursari/campursari.0246.mp3', 'campursari/campursari.0247.mp3', 'campursari/campursari.0248.mp3', 'campursari/campursari.0249.mp3', 'campursari/campursari.0252.mp3', 'campursari/campursari.0253.mp3', 'campursari/campursari.0254.mp3', 'campursari/campursari.0255.mp3', 'campursari/campursari.0256.mp3', 'campursari/campursari.0261.mp3', 'campursari/campursari.0262.mp3', 'campursari/campursari.0263.mp3', 'campursari/campursari.0264.mp3', 'campursari/campursari.0265.mp3', 'campursari/campursari.0268.mp3', 'campursari/campursari.0269.mp3', 'campursari/campursari.0270.mp3', 'campursari/campursari.0271.mp3', 'campursari/campursari.0272.mp3', 'campursari/campursari.0273.mp3', 'campursari/campursari.0274.mp3', 'campursari/campursari.0278.mp3', 'campursari/campursari.0279.mp3', 'campursari/campursari.0280.mp3', 'campursari/campursari.0281.mp3', 'campursari/campursari.0282.mp3', 'campursari/campursari.0283.mp3', 'campursari/campursari.0286.mp3', 'campursari/campursari.0290.mp3', 'campursari/campursari.0291.mp3', 'campursari/campursari.0292.mp3', 'campursari/campursari.0293.mp3', 'campursari/campursari.0294.mp3', 'campursari/campursari.0301.mp3', 'campursari/campursari.0302.mp3', 'campursari/campursari.0303.mp3', 'campursari/campursari.0304.mp3', 'campursari/campursari.0305.mp3', 'campursari/campursari.0306.mp3', 'dangdut/dangdut.0001.mp3', 'dangdut/dangdut.0002.mp3', 'dangdut/dangdut.0003.mp3', 'dangdut/dangdut.0004.mp3', 'dangdut/dangdut.0005.mp3', 'dangdut/dangdut.0012.mp3', 'dangdut/dangdut.0013.mp3', 'dangdut/dangdut.0014.mp3', 'dangdut/dangdut.0017.mp3', 'dangdut/dangdut.0019.mp3', 'dangdut/dangdut.0020.mp3', 'dangdut/dangdut.0021.mp3', 'dangdut/dangdut.0022.mp3', 'dangdut/dangdut.0024.mp3', 'dangdut/dangdut.0025.mp3', 'dangdut/dangdut.0026.mp3', 'dangdut/dangdut.0027.mp3', 'dangdut/dangdut.0028.mp3', 'dangdut/dangdut.0029.mp3', 'dangdut/dangdut.0030.mp3', 'dangdut/dangdut.0035.mp3', 'dangdut/dangdut.0036.mp3', 'dangdut/dangdut.0037.mp3', 'dangdut/dangdut.0038.mp3', 'dangdut/dangdut.0039.mp3', 'dangdut/dangdut.0041.mp3', 'dangdut/dangdut.0043.mp3', 'dangdut/dangdut.0044.mp3', 'dangdut/dangdut.0045.mp3', 'dangdut/dangdut.0046.mp3', 'dangdut/dangdut.0047.mp3', 'dangdut/dangdut.0048.mp3', 'dangdut/dangdut.0049.mp3', 'dangdut/dangdut.0050.mp3', 'dangdut/dangdut.0052.mp3', 'dangdut/dangdut.0056.mp3', 'dangdut/dangdut.0057.mp3', 'dangdut/dangdut.0058.mp3', 'dangdut/dangdut.0059.mp3', 'dangdut/dangdut.0060.mp3', 'dangdut/dangdut.0064.mp3', 'dangdut/dangdut.0066.mp3', 'dangdut/dangdut.0067.mp3', 'dangdut/dangdut.0068.mp3', 'dangdut/dangdut.0069.mp3', 'dangdut/dangdut.0070.mp3', 'dangdut/dangdut.0071.mp3', 'dangdut/dangdut.0075.mp3', 'dangdut/dangdut.0076.mp3', 'dangdut/dangdut.0077.mp3', 'dangdut/dangdut.0078.mp3', 'dangdut/dangdut.0079.mp3', 'dangdut/dangdut.0080.mp3', 'dangdut/dangdut.0081.mp3', 'dangdut/dangdut.0082.mp3', 'dangdut/dangdut.0085.mp3', 'dangdut/dangdut.0086.mp3', 'dangdut/dangdut.0089.mp3', 'dangdut/dangdut.0090.mp3', 'dangdut/dangdut.0091.mp3', 'dangdut/dangdut.0092.mp3', 'dangdut/dangdut.0093.mp3', 'dangdut/dangdut.0094.mp3', 'dangdut/dangdut.0097.mp3', 'dangdut/dangdut.0098.mp3', 'dangdut/dangdut.0102.mp3', 'dangdut/dangdut.0103.mp3', 'dangdut/dangdut.0104.mp3', 'dangdut/dangdut.0105.mp3', 'dangdut/dangdut.0106.mp3', 'dangdut/dangdut.0109.mp3', 'dangdut/dangdut.0110.mp3', 'dangdut/dangdut.0111.mp3', 'dangdut/dangdut.0112.mp3', 'dangdut/dangdut.0113.mp3', 'dangdut/dangdut.0119.mp3', 'dangdut/dangdut.0120.mp3', 'dangdut/dangdut.0121.mp3', 'dangdut/dangdut.0122.mp3', 'dangdut/dangdut.0123.mp3', 'dangdut/dangdut.0124.mp3', 'dangdut/dangdut.0125.mp3', 'dangdut/dangdut.0128.mp3', 'dangdut/dangdut.0129.mp3', 'dangdut/dangdut.0130.mp3', 'dangdut/dangdut.0131.mp3', 'dangdut/dangdut.0132.mp3', 'dangdut/dangdut.0133.mp3', 'dangdut/dangdut.0134.mp3', 'dangdut/dangdut.0135.mp3', 'dangdut/dangdut.0136.mp3', 'dangdut/dangdut.0137.mp3', 'dangdut/dangdut.0138.mp3', 'dangdut/dangdut.0139.mp3', 'dangdut/dangdut.0140.mp3', 'dangdut/dangdut.0144.mp3', 'dangdut/dangdut.0145.mp3', 'dangdut/dangdut.0146.mp3', 'dangdut/dangdut.0147.mp3', 'dangdut/dangdut.0148.mp3', 'dangdut/dangdut.0149.mp3', 'dangdut/dangdut.0150.mp3', 'dangdut/dangdut.0152.mp3', 'dangdut/dangdut.0154.mp3', 'dangdut/dangdut.0155.mp3', 'dangdut/dangdut.0156.mp3', 'dangdut/dangdut.0157.mp3', 'dangdut/dangdut.0158.mp3', 'dangdut/dangdut.0159.mp3', 'dangdut/dangdut.0160.mp3', 'dangdut/dangdut.0167.mp3', 'dangdut/dangdut.0168.mp3', 'dangdut/dangdut.0169.mp3', 'dangdut/dangdut.0170.mp3', 'dangdut/dangdut.0171.mp3', 'dangdut/dangdut.0172.mp3', 'dangdut/dangdut.0173.mp3', 'dangdut/dangdut.0175.mp3', 'dangdut/dangdut.0176.mp3', 'dangdut/dangdut.0180.mp3', 'dangdut/dangdut.0181.mp3', 'dangdut/dangdut.0182.mp3', 'dangdut/dangdut.0183.mp3', 'dangdut/dangdut.0184.mp3', 'dangdut/dangdut.0185.mp3', 'dangdut/dangdut.0186.mp3', 'dangdut/dangdut.0192.mp3', 'dangdut/dangdut.0193.mp3', 'dangdut/dangdut.0194.mp3', 'dangdut/dangdut.0195.mp3', 'dangdut/dangdut.0196.mp3', 'dangdut/dangdut.0197.mp3', 'dangdut/dangdut.0198.mp3', 'dangdut/dangdut.0200.mp3', 'dangdut/dangdut.0201.mp3', 'dangdut/dangdut.0202.MP3', 'dangdut/dangdut.0205.MP3', 'dangdut/dangdut.0206.MP3', 'dangdut/dangdut.0207.MP3', 'dangdut/dangdut.0208.MP3', 'dangdut/dangdut.0210.MP3', 'dangdut/dangdut.0214.MP3', 'dangdut/dangdut.0215.MP3', 'dangdut/dangdut.0216.MP3', 'dangdut/dangdut.0217.MP3', 'dangdut/dangdut.0218.MP3', 'dangdut/dangdut.0219.MP3', 'dangdut/dangdut.0220.MP3', 'dangdut/dangdut.0221.MP3', 'dangdut/dangdut.0224.MP3', 'dangdut/dangdut.0225.MP3', 'dangdut/dangdut.0226.MP3', 'dangdut/dangdut.0227.MP3', 'dangdut/dangdut.0228.MP3', 'dangdut/dangdut.0232.MP3', 'dangdut/dangdut.0234.MP3', 'dangdut/dangdut.0235.MP3', 'dangdut/dangdut.0236.MP3', 'dangdut/dangdut.0237.MP3', 'dangdut/dangdut.0238.MP3', 'dangdut/dangdut.0239.MP3', 'dangdut/dangdut.0242.MP3', 'dangdut/dangdut.0245.MP3', 'dangdut/dangdut.0246.MP3', 'dangdut/dangdut.0247.MP3', 'dangdut/dangdut.0248.MP3', 'dangdut/dangdut.0249.MP3', 'dangdut/dangdut.0250.MP3', 'dangdut/dangdut.0253.mp3', 'dangdut/dangdut.0254.mp3', 'dangdut/dangdut.0255.mp3', 'dangdut/dangdut.0256.mp3', 'dangdut/dangdut.0257.mp3', 'dangdut/dangdut.0258.mp3', 'dangdut/dangdut.0260.mp3', 'dangdut/dangdut.0261.mp3', 'dangdut/dangdut.0265.mp3', 'dangdut/dangdut.0266.mp3', 'dangdut/dangdut.0267.mp3', 'dangdut/dangdut.0268.mp3', 'dangdut/dangdut.0269.mp3', 'dangdut/dangdut.0270.mp3', 'dangdut/dangdut.0272.mp3', 'dangdut/dangdut.0273.mp3', 'dangdut/dangdut.0274.mp3', 'dangdut/dangdut.0275.mp3', 'dangdut/dangdut.0276.mp3', 'dangdut/dangdut.0280.mp3', 'dangdut/dangdut.0281.mp3', 'dangdut/dangdut.0282.mp3', 'dangdut/dangdut.0283.mp3', 'dangdut/dangdut.0284.mp3', 'dangdut/dangdut.0286.mp3', 'dangdut/dangdut.0287.mp3', 'dangdut/dangdut.0290.mp3', 'dangdut/dangdut.0292.mp3', 'dangdut/dangdut.0293.mp3', 'dangdut/dangdut.0294.mp3', 'dangdut/dangdut.0295.mp3', 'dangdut/dangdut.0296.mp3']\n"
     ]
    }
   ],
   "source": [
    "# create list of filenames with associated classes\n",
    "filelist = metadata.index.tolist()\n",
    "classes = metadata[1].values.tolist()\n",
    "print (filelist)"
   ]
  },
  {
   "cell_type": "markdown",
   "metadata": {
    "colab_type": "text",
    "id": "mSmjDjF-D5K3"
   },
   "source": [
    "## Encode Labels to Numbers\n",
    "\n",
    "String labels need to be encoded as numbers. We use the LabelEncoder from the scikit-learn package."
   ]
  },
  {
   "cell_type": "code",
   "execution_count": 80,
   "metadata": {
    "colab": {
     "base_uri": "https://localhost:8080/",
     "height": 183
    },
    "colab_type": "code",
    "executionInfo": {
     "elapsed": 954,
     "status": "ok",
     "timestamp": 1557641506075,
     "user": {
      "displayName": "saesa rahmike",
      "photoUrl": "",
      "userId": "16840703955574169797"
     },
     "user_tz": -420
    },
    "id": "vX5LVCNDD5K6",
    "outputId": "f4b44758-7ba7-4a5d-ba04-e26d916161e2",
    "scrolled": true
   },
   "outputs": [
    {
     "data": {
      "text/plain": [
       "['keroncong',\n",
       " 'keroncong',\n",
       " 'keroncong',\n",
       " 'keroncong',\n",
       " 'keroncong',\n",
       " 'keroncong',\n",
       " 'keroncong',\n",
       " 'keroncong',\n",
       " 'keroncong',\n",
       " 'keroncong']"
      ]
     },
     "execution_count": 80,
     "metadata": {},
     "output_type": "execute_result"
    }
   ],
   "source": [
    "classes[190:200]"
   ]
  },
  {
   "cell_type": "code",
   "execution_count": 81,
   "metadata": {
    "colab": {
     "base_uri": "https://localhost:8080/",
     "height": 1667
    },
    "colab_type": "code",
    "executionInfo": {
     "elapsed": 874,
     "status": "ok",
     "timestamp": 1557641505014,
     "user": {
      "displayName": "saesa rahmike",
      "photoUrl": "",
      "userId": "16840703955574169797"
     },
     "user_tz": -420
    },
    "id": "ujPimvwFD5LH",
    "outputId": "e11b24d7-aecb-4c83-f8ca-d4dde1049a26",
    "scrolled": true
   },
   "outputs": [
    {
     "data": {
      "text/plain": [
       "['dangdut',\n",
       " 'dangdut',\n",
       " 'dangdut',\n",
       " 'dangdut',\n",
       " 'dangdut',\n",
       " 'dangdut',\n",
       " 'dangdut',\n",
       " 'dangdut',\n",
       " 'dangdut',\n",
       " 'dangdut',\n",
       " 'dangdut',\n",
       " 'dangdut',\n",
       " 'dangdut',\n",
       " 'dangdut',\n",
       " 'dangdut',\n",
       " 'dangdut',\n",
       " 'dangdut',\n",
       " 'dangdut',\n",
       " 'dangdut',\n",
       " 'dangdut',\n",
       " 'dangdut',\n",
       " 'dangdut',\n",
       " 'dangdut',\n",
       " 'dangdut',\n",
       " 'dangdut',\n",
       " 'dangdut',\n",
       " 'dangdut',\n",
       " 'dangdut',\n",
       " 'dangdut',\n",
       " 'dangdut',\n",
       " 'dangdut',\n",
       " 'dangdut',\n",
       " 'dangdut',\n",
       " 'dangdut',\n",
       " 'dangdut',\n",
       " 'dangdut',\n",
       " 'dangdut',\n",
       " 'dangdut',\n",
       " 'dangdut',\n",
       " 'dangdut',\n",
       " 'dangdut',\n",
       " 'dangdut',\n",
       " 'dangdut',\n",
       " 'dangdut',\n",
       " 'dangdut',\n",
       " 'dangdut',\n",
       " 'dangdut',\n",
       " 'dangdut',\n",
       " 'dangdut',\n",
       " 'dangdut',\n",
       " 'dangdut',\n",
       " 'dangdut',\n",
       " 'dangdut',\n",
       " 'dangdut',\n",
       " 'dangdut',\n",
       " 'dangdut',\n",
       " 'dangdut',\n",
       " 'dangdut',\n",
       " 'dangdut',\n",
       " 'dangdut',\n",
       " 'dangdut',\n",
       " 'dangdut',\n",
       " 'dangdut',\n",
       " 'dangdut',\n",
       " 'dangdut',\n",
       " 'dangdut',\n",
       " 'dangdut',\n",
       " 'dangdut',\n",
       " 'dangdut',\n",
       " 'dangdut',\n",
       " 'dangdut',\n",
       " 'dangdut',\n",
       " 'dangdut',\n",
       " 'dangdut',\n",
       " 'dangdut',\n",
       " 'dangdut',\n",
       " 'dangdut',\n",
       " 'dangdut',\n",
       " 'dangdut',\n",
       " 'dangdut',\n",
       " 'dangdut',\n",
       " 'dangdut',\n",
       " 'dangdut',\n",
       " 'dangdut',\n",
       " 'dangdut',\n",
       " 'dangdut',\n",
       " 'dangdut',\n",
       " 'dangdut',\n",
       " 'dangdut',\n",
       " 'dangdut',\n",
       " 'dangdut',\n",
       " 'dangdut',\n",
       " 'dangdut',\n",
       " 'dangdut',\n",
       " 'dangdut',\n",
       " 'dangdut',\n",
       " 'dangdut',\n",
       " 'dangdut',\n",
       " 'dangdut']"
      ]
     },
     "execution_count": 81,
     "metadata": {},
     "output_type": "execute_result"
    }
   ],
   "source": [
    "classes[500:599]"
   ]
  },
  {
   "cell_type": "code",
   "execution_count": 82,
   "metadata": {
    "colab": {
     "base_uri": "https://localhost:8080/",
     "height": 33
    },
    "colab_type": "code",
    "executionInfo": {
     "elapsed": 819,
     "status": "ok",
     "timestamp": 1557643767591,
     "user": {
      "displayName": "saesa rahmike",
      "photoUrl": "",
      "userId": "16840703955574169797"
     },
     "user_tz": -420
    },
    "id": "oOqqkDLRD5Lc",
    "outputId": "d9e2a9a2-9515-46f1-e8f8-fcd1125a10b0",
    "scrolled": true
   },
   "outputs": [
    {
     "name": "stdout",
     "output_type": "stream",
     "text": [
      "3 kelas: campursari , dangdut, keroncong\n"
     ]
    }
   ],
   "source": [
    "from sklearn.preprocessing import LabelEncoder\n",
    "\n",
    "labelencoder = LabelEncoder()\n",
    "labelencoder.fit(classes)\n",
    "\n",
    "# we keep (and print) the number of classis\n",
    "n_classes = len(labelencoder.classes_)\n",
    "print(n_classes, \"kelas:\", \", \".join(list(labelencoder.classes_)))\n",
    "\n",
    "classes_num = labelencoder.transform(classes)"
   ]
  },
  {
   "cell_type": "markdown",
   "metadata": {
    "colab_type": "text",
    "id": "dArM6vABD5Lu"
   },
   "source": [
    "We check how the classes look like now numerically:"
   ]
  },
  {
   "cell_type": "code",
   "execution_count": 83,
   "metadata": {
    "colab": {
     "base_uri": "https://localhost:8080/",
     "height": 33
    },
    "colab_type": "code",
    "executionInfo": {
     "elapsed": 793,
     "status": "ok",
     "timestamp": 1557641510922,
     "user": {
      "displayName": "saesa rahmike",
      "photoUrl": "",
      "userId": "16840703955574169797"
     },
     "user_tz": -420
    },
    "id": "5pGjcIa1D5Lx",
    "outputId": "48ba2617-9c40-4364-e69b-455784ccbd35"
   },
   "outputs": [
    {
     "data": {
      "text/plain": [
       "2"
      ]
     },
     "execution_count": 83,
     "metadata": {},
     "output_type": "execute_result"
    }
   ],
   "source": [
    "classes_num[1]"
   ]
  },
  {
   "cell_type": "code",
   "execution_count": 84,
   "metadata": {
    "colab": {
     "base_uri": "https://localhost:8080/",
     "height": 33
    },
    "colab_type": "code",
    "executionInfo": {
     "elapsed": 991,
     "status": "ok",
     "timestamp": 1557641512014,
     "user": {
      "displayName": "saesa rahmike",
      "photoUrl": "",
      "userId": "16840703955574169797"
     },
     "user_tz": -420
    },
    "id": "QuJUnIZXD5L9",
    "outputId": "7e67c92f-7180-4aed-fa39-1d3d63700d22"
   },
   "outputs": [
    {
     "data": {
      "text/plain": [
       "1"
      ]
     },
     "execution_count": 84,
     "metadata": {},
     "output_type": "execute_result"
    }
   ],
   "source": [
    "classes_num[599]"
   ]
  },
  {
   "cell_type": "markdown",
   "metadata": {
    "colab_type": "text",
    "id": "NHngmSe7D5MH"
   },
   "source": [
    "Note: In order to correctly re-transform any predicted numbers into strings, we keep the labelencoder for later."
   ]
  },
  {
   "cell_type": "code",
   "execution_count": 85,
   "metadata": {
    "colab": {
     "base_uri": "https://localhost:8080/",
     "height": 220
    },
    "colab_type": "code",
    "executionInfo": {
     "elapsed": 1107,
     "status": "ok",
     "timestamp": 1557641513223,
     "user": {
      "displayName": "saesa rahmike",
      "photoUrl": "",
      "userId": "16840703955574169797"
     },
     "user_tz": -420
    },
    "id": "8hEP_j-8D5MK",
    "outputId": "2bfbc49e-e937-4870-ece9-6de237248cdd"
   },
   "outputs": [
    {
     "name": "stderr",
     "output_type": "stream",
     "text": [
      "c:\\users\\asus\\anaconda3\\envs\\cnn_sae\\lib\\site-packages\\sklearn\\preprocessing\\_encoders.py:414: FutureWarning: The handling of integer data will change in version 0.22. Currently, the categories are determined based on the range [0, max(values)], while in the future they will be determined based on the unique values.\n",
      "If you want the future behaviour and silence this warning, you can specify \"categories='auto'\".\n",
      "In case you used a LabelEncoder before this OneHotEncoder to convert the categories to integers, then you can now use the OneHotEncoder directly.\n",
      "  warnings.warn(msg, FutureWarning)\n"
     ]
    },
    {
     "data": {
      "text/plain": [
       "array([[0., 0., 1.],\n",
       "       [0., 0., 1.],\n",
       "       [0., 0., 1.],\n",
       "       [0., 0., 1.],\n",
       "       [0., 0., 1.],\n",
       "       [0., 0., 1.],\n",
       "       [0., 0., 1.],\n",
       "       [0., 0., 1.],\n",
       "       [0., 0., 1.],\n",
       "       [0., 0., 1.],\n",
       "       ...,\n",
       "       [0., 1., 0.],\n",
       "       [0., 1., 0.],\n",
       "       [0., 1., 0.],\n",
       "       [0., 1., 0.],\n",
       "       [0., 1., 0.],\n",
       "       [0., 1., 0.],\n",
       "       [0., 1., 0.],\n",
       "       [0., 1., 0.],\n",
       "       [0., 1., 0.],\n",
       "       [0., 1., 0.]])"
      ]
     },
     "execution_count": 85,
     "metadata": {},
     "output_type": "execute_result"
    }
   ],
   "source": [
    "from sklearn.preprocessing import OneHotEncoder\n",
    "\n",
    "# make a row vector a column vector, as needed by OneHotEncoder, using reshape(-1,1) \n",
    "classes_num_col = classes_num.reshape(-1, 1)\n",
    "\n",
    "encoder = OneHotEncoder(sparse=False)\n",
    "classes_num_1hot = encoder.fit_transform(classes_num_col)\n",
    "classes_num_1hot"
   ]
  },
  {
   "cell_type": "code",
   "execution_count": 86,
   "metadata": {
    "colab": {
     "base_uri": "https://localhost:8080/",
     "height": 33
    },
    "colab_type": "code",
    "executionInfo": {
     "elapsed": 512,
     "status": "ok",
     "timestamp": 1557641514474,
     "user": {
      "displayName": "saesa rahmike",
      "photoUrl": "",
      "userId": "16840703955574169797"
     },
     "user_tz": -420
    },
    "id": "FQ-nqkhID5MW",
    "outputId": "13f2ce7c-2b43-427e-b50c-59601c2fe477"
   },
   "outputs": [
    {
     "data": {
      "text/plain": [
       "(600, 3)"
      ]
     },
     "execution_count": 86,
     "metadata": {},
     "output_type": "execute_result"
    }
   ],
   "source": [
    "classes_num_1hot.shape"
   ]
  },
  {
   "cell_type": "markdown",
   "metadata": {
    "colab_type": "text",
    "id": "fFksOqHrD5Mh"
   },
   "source": [
    "## Load the Audio Files"
   ]
  },
  {
   "cell_type": "code",
   "execution_count": 93,
   "metadata": {
    "colab": {
     "base_uri": "https://localhost:8080/",
     "height": 10050
    },
    "colab_type": "code",
    "executionInfo": {
     "elapsed": 1682,
     "status": "ok",
     "timestamp": 1557642075722,
     "user": {
      "displayName": "saesa rahmike",
      "photoUrl": "",
      "userId": "16840703955574169797"
     },
     "user_tz": -420
    },
    "id": "SyDI-98_D5Ml",
    "outputId": "0a0d3017-493d-4f4b-b6a2-073b2b67eeeb"
   },
   "outputs": [
    {
     "name": "stdout",
     "output_type": "stream",
     "text": [
      ".\n",
      "./data/mp3/keroncong/keroncong.0001.mp3\n"
     ]
    },
    {
     "ename": "TypeError",
     "evalue": "'float' object cannot be interpreted as an integer",
     "output_type": "error",
     "traceback": [
      "\u001b[1;31m---------------------------------------------------------------------------\u001b[0m",
      "\u001b[1;31mTypeError\u001b[0m                                 Traceback (most recent call last)",
      "\u001b[1;32m<ipython-input-93-76cbc416382b>\u001b[0m in \u001b[0;36m<module>\u001b[1;34m\u001b[0m\n\u001b[0;32m     35\u001b[0m \u001b[1;33m\u001b[0m\u001b[0m\n\u001b[0;32m     36\u001b[0m     \u001b[1;31m# 1) FFT spectrogram\u001b[0m\u001b[1;33m\u001b[0m\u001b[1;33m\u001b[0m\u001b[0m\n\u001b[1;32m---> 37\u001b[1;33m     \u001b[0mspectrogram\u001b[0m \u001b[1;33m=\u001b[0m \u001b[0mint\u001b[0m\u001b[1;33m(\u001b[0m\u001b[0mrp\u001b[0m\u001b[1;33m.\u001b[0m\u001b[0mcalc_spectrogram\u001b[0m\u001b[1;33m(\u001b[0m\u001b[0mwav_segment\u001b[0m\u001b[1;33m,\u001b[0m\u001b[0mfft_window_size\u001b[0m\u001b[1;33m,\u001b[0m\u001b[0mfft_overlap\u001b[0m\u001b[1;33m)\u001b[0m\u001b[1;33m)\u001b[0m\u001b[1;33m\u001b[0m\u001b[0m\n\u001b[0m\u001b[0;32m     38\u001b[0m \u001b[1;33m\u001b[0m\u001b[0m\n\u001b[0;32m     39\u001b[0m     \u001b[1;31m# 2) Transform to perceptual Mel scale (uses librosa.filters.mel)\u001b[0m\u001b[1;33m\u001b[0m\u001b[1;33m\u001b[0m\u001b[0m\n",
      "\u001b[1;32mE:\\sae\\DL_MIR_Tutorial\\rp_extract.py\u001b[0m in \u001b[0;36mcalc_spectrogram\u001b[1;34m(wavsegment, fft_window_size, fft_overlap, real_values)\u001b[0m\n\u001b[0;32m    195\u001b[0m \u001b[1;33m\u001b[0m\u001b[0m\n\u001b[0;32m    196\u001b[0m     \u001b[1;31m# initialize result matrix for spectrogram\u001b[0m\u001b[1;33m\u001b[0m\u001b[1;33m\u001b[0m\u001b[0m\n\u001b[1;32m--> 197\u001b[1;33m     \u001b[0mspectrogram\u001b[0m  \u001b[1;33m=\u001b[0m \u001b[0mnp\u001b[0m\u001b[1;33m.\u001b[0m\u001b[0mzeros\u001b[0m\u001b[1;33m(\u001b[0m\u001b[1;33m(\u001b[0m\u001b[0mfft_window_size\u001b[0m\u001b[1;33m,\u001b[0m \u001b[0mn_frames\u001b[0m\u001b[1;33m)\u001b[0m\u001b[1;33m,\u001b[0m \u001b[0mdtype\u001b[0m\u001b[1;33m=\u001b[0m\u001b[0mnp\u001b[0m\u001b[1;33m.\u001b[0m\u001b[0mcomplex128\u001b[0m\u001b[1;33m)\u001b[0m\u001b[1;33m\u001b[0m\u001b[0m\n\u001b[0m\u001b[0;32m    198\u001b[0m \u001b[1;33m\u001b[0m\u001b[0m\n\u001b[0;32m    199\u001b[0m     \u001b[1;31m# start index for frame-wise iteration\u001b[0m\u001b[1;33m\u001b[0m\u001b[1;33m\u001b[0m\u001b[0m\n",
      "\u001b[1;31mTypeError\u001b[0m: 'float' object cannot be interpreted as an integer"
     ]
    }
   ],
   "source": [
    "\n",
    "list_spectrograms = [] # spectrograms are put into a list first\n",
    "\n",
    "# desired output parameters\n",
    "n_mel_bands = 40   # y axis\n",
    "frames = 80        # x axis\n",
    "\n",
    "# some FFT parameters\n",
    "fft_window_size=512\n",
    "fft_overlap = 0.5\n",
    "hop_size = int(fft_window_size*(1-fft_overlap))\n",
    "segment_size = fft_window_size + (frames-1) * hop_size # segment size for desired # frames\n",
    "\n",
    "for filename in filelist:\n",
    "    print(\".\"), \n",
    "    filepath = os.path.join(AUDIO_PATH, filename)\n",
    "    print (filepath)\n",
    "    samplerate, samplewidth, wavedata = audiofile_read(filepath,verbose=False)\n",
    "    sample_length = wavedata.shape[0]\n",
    "\n",
    "    # make Mono (in case of multiple channels / stereo)\n",
    "    if wavedata.ndim > 1:\n",
    "        wavedata = np.mean(wavedata, 1)\n",
    "      \n",
    "    # GET AUDIO SEGMENT (BLOCK)\n",
    "    # take only 1 audio segment of 0.94 sec\n",
    "    # a) from beginning of file\n",
    "    #pos = 0\n",
    "    # b) from middle of file\n",
    "    pos = int(sample_length / 2 - segment_size / 2)\n",
    "    wav_segment = wavedata[pos:pos+segment_size]\n",
    "    han_window = np.hanning(fft_window_size)\n",
    "   \n",
    "    # AUDIO PRE-PROCESSING\n",
    "\n",
    "    # 1) FFT spectrogram \n",
    "    spectrogram = int(rp.calc_spectrogram(wav_segment,fft_window_size,fft_overlap))\n",
    "\n",
    "    # 2) Transform to perceptual Mel scale (uses librosa.filters.mel)\n",
    "    spectrogram = rp.transform2mel(spectrogram,samplerate,fft_window_size,n_mel_bands)\n",
    "        \n",
    "    # 3) Log 10 transform\n",
    "    spectrogram = np.log10(spectrogram)\n",
    "    \n",
    "    list_spectrograms.append(spectrogram)\n",
    "        \n",
    "print(\"\\nRead\", len(filelist), \"audio files\")"
   ]
  },
  {
   "cell_type": "code",
   "execution_count": 92,
   "metadata": {
    "colab": {
     "base_uri": "https://localhost:8080/",
     "height": 72
    },
    "colab_type": "code",
    "executionInfo": {
     "elapsed": 146228,
     "status": "ok",
     "timestamp": 1557331016775,
     "user": {
      "displayName": "saesa rahmike",
      "photoUrl": "",
      "userId": "16840703955574169797"
     },
     "user_tz": -420
    },
    "id": "FZGDvGJYD5Mu",
    "outputId": "02308445-f9c4-478c-c93b-25cff22e8995"
   },
   "outputs": [
    {
     "data": {
      "text/plain": [
       "array([0.        , 0.0000378 , 0.00015118, 0.00034013, 0.00060463, 0.00094463, 0.00136008, 0.00185091, 0.00241706, 0.00305844, ..., 0.00305844, 0.00241706, 0.00185091, 0.00136008, 0.00094463,\n",
       "       0.00060463, 0.00034013, 0.00015118, 0.0000378 , 0.        ])"
      ]
     },
     "execution_count": 92,
     "metadata": {},
     "output_type": "execute_result"
    }
   ],
   "source": [
    "han_window"
   ]
  },
  {
   "cell_type": "code",
   "execution_count": 88,
   "metadata": {
    "colab": {
     "base_uri": "https://localhost:8080/",
     "height": 72
    },
    "colab_type": "code",
    "executionInfo": {
     "elapsed": 146210,
     "status": "ok",
     "timestamp": 1557331016776,
     "user": {
      "displayName": "saesa rahmike",
      "photoUrl": "",
      "userId": "16840703955574169797"
     },
     "user_tz": -420
    },
    "id": "5nAzx5BFG523",
    "outputId": "a4df1690-db84-499c-ff6d-d9381155b489"
   },
   "outputs": [
    {
     "data": {
      "text/plain": [
       "array([0.        , 0.0000378 , 0.00015118, 0.00034013, 0.00060463, 0.00094463, 0.00136008, 0.00185091, 0.00241706, 0.00305844, ..., 0.00305844, 0.00241706, 0.00185091, 0.00136008, 0.00094463,\n",
       "       0.00060463, 0.00034013, 0.00015118, 0.0000378 , 0.        ])"
      ]
     },
     "execution_count": 88,
     "metadata": {},
     "output_type": "execute_result"
    }
   ],
   "source": [
    "han_window "
   ]
  },
  {
   "cell_type": "code",
   "execution_count": 89,
   "metadata": {
    "colab": {
     "base_uri": "https://localhost:8080/",
     "height": 89
    },
    "colab_type": "code",
    "executionInfo": {
     "elapsed": 146187,
     "status": "ok",
     "timestamp": 1557331016777,
     "user": {
      "displayName": "saesa rahmike",
      "photoUrl": "",
      "userId": "16840703955574169797"
     },
     "user_tz": -420
    },
    "id": "IIy84ARJGf9e",
    "outputId": "8956980d-9f32-4ea9-fd73-e93e5273553e"
   },
   "outputs": [
    {
     "data": {
      "text/plain": [
       "array([ 255.5       +0.j        , -128.12190631-0.78615604j,    0.16752159+0.0020559j ,    0.06276142+0.00115543j,    0.03345922+0.00082138j,    0.02090524+0.00064157j,    0.01433033+0.00052782j,\n",
       "          0.01044547+0.00044892j,    0.0079553 +0.00039082j,    0.00626204+0.00034616j, ...,    0.00505777-0.00031073j,    0.00626204-0.00034616j,    0.0079553 -0.00039082j,\n",
       "          0.01044547-0.00044892j,    0.01433033-0.00052782j,    0.02090524-0.00064157j,    0.03345922-0.00082138j,    0.06276142-0.00115543j,    0.16752159-0.0020559j , -128.12190631+0.78615604j])"
      ]
     },
     "execution_count": 89,
     "metadata": {},
     "output_type": "execute_result"
    }
   ],
   "source": [
    "np.fft.fft(han_window)"
   ]
  },
  {
   "cell_type": "code",
   "execution_count": 21,
   "metadata": {
    "colab": {},
    "colab_type": "code",
    "id": "l_katAgFIr9q"
   },
   "outputs": [],
   "source": [
    "# fft(han_window)"
   ]
  },
  {
   "cell_type": "code",
   "execution_count": null,
   "metadata": {
    "colab": {},
    "colab_type": "code",
    "id": "cgajc903G4lc"
   },
   "outputs": [],
   "source": []
  },
  {
   "cell_type": "code",
   "execution_count": 22,
   "metadata": {
    "colab": {
     "base_uri": "https://localhost:8080/",
     "height": 50
    },
    "colab_type": "code",
    "executionInfo": {
     "elapsed": 486,
     "status": "ok",
     "timestamp": 1557642075726,
     "user": {
      "displayName": "saesa rahmike",
      "photoUrl": "",
      "userId": "16840703955574169797"
     },
     "user_tz": -420
    },
    "id": "jnQdmrU3D5NC",
    "outputId": "c20ff706-17fe-472b-df92-cfb87fd302ce"
   },
   "outputs": [
    {
     "name": "stdout",
     "output_type": "stream",
     "text": [
      "Duration of input audio file:\n",
      "30 seconds\n"
     ]
    }
   ],
   "source": [
    "print \"Duration of input audio file:\"\n",
    "print sample_length / samplerate, \"seconds\""
   ]
  },
  {
   "cell_type": "code",
   "execution_count": 23,
   "metadata": {
    "colab": {
     "base_uri": "https://localhost:8080/",
     "height": 72
    },
    "colab_type": "code",
    "executionInfo": {
     "elapsed": 146142,
     "status": "ok",
     "timestamp": 1557331016782,
     "user": {
      "displayName": "saesa rahmike",
      "photoUrl": "",
      "userId": "16840703955574169797"
     },
     "user_tz": -420
    },
    "id": "GCNd-6jcFGUD",
    "outputId": "11f219cf-58c1-4036-aaa6-86c2806bb266"
   },
   "outputs": [
    {
     "data": {
      "text/plain": [
       "array([0.41175842, 0.36125183, 0.30862427, 0.30886841, 0.33198547, 0.29956055, 0.21662903, 0.16046143, 0.1416626 , 0.10968018, ..., 0.16479492, 0.17105103, 0.18269348, 0.20211792, 0.23173523,\n",
       "       0.26223755, 0.28097534, 0.2782135 , 0.25126648, 0.21284485])"
      ]
     },
     "execution_count": 23,
     "metadata": {},
     "output_type": "execute_result"
    }
   ],
   "source": [
    "wav_segment"
   ]
  },
  {
   "cell_type": "code",
   "execution_count": 24,
   "metadata": {
    "colab": {
     "base_uri": "https://localhost:8080/",
     "height": 72
    },
    "colab_type": "code",
    "executionInfo": {
     "elapsed": 146130,
     "status": "ok",
     "timestamp": 1557331016783,
     "user": {
      "displayName": "saesa rahmike",
      "photoUrl": "",
      "userId": "16840703955574169797"
     },
     "user_tz": -420
    },
    "id": "2acQhUlDFLTZ",
    "outputId": "ad0e0b55-ba4b-4f0e-eb56-dc2acdb92593"
   },
   "outputs": [
    {
     "data": {
      "text/plain": [
       "array([ 0.        ,  0.        ,  0.        ,  0.        ,  0.        ,  0.        ,  0.        ,  0.        ,  0.        ,  0.        , ..., -0.21510315, -0.32113647, -0.31860352, -0.22836304,\n",
       "       -0.14672852, -0.0524292 , -0.05804443, -0.23510742, -0.34500122, -0.28410339])"
      ]
     },
     "execution_count": 24,
     "metadata": {},
     "output_type": "execute_result"
    }
   ],
   "source": [
    "wavedata"
   ]
  },
  {
   "cell_type": "code",
   "execution_count": 25,
   "metadata": {
    "colab": {
     "base_uri": "https://localhost:8080/",
     "height": 33
    },
    "colab_type": "code",
    "executionInfo": {
     "elapsed": 469,
     "status": "ok",
     "timestamp": 1557642075728,
     "user": {
      "displayName": "saesa rahmike",
      "photoUrl": "",
      "userId": "16840703955574169797"
     },
     "user_tz": -420
    },
    "id": "JTtP87x_D5NX",
    "outputId": "d8c64fe6-c07b-4f7b-c89a-6e05b5f8a5ba"
   },
   "outputs": [
    {
     "name": "stdout",
     "output_type": "stream",
     "text": [
      "An audio segment is 0.47 seconds long\n"
     ]
    }
   ],
   "source": [
    "print \"An audio segment is\", round(float(segment_size) / samplerate, 2), \"seconds long\""
   ]
  },
  {
   "cell_type": "code",
   "execution_count": 26,
   "metadata": {
    "colab": {
     "base_uri": "https://localhost:8080/",
     "height": 33
    },
    "colab_type": "code",
    "executionInfo": {
     "elapsed": 457,
     "status": "ok",
     "timestamp": 1557642075730,
     "user": {
      "displayName": "saesa rahmike",
      "photoUrl": "",
      "userId": "16840703955574169797"
     },
     "user_tz": -420
    },
    "id": "_LxrhMkkD5Nl",
    "outputId": "8720a1d3-8d47-4d61-9ab2-0ce0f2781fc2"
   },
   "outputs": [
    {
     "data": {
      "text/plain": [
       "600"
      ]
     },
     "execution_count": 26,
     "metadata": {},
     "output_type": "execute_result"
    }
   ],
   "source": [
    "# how many spectrograms did we get\n",
    "len(list_spectrograms)"
   ]
  },
  {
   "cell_type": "code",
   "execution_count": 27,
   "metadata": {
    "colab": {
     "base_uri": "https://localhost:8080/",
     "height": 33
    },
    "colab_type": "code",
    "executionInfo": {
     "elapsed": 443,
     "status": "ok",
     "timestamp": 1557642075732,
     "user": {
      "displayName": "saesa rahmike",
      "photoUrl": "",
      "userId": "16840703955574169797"
     },
     "user_tz": -420
    },
    "id": "fWnkhnFJD5N1",
    "outputId": "91a4eaf7-5235-485f-ae4a-54207dfc0418"
   },
   "outputs": [
    {
     "data": {
      "text/plain": [
       "(40L, 80L)"
      ]
     },
     "execution_count": 27,
     "metadata": {},
     "output_type": "execute_result"
    }
   ],
   "source": [
    "# whats the shape of 1 spectrogram: 40 Mel bands by 80 frames\n",
    "spectrogram.shape"
   ]
  },
  {
   "cell_type": "markdown",
   "metadata": {
    "colab_type": "text",
    "id": "szY4yO2RD5N_"
   },
   "source": [
    "Note: For simplicity of this tutorial, here we load only 1 single segment of ~ 1 second length from each audio file.\n",
    "In a real setting, one would create training instances of as many audio segments as possible to be fed to a Neural Network."
   ]
  },
  {
   "cell_type": "code",
   "execution_count": 28,
   "metadata": {
    "colab": {
     "base_uri": "https://localhost:8080/",
     "height": 720
    },
    "colab_type": "code",
    "executionInfo": {
     "elapsed": 431,
     "status": "ok",
     "timestamp": 1557642075734,
     "user": {
      "displayName": "saesa rahmike",
      "photoUrl": "",
      "userId": "16840703955574169797"
     },
     "user_tz": -420
    },
    "id": "FG9yV5X6D5OD",
    "outputId": "089d124e-6f79-40a5-cdd1-6581b6c1a67a"
   },
   "outputs": [
    {
     "data": {
      "text/plain": [
       "array([[ -2.40121672,  -2.62711941,  -2.5298232 ,  -1.85595022,  -2.05541051,  -2.38274764,  -1.89165012,  -1.51853588,  -1.99526277,  -2.31463498, ...,  -2.73371854,  -2.53814231,  -2.32631271,\n",
       "         -2.67333762,  -2.79998579,  -2.93831484,  -2.96414004,  -2.5045043 ,  -2.45063591,  -2.77787536],\n",
       "       [ -1.91557454,  -1.8379766 ,  -2.033903  ,  -1.6076315 ,  -2.09186142,  -2.07658208,  -1.99126777,  -1.45550625,  -1.76183053,  -2.22838368, ...,  -2.54938769,  -2.39392628,  -2.00221374,\n",
       "         -2.15743232,  -2.36044246,  -2.73244735,  -3.11797342,  -2.14483877,  -1.88214791,  -2.10157313],\n",
       "       [ -2.35528987,  -1.79042755,  -2.24444328,  -1.85827969,  -2.49722282,  -1.89312854,  -2.01297944,  -1.9816187 ,  -1.78848885,  -1.98359968, ...,  -2.42810754,  -2.57498991,  -2.26299433,\n",
       "         -2.02944241,  -2.11026583,  -2.54211795,  -3.59437528,  -2.3224457 ,  -1.98230914,  -2.11631437],\n",
       "       [ -3.15279941,  -2.24742905,  -2.40478784,  -2.51490815,  -2.93447797,  -2.12489631,  -2.10610247,  -2.73534862,  -2.19776107,  -2.01883057, ...,  -2.44182538,  -2.66649477,  -2.56578287,\n",
       "         -2.50872646,  -2.47638032,  -2.66082343,  -4.47362011,  -3.07613249,  -2.97381015,  -3.20511209],\n",
       "       [ -3.04782713,  -2.71644998,  -2.54182185,  -2.92587145,  -2.98267709,  -2.32524572,  -2.26101126,  -2.73439052,  -2.44235294,  -2.22351359, ...,  -2.47520769,  -2.72119185,  -2.73819628,\n",
       "         -2.73304151,  -2.92321988,  -2.72679195,  -4.31529749,  -3.29495419,  -3.82144876,  -4.01772371],\n",
       "       [ -2.87217845,  -2.46385561,  -2.70027013,  -2.52099648,  -2.54554016,  -2.82432993,  -2.5484493 ,  -3.02214297,  -2.95015887,  -2.9152855 , ...,  -3.01968485,  -3.39174539,  -3.5782031 ,\n",
       "         -3.222892  ,  -3.30923764,  -3.17934104,  -4.1388566 ,  -3.64792315,  -4.2298818 ,  -4.202166  ],\n",
       "       [ -2.4932983 ,  -2.33710125,  -2.31766015,  -2.24346357,  -2.28670543,  -2.63628527,  -2.4724282 ,  -2.84215577,  -2.97052385,  -3.57596689, ...,  -3.51136805,  -3.75017177,  -4.54953557,\n",
       "         -4.19959255,  -4.15671639,  -3.66848476,  -3.9856856 ,  -3.9922102 ,  -4.71323616,  -4.2290776 ],\n",
       "       [ -3.40044399,  -3.04903937,  -2.71033434,  -3.07169612,  -3.13646897,  -3.22420697,  -3.05513686,  -3.65488244,  -3.40874939,  -3.75837963, ...,  -4.38824884,  -3.90177665,  -4.17037765,\n",
       "         -4.88849872,  -4.57475457,  -4.56508889,  -4.59260593,  -4.40200325,  -4.92998474,  -5.24210519],\n",
       "       [ -3.17065577,  -2.87745193,  -2.97913887,  -3.10179869,  -3.04138461,  -3.31869328,  -3.13217894,  -3.35577853,  -3.55589776,  -3.62957777, ...,  -3.96426694,  -4.23320799,  -4.17238811,\n",
       "         -4.22176115,  -4.16937953,  -4.71652333,  -5.07216328,  -4.55142886,  -4.66194422,  -4.83748289],\n",
       "       [ -3.57312482,  -3.07069777,  -3.46666367,  -3.41134445,  -3.58025202,  -3.48710406,  -3.29896959,  -3.48474139,  -4.05606791,  -3.6219419 , ...,  -4.28477664,  -4.4688753 ,  -4.97470743,\n",
       "         -3.95093794,  -4.81861589,  -4.98721993,  -5.00554178,  -5.0414674 ,  -4.93168148,  -4.47511493],\n",
       "       ...,\n",
       "       [ -4.57705527,  -4.51680908,  -4.69529641,  -4.31036055,  -4.36304057,  -4.8128311 ,  -4.80173144,  -4.75290069,  -4.78314963,  -5.35575143, ...,  -5.98158914,  -6.46839448,  -5.73794234,\n",
       "         -5.61674645,  -5.80076512,  -5.53195939,  -6.41616168,  -6.61664311,  -6.42427823,  -6.36530842],\n",
       "       [ -5.03057855,  -4.94230903,  -5.18227153,  -5.21138381,  -4.54237812,  -4.57040016,  -4.89987888,  -4.61566657,  -4.38231363,  -5.57605919, ...,  -5.41297436,  -6.02494401,  -5.3459484 ,\n",
       "         -5.33913766,  -5.58531736,  -5.03085507,  -6.14466873,  -6.31061102,  -6.4623515 ,  -6.51019463],\n",
       "       [ -4.97393975,  -4.98625794,  -5.16303814,  -5.00747722,  -4.9899993 ,  -4.74394435,  -4.89937964,  -4.74094919,  -4.51177984,  -5.11374994, ...,  -5.68626845,  -6.11734031,  -5.58134743,\n",
       "         -5.57468785,  -5.92702761,  -6.00681132,  -6.59804358,  -6.78365696,  -6.99213286,  -6.94496253],\n",
       "       [ -5.07187849,  -5.17284131,  -5.28625554,  -5.08960926,  -5.22190164,  -4.98868648,  -5.23452769,  -5.115369  ,  -4.97833151,  -5.42342636, ...,  -6.1353992 ,  -6.64666   ,  -5.6983215 ,\n",
       "         -5.43224093,  -5.31507303,  -5.48333828,  -6.37174926,  -6.86834587,  -6.9775429 ,  -7.21278376],\n",
       "       [ -5.47629048,  -5.64790844,  -5.76488091,  -5.83396107,  -5.83559305,  -5.92443054,  -5.58862693,  -5.74005426,  -5.73584515,  -6.59825315, ...,  -6.34823891,  -6.98124523,  -5.73329805,\n",
       "         -5.84936374,  -6.0924125 ,  -6.11423855,  -6.87122256,  -7.33092505,  -7.23872958,  -7.26988779],\n",
       "       [ -5.9952353 ,  -5.47769608,  -5.76684552,  -5.6419527 ,  -6.04023952,  -6.36898737,  -6.25066679,  -6.39038744,  -6.78024446,  -7.0625463 , ...,  -6.95994162,  -7.38174753,  -6.38610502,\n",
       "         -6.25914807,  -7.72228781,  -7.51381602,  -7.50680921,  -7.88856657,  -7.86968486,  -7.70542622],\n",
       "       [ -7.63881196,  -7.86776277,  -8.55449688,  -8.29035924,  -7.86958602,  -7.03567733,  -6.93643261,  -6.84004217,  -7.85785501,  -7.58448913, ...,  -8.42553402,  -8.3919611 ,  -7.66714996,\n",
       "         -7.33103174, -10.02635871,  -8.25529959,  -8.33778916,  -8.21491752,  -8.35075016,  -8.58527192],\n",
       "       [-12.56352277, -12.82969788, -12.76933206, -12.53097063, -12.56879574, -12.56922564,  -7.73773961,  -7.01991169, -12.46609548, -12.44882286, ..., -12.56408938, -12.6960298 ,  -9.50441805,\n",
       "         -9.07600352, -11.45528243, -10.46320297, -10.01401726, -10.03899846, -10.56901051, -11.95381576],\n",
       "       [-12.67884267, -12.56487577, -12.77734123, -12.79144776, -12.7088209 , -12.60530939,  -7.76122242,  -7.04261851, -12.77607759, -12.56557025, ..., -12.90021966, -12.89288067, -12.64890909,\n",
       "        -12.70834188, -12.78765978, -12.84623596, -12.78607105, -12.78254265, -12.61135624, -12.74064344],\n",
       "       [-12.80230832, -12.61286356, -12.78206412, -12.76700607, -12.76659758, -12.64952119,  -7.77903919,  -7.05982294, -12.78776703, -12.75785366, ..., -13.0116612 , -12.92667282, -12.7466314 ,\n",
       "        -12.74289941, -12.8693771 , -12.91812596, -12.77351179, -12.74249716, -12.77801283, -12.82937283]])"
      ]
     },
     "execution_count": 28,
     "metadata": {},
     "output_type": "execute_result"
    }
   ],
   "source": [
    "spectrogram"
   ]
  },
  {
   "cell_type": "markdown",
   "metadata": {
    "colab_type": "text",
    "id": "mTiFxWhOD5OL"
   },
   "source": [
    "## Make 1 big array of list of spectrograms"
   ]
  },
  {
   "cell_type": "code",
   "execution_count": 29,
   "metadata": {
    "colab": {
     "base_uri": "https://localhost:8080/",
     "height": 33
    },
    "colab_type": "code",
    "executionInfo": {
     "elapsed": 419,
     "status": "ok",
     "timestamp": 1557642075736,
     "user": {
      "displayName": "saesa rahmike",
      "photoUrl": "",
      "userId": "16840703955574169797"
     },
     "user_tz": -420
    },
    "id": "KQ7lAxL1D5OP",
    "outputId": "aa846551-6da9-4105-ec19-10c5858b69ad"
   },
   "outputs": [
    {
     "data": {
      "text/plain": [
       "(600L, 40L, 80L)"
      ]
     },
     "execution_count": 29,
     "metadata": {},
     "output_type": "execute_result"
    }
   ],
   "source": [
    "# a list of many 40x80 spectrograms is made into 1 big array\n",
    "# config.floatX is from Theano configration to enforce float32 precision (needed for GPU computation)\n",
    "data = np.array(list_spectrograms, dtype=config.floatX)\n",
    "data.shape"
   ]
  },
  {
   "cell_type": "code",
   "execution_count": 30,
   "metadata": {
    "colab": {},
    "colab_type": "code",
    "id": "enEHnHvnD5OU"
   },
   "outputs": [],
   "source": [
    "# check for Inf values\n",
    "\n",
    "# np.log10(spectrogram) will produce -inf if a spectrogram value is 0. we replace -inf by 0 here\n",
    "\n",
    "if np.any(np.isinf(data)):\n",
    "    print \"Warning: Data contains inf values. Replacying by 0.\"\n",
    "    data[np.isinf(data)] = 0"
   ]
  },
  {
   "cell_type": "markdown",
   "metadata": {
    "colab_type": "text",
    "id": "JOIqepdZD5Og"
   },
   "source": [
    "## Standardization\n",
    "\n",
    "<b>Always normalize / standardize</b> the data before feeding it into the Neural Network!\n",
    "\n",
    "We use <b>attribute-wise standardization</b>, i.e. each feature (i.e. 'pixel' in the spectrogram) is standardized individually, as opposed to computing a single mean and single standard deviation of all values.\n",
    "\n",
    "(Instead of 'attribute-wise, also 'flat' standardization would also be possible,computing the mean and standard deviation across all pixels).\n",
    "\n",
    "One possibility is 'Min-Max normalization', i.e. scaling the values between 0 and 1.\n",
    "\n",
    "Here we use <b>Zero-mean Unit-variance standardization</b> (also known as Z-score normalization).\n",
    "\n",
    "We use the StandardScaler from the scikit-learn package for our purpose, which performs a Zero-mean Unit-variance standardization."
   ]
  },
  {
   "cell_type": "code",
   "execution_count": 31,
   "metadata": {
    "colab": {
     "base_uri": "https://localhost:8080/",
     "height": 33
    },
    "colab_type": "code",
    "executionInfo": {
     "elapsed": 392,
     "status": "ok",
     "timestamp": 1557642075740,
     "user": {
      "displayName": "saesa rahmike",
      "photoUrl": "",
      "userId": "16840703955574169797"
     },
     "user_tz": -420
    },
    "id": "IyZrcXZdD5Ol",
    "outputId": "5eb104b0-c614-4b46-a7a1-616604807dea"
   },
   "outputs": [
    {
     "data": {
      "text/plain": [
       "(600L, 3200L)"
      ]
     },
     "execution_count": 31,
     "metadata": {},
     "output_type": "execute_result"
    }
   ],
   "source": [
    "# Scalers and normalizers work on vectors. So we have to transfor the matrix of our spectrograms into vector data\n",
    "# ('vectorize' or 'reshape' them).\n",
    "\n",
    "# vectorize\n",
    "N, ydim, xdim = data.shape\n",
    "data = data.reshape(N, xdim*ydim)\n",
    "data.shape"
   ]
  },
  {
   "cell_type": "code",
   "execution_count": 32,
   "metadata": {
    "colab": {
     "base_uri": "https://localhost:8080/",
     "height": 33
    },
    "colab_type": "code",
    "executionInfo": {
     "elapsed": 377,
     "status": "ok",
     "timestamp": 1557642075743,
     "user": {
      "displayName": "saesa rahmike",
      "photoUrl": "",
      "userId": "16840703955574169797"
     },
     "user_tz": -420
    },
    "id": "rJRL-tFkD5O3",
    "outputId": "0890f79c-367e-44db-99ef-b62583b06556"
   },
   "outputs": [
    {
     "data": {
      "text/plain": [
       "(1L, 3200L)"
      ]
     },
     "execution_count": 32,
     "metadata": {},
     "output_type": "execute_result"
    }
   ],
   "source": [
    "data[0:1].shape"
   ]
  },
  {
   "cell_type": "code",
   "execution_count": 33,
   "metadata": {
    "colab": {},
    "colab_type": "code",
    "id": "XjpI39DxD5O_"
   },
   "outputs": [],
   "source": [
    "# standardize\n",
    "scaler = preprocessing.StandardScaler()\n",
    "data = scaler.fit_transform(data)"
   ]
  },
  {
   "cell_type": "markdown",
   "metadata": {
    "colab_type": "text",
    "id": "jl5rbFa9D5PE"
   },
   "source": [
    "Now all the values are transformed into the 0-mean 1-variance space."
   ]
  },
  {
   "cell_type": "code",
   "execution_count": 34,
   "metadata": {
    "colab": {
     "base_uri": "https://localhost:8080/",
     "height": 53
    },
    "colab_type": "code",
    "executionInfo": {
     "elapsed": 333,
     "status": "ok",
     "timestamp": 1557642075749,
     "user": {
      "displayName": "saesa rahmike",
      "photoUrl": "",
      "userId": "16840703955574169797"
     },
     "user_tz": -420
    },
    "id": "vgm4s-gCD5PF",
    "outputId": "849026a7-995d-4ea8-a8fb-e1a3cd32dc35"
   },
   "outputs": [
    {
     "data": {
      "text/plain": [
       "array([ 0.00000007, -0.00000001,  0.00000007,  0.00000008, -0.00000009, -0.00000004,  0.00000009,  0.00000001, -0.00000004,  0.00000003, ..., -0.00000004, -0.00000011, -0.00000014,  0.00000007,\n",
       "        0.00000008, -0.00000006, -0.00000007, -0.0000003 ,  0.00000031, -0.0000001 ], dtype=float32)"
      ]
     },
     "execution_count": 34,
     "metadata": {},
     "output_type": "execute_result"
    }
   ],
   "source": [
    "np.mean(data, axis=0)"
   ]
  },
  {
   "cell_type": "code",
   "execution_count": 35,
   "metadata": {
    "colab": {
     "base_uri": "https://localhost:8080/",
     "height": 33
    },
    "colab_type": "code",
    "executionInfo": {
     "elapsed": 322,
     "status": "ok",
     "timestamp": 1557642075751,
     "user": {
      "displayName": "saesa rahmike",
      "photoUrl": "",
      "userId": "16840703955574169797"
     },
     "user_tz": -420
    },
    "id": "XqaYmkcUv9Qy",
    "outputId": "4324d0e5-48a0-48dc-e012-112d3c278b42"
   },
   "outputs": [
    {
     "data": {
      "text/plain": [
       "2.148946e-08"
      ]
     },
     "execution_count": 35,
     "metadata": {},
     "output_type": "execute_result"
    }
   ],
   "source": [
    "np.mean(data)"
   ]
  },
  {
   "cell_type": "code",
   "execution_count": 36,
   "metadata": {
    "colab": {
     "base_uri": "https://localhost:8080/",
     "height": 33
    },
    "colab_type": "code",
    "executionInfo": {
     "elapsed": 310,
     "status": "ok",
     "timestamp": 1557642075753,
     "user": {
      "displayName": "saesa rahmike",
      "photoUrl": "",
      "userId": "16840703955574169797"
     },
     "user_tz": -420
    },
    "id": "A3ihRzMxwDcm",
    "outputId": "ccae5994-9b3d-4089-c7ee-a7663db094e2"
   },
   "outputs": [
    {
     "data": {
      "text/plain": [
       "0.99999994"
      ]
     },
     "execution_count": 36,
     "metadata": {},
     "output_type": "execute_result"
    }
   ],
   "source": [
    "np.std(data)"
   ]
  },
  {
   "cell_type": "code",
   "execution_count": 37,
   "metadata": {
    "colab": {
     "base_uri": "https://localhost:8080/",
     "height": 53
    },
    "colab_type": "code",
    "executionInfo": {
     "elapsed": 296,
     "status": "ok",
     "timestamp": 1557642075754,
     "user": {
      "displayName": "saesa rahmike",
      "photoUrl": "",
      "userId": "16840703955574169797"
     },
     "user_tz": -420
    },
    "id": "M1jxIP7HD5PP",
    "outputId": "297ba5c9-758b-415e-a082-87a739af5aab"
   },
   "outputs": [
    {
     "data": {
      "text/plain": [
       "array([1.        , 1.0000001 , 1.        , 0.9999998 , 1.0000002 , 1.0000004 , 1.0000001 , 1.0000001 , 1.0000001 , 0.99999994, ..., 1.0000001 , 1.0000005 , 1.        , 1.0000001 , 0.9999997 ,\n",
       "       1.        , 1.0000002 , 1.0000002 , 1.0000001 , 1.0000002 ], dtype=float32)"
      ]
     },
     "execution_count": 37,
     "metadata": {},
     "output_type": "execute_result"
    }
   ],
   "source": [
    "np.std(data, axis=0)"
   ]
  },
  {
   "cell_type": "code",
   "execution_count": 38,
   "metadata": {
    "colab": {
     "base_uri": "https://localhost:8080/",
     "height": 103
    },
    "colab_type": "code",
    "executionInfo": {
     "elapsed": 280,
     "status": "ok",
     "timestamp": 1557642075756,
     "user": {
      "displayName": "saesa rahmike",
      "photoUrl": "",
      "userId": "16840703955574169797"
     },
     "user_tz": -420
    },
    "id": "JXDXoq7eD5PY",
    "outputId": "ac5624bf-ab14-49c0-f4e0-3cc38b3d5103"
   },
   "outputs": [
    {
     "data": {
      "text/plain": [
       "(array([ -2.90564941,  -2.89746012,  -2.89840434,  -2.89004618,  -2.90260295,  -2.91337687,  -2.90776449,  -2.89857829,  -2.90511658,  -2.90533061, ..., -12.48685628, -12.45382243, -12.47710042,\n",
       "        -12.50483805, -12.49798665, -12.4484139 , -12.43543213, -12.45055908, -12.45165365, -12.41105469]),\n",
       " array([0.91620014, 0.93583273, 0.93879642, 0.92846458, 0.89925861, 0.88769951, 0.91973652, 0.90024061, 0.92403711, 0.91220514, ..., 1.26315254, 1.2881311 , 1.26985944, 1.2699067 , 1.25458582,\n",
       "        1.32806585, 1.34410893, 1.2974117 , 1.30377133, 1.37272894]))"
      ]
     },
     "execution_count": 38,
     "metadata": {},
     "output_type": "execute_result"
    }
   ],
   "source": [
    "# scaler stores the original values to be able to transform later again\n",
    "# show mean and standard deviation: two vectors with same length as data.shape[1]\n",
    "scaler.mean_, scaler.scale_"
   ]
  },
  {
   "cell_type": "code",
   "execution_count": 39,
   "metadata": {
    "colab": {
     "base_uri": "https://localhost:8080/",
     "height": 720
    },
    "colab_type": "code",
    "executionInfo": {
     "elapsed": 265,
     "status": "ok",
     "timestamp": 1557642075758,
     "user": {
      "displayName": "saesa rahmike",
      "photoUrl": "",
      "userId": "16840703955574169797"
     },
     "user_tz": -420
    },
    "id": "J4L9qg74c3yq",
    "outputId": "0d9331c0-a4f5-4f29-ebfe-82a0c7c6ef3f"
   },
   "outputs": [
    {
     "data": {
      "text/plain": [
       "array([[ 1.0812168 ,  0.41083643,  0.6368848 ,  0.82805157,  0.9963193 ,  0.44835967,  0.89355236,  1.0035615 ,  0.5838208 ,  0.33920583, ..., -0.30097   , -0.3358633 , -0.21637206, -0.23370187,\n",
       "        -0.3313863 , -0.32533038, -0.3383661 , -0.34580457, -0.29496002, -0.37720573],\n",
       "       [-0.43421033, -0.24172103,  0.8749792 ,  1.1386831 ,  0.01158083, -0.21253529,  0.8199903 ,  0.95264757, -0.08164964,  0.45628953, ..., -0.24472207, -0.22684455, -0.3373962 , -0.20255274,\n",
       "        -0.2178236 , -0.31320396, -0.35623613, -0.24932879, -0.17522438, -0.21560207],\n",
       "       [ 1.5526519 ,  0.10144272,  0.36365038,  1.5003662 ,  0.6655011 , -0.21149589,  1.3305844 ,  0.91530293, -0.54697865,  1.2826496 , ..., -0.20095424, -0.31141827, -0.38356742, -0.3196072 ,\n",
       "        -0.16441995, -0.22225179, -0.37467587, -0.3483611 , -0.33184895, -0.2124216 ],\n",
       "       [ 0.9632718 ,  1.1758771 ,  0.64264137,  1.221147  ,  0.04892966,  1.1388496 ,  0.6960093 ,  0.67933214,  0.9924233 ,  0.72965366, ..., -0.38491112, -0.31489053, -0.31393173, -0.29737744,\n",
       "        -0.39755666, -0.26517794, -0.30350307, -0.42869058, -0.40955704, -0.41283906],\n",
       "       [ 0.68488705,  0.39204437,  0.9701841 ,  0.48923978,  1.0374936 ,  0.688584  ,  0.5233774 ,  0.7185802 ,  0.2436419 ,  1.0856907 , ..., -0.235755  , -0.24425991, -0.2847055 , -0.2489768 ,\n",
       "        -0.2764677 , -0.3091101 , -0.40131983, -0.282674  , -0.27847627, -0.2238214 ],\n",
       "       [ 0.8409471 ,  0.89283043,  1.1208516 ,  1.1691871 ,  0.7314104 ,  0.60879207, -0.39698207,  1.100203  ,  0.9089457 ,  0.88502735, ..., -0.17135239, -0.22434363, -0.2226257 , -0.303175  ,\n",
       "        -0.35798854, -0.40445775, -0.41281125, -0.37423077, -0.41341412, -0.23603265],\n",
       "       [ 0.39366877,  0.31800574,  0.26671794, -0.08523583,  0.38339543,  0.32747436,  0.36843094, -0.35930976,  0.07897998,  0.3185091 , ..., -0.18694378, -0.22652546, -0.24930374, -0.12651828,\n",
       "        -0.1183913 , -0.30339193, -0.3252726 , -0.35011935, -0.1174621 , -0.25578865],\n",
       "       [ 0.7340174 ,  0.73255676,  0.74747634,  0.80070055,  0.34770206,  0.8551562 ,  0.83367527,  0.7441395 ,  0.46656388,  0.44398212, ..., -0.30608582, -0.2721069 , -0.27743724, -0.22141059,\n",
       "        -0.33838046, -0.19991407, -0.4026161 , -0.2831702 , -0.16221511, -0.32811826],\n",
       "       [ 0.7853645 ,  0.68053627, -0.8798436 ,  0.6758266 ,  0.68076533, -0.29761025,  0.53351027,  0.51408046,  0.42543936,  0.5674703 , ..., -0.32437107, -0.25772995, -0.25567305, -0.19980565,\n",
       "        -0.19836296, -0.23532034, -0.28212586, -0.2253916 , -0.32477486, -0.16763939],\n",
       "       [ 0.9964827 ,  0.71460617,  1.0352135 ,  0.6482093 ,  1.1513005 ,  1.0285565 ,  0.9137501 ,  1.0976121 ,  0.60327744,  1.1450601 , ..., -0.37499198, -0.3812093 , -0.2230823 , -0.30824414,\n",
       "        -0.18828715, -0.28838167, -0.38972625, -0.24097559, -0.41559172, -0.47897932],\n",
       "       ...,\n",
       "       [-0.12866952, -0.00968453, -0.00385136, -0.27138942, -0.4961723 , -0.2855738 ,  0.12947458, -0.44197705,  0.04970262,  0.09295627, ..., -0.2628563 , -0.2638038 , -0.24212186, -0.30514935,\n",
       "        -0.20216753,  2.5665758 ,  2.2252235 , -0.25069085, -0.33925146,  1.4801134 ],\n",
       "       [-0.19053942,  0.2271548 , -0.51205313, -0.0599661 , -0.6630292 , -0.8659167 , -2.2174895 , -1.7756487 , -1.4772178 , -1.0171227 , ..., -0.2298917 , -0.31092593, -0.27508208, -0.3023174 ,\n",
       "        -0.11315843, -0.23831695, -0.21277085, -0.38294342, -0.21701784, -0.2926836 ],\n",
       "       [ 2.0784454 ,  1.868916  ,  2.0583653 ,  1.7863264 ,  1.9079626 ,  1.8388318 ,  1.5505375 ,  1.7936956 ,  1.7161113 ,  1.7960237 , ..., -0.19746163, -0.13430312, -0.0337863 , -0.18533953,\n",
       "        -0.08918404, -0.09736256, -0.22176191, -0.18168718, -0.2652234 , -0.30523667],\n",
       "       [ 0.23546548,  0.25754613, -0.10198835,  0.77478164,  0.15799958,  0.6858268 ,  0.47047842,  0.5006176 ,  0.48688927,  0.16871896, ..., -0.08873323, -0.19648851, -0.26722804, -0.0566779 ,\n",
       "        -0.09424816, -0.00789395,  0.92582464,  1.5955006 , -0.07853308, -0.12444811],\n",
       "       [ 0.7094898 ,  0.30719373,  0.3415331 ,  0.6971087 ,  0.5261907 ,  0.5884127 ,  0.6487292 ,  0.38624385,  0.61990803, -0.20289358, ..., -0.22821184, -0.2624534 , -0.17627877, -0.25545174,\n",
       "        -0.2530292 , -0.21412441, -0.1844659 , -0.2251821 , -0.19568807, -0.21009773],\n",
       "       [-5.2875957 , -4.4734325 , -4.423156  , -4.5290236 , -4.562522  , -4.35533   , -4.5622907 , -4.594638  , -4.5265236 , -5.13613   , ..., -0.3170144 , -0.2151536 , -0.22391818, -0.44149348,\n",
       "        -0.26735806, -0.20494719, -0.2739004 , -0.30552113, -0.22056988, -0.4571683 ],\n",
       "       [ 1.3657534 ,  0.94456834,  0.5317194 ,  1.094403  ,  0.6917891 ,  0.8962218 ,  0.7594154 ,  1.0162485 ,  0.38917488,  1.1779367 , ..., -0.183424  , -0.34877804, -0.2882315 , -0.10001094,\n",
       "        -0.14348084, -0.29504123, -0.34551808, -0.14667484, -0.11556393, -0.23087916],\n",
       "       [ 0.61440814,  0.5092491 ,  0.9220711 ,  0.8183712 ,  1.129738  ,  1.3212613 ,  1.2337855 ,  1.4126878 ,  1.0162638 ,  1.0394839 , ...,  3.4085293 , -0.29251328, -0.26587623, -0.11513342,\n",
       "        -0.22039518, -0.30470532, -0.31906074, -0.26414317, -0.2928307 , -0.11016656],\n",
       "       [-0.16606835,  0.0918816 ,  0.2936915 ,  0.14050445,  0.48351675,  0.5787261 ,  0.4701238 ,  0.35358262,  0.09071001,  0.14522094, ...,  3.2982872 ,  3.350229  , -0.18280877, -0.18453522,\n",
       "        -0.35207534, -0.2592752 ,  2.2301092 ,  2.0491695 , -0.3494475 , -0.14937913],\n",
       "       [ 0.5505704 ,  0.2888773 ,  0.39261016,  1.11377   ,  0.9421009 ,  0.5977577 ,  1.1047885 ,  1.5329707 ,  0.98465073,  0.6475468 , ..., -0.41547257, -0.3670826 , -0.21225278, -0.1874633 ,\n",
       "        -0.29602638, -0.35368142, -0.25152704, -0.22501598, -0.25031963, -0.30473438]], dtype=float32)"
      ]
     },
     "execution_count": 39,
     "metadata": {},
     "output_type": "execute_result"
    }
   ],
   "source": [
    "data"
   ]
  },
  {
   "cell_type": "markdown",
   "metadata": {
    "colab_type": "text",
    "id": "WeZQLYATD5Pg"
   },
   "source": [
    "# Creating Train & Test Set \n",
    "\n",
    "We split the original full data set into two parts: Train Set (75%) and Test Set (25%).\n",
    "\n",
    "Here we compare Random Split vs. Stratified Split:"
   ]
  },
  {
   "cell_type": "code",
   "execution_count": 40,
   "metadata": {
    "colab": {},
    "colab_type": "code",
    "id": "Krt-Sb45D5Ph"
   },
   "outputs": [],
   "source": [
    "testset_size = 0.25 # % portion of whole data set to keep for testing, i.e. 75% is used for training\n",
    "\n",
    "# RANDOM split of data set into 2 parts\n",
    "# from sklearn.model_selection import train_test_split\n",
    "\n",
    "train_set, test_set, train_classes, test_classes = train_test_split(data, classes_num, test_size=testset_size, random_state=0)"
   ]
  },
  {
   "cell_type": "code",
   "execution_count": 41,
   "metadata": {
    "colab": {
     "base_uri": "https://localhost:8080/",
     "height": 33
    },
    "colab_type": "code",
    "executionInfo": {
     "elapsed": 774,
     "status": "ok",
     "timestamp": 1557643775301,
     "user": {
      "displayName": "saesa rahmike",
      "photoUrl": "",
      "userId": "16840703955574169797"
     },
     "user_tz": -420
    },
    "id": "XfNuUNRSD5Pl",
    "outputId": "fe18a941-c54c-43ff-891b-21cab0646f18"
   },
   "outputs": [
    {
     "data": {
      "text/plain": [
       "array([2, 0, 1, 0, 2, 0, 0, 2, 2, 2, ..., 1, 0, 0, 1, 2, 0, 2, 0, 2, 1], dtype=int64)"
      ]
     },
     "execution_count": 41,
     "metadata": {},
     "output_type": "execute_result"
    }
   ],
   "source": [
    "train_classes"
   ]
  },
  {
   "cell_type": "code",
   "execution_count": 42,
   "metadata": {
    "colab": {
     "base_uri": "https://localhost:8080/",
     "height": 33
    },
    "colab_type": "code",
    "executionInfo": {
     "elapsed": 225,
     "status": "ok",
     "timestamp": 1557642075766,
     "user": {
      "displayName": "saesa rahmike",
      "photoUrl": "",
      "userId": "16840703955574169797"
     },
     "user_tz": -420
    },
    "id": "DcaCoKcWD5P1",
    "outputId": "f4e3a579-5da3-41c5-b3ad-37b2047edc03"
   },
   "outputs": [
    {
     "data": {
      "text/plain": [
       "array([1, 2, 0, 1, 0, 1, 1, 1, 1, 2, ..., 2, 1, 2, 0, 1, 1, 2, 0, 1, 2], dtype=int64)"
      ]
     },
     "execution_count": 42,
     "metadata": {},
     "output_type": "execute_result"
    }
   ],
   "source": [
    "test_classes"
   ]
  },
  {
   "cell_type": "code",
   "execution_count": 43,
   "metadata": {
    "colab": {
     "base_uri": "https://localhost:8080/",
     "height": 83
    },
    "colab_type": "code",
    "executionInfo": {
     "elapsed": 215,
     "status": "ok",
     "timestamp": 1557642075768,
     "user": {
      "displayName": "saesa rahmike",
      "photoUrl": "",
      "userId": "16840703955574169797"
     },
     "user_tz": -420
    },
    "id": "Qx6vkBEeD5QG",
    "outputId": "ef0133f9-172c-4d93-e554-e4b1323e88a4"
   },
   "outputs": [
    {
     "name": "stdout",
     "output_type": "stream",
     "text": [
      "Number of files in each category in TRAIN set:\n",
      "0 : 150\n",
      "1 : 145\n",
      "2 : 155\n"
     ]
    }
   ],
   "source": [
    "from collections import Counter\n",
    "cnt = Counter(train_classes)\n",
    "\n",
    "print \"Number of files in each category in TRAIN set:\"\n",
    "for k in sorted(cnt.keys()):\n",
    "    print k, \":\", cnt[k]"
   ]
  },
  {
   "cell_type": "markdown",
   "metadata": {
    "colab_type": "text",
    "id": "PaF7Oj13D5QL"
   },
   "source": [
    "In a Random Split, the number of files per class may be uneven or unbalanced.\n",
    "\n",
    "The better way to do it is to use a <b>Stratified Split</b>:"
   ]
  },
  {
   "cell_type": "code",
   "execution_count": 44,
   "metadata": {
    "colab": {
     "base_uri": "https://localhost:8080/",
     "height": 103
    },
    "colab_type": "code",
    "executionInfo": {
     "elapsed": 204,
     "status": "ok",
     "timestamp": 1557642075769,
     "user": {
      "displayName": "saesa rahmike",
      "photoUrl": "",
      "userId": "16840703955574169797"
     },
     "user_tz": -420
    },
    "id": "85BFiXooD5QN",
    "outputId": "1a9c5d39-2ebd-45b9-b636-364d29a14eb1"
   },
   "outputs": [
    {
     "name": "stdout",
     "output_type": "stream",
     "text": [
      "TRAIN INDEX: [571 289 356  87 199 469  49 487 350  61 ...  66  79  62 549 220 555  97 413 162 345]\n",
      "TEST INDEX: [348 439 340 373 432 315 443 209 170  53 ... 400 376  29 451 281 431 531 402 140 537]\n",
      "(450L, 3200L)\n",
      "(150L, 3200L)\n"
     ]
    }
   ],
   "source": [
    "# better: Stratified Split retains the class balance in both sets\n",
    "# from sklearn.model_selection import StratifiedShuffleSplit\n",
    "\n",
    "if sklearn_version.startswith('0.17'):\n",
    "    splits = StratifiedShuffleSplit(classes_num, n_iter=1, test_size=testset_size, random_state=0)\n",
    "else: # >= 0.18:\n",
    "    splitter = StratifiedShuffleSplit(n_splits=1, test_size=testset_size, random_state=0)\n",
    "    splits = splitter.split(data, classes_num)\n",
    "\n",
    "for train_index, test_index in splits:\n",
    "    print \"TRAIN INDEX:\", train_index\n",
    "    print \"TEST INDEX:\", test_index\n",
    "    \n",
    "    # split the data\n",
    "    train_set = data[train_index]\n",
    "    test_set = data[test_index]\n",
    "    \n",
    "    # and the numeric classes (groundtruth)\n",
    "    train_classes = classes_num[train_index]\n",
    "    train_classes_1hot = classes_num_1hot[train_index]  # 1 hot we need for traning\n",
    "    test_classes = classes_num[test_index]\n",
    "# Note: this for loop is only executed once, if n_splits==1\n",
    "\n",
    "print train_set.shape\n",
    "print test_set.shape\n",
    "# Note: we will reshape the data later back to matrix form \n",
    "\n",
    "\n",
    "\n",
    "    \n",
    "   "
   ]
  },
  {
   "cell_type": "code",
   "execution_count": 45,
   "metadata": {
    "colab": {
     "base_uri": "https://localhost:8080/",
     "height": 83
    },
    "colab_type": "code",
    "executionInfo": {
     "elapsed": 1087,
     "status": "ok",
     "timestamp": 1557643749926,
     "user": {
      "displayName": "saesa rahmike",
      "photoUrl": "",
      "userId": "16840703955574169797"
     },
     "user_tz": -420
    },
    "id": "LRn5VLoeD5QV",
    "outputId": "26391b8c-730a-458a-e13d-a1bbe2af685a"
   },
   "outputs": [
    {
     "name": "stdout",
     "output_type": "stream",
     "text": [
      "Number of files in each category in TRAIN set:\n",
      "0 : 150\n",
      "1 : 150\n",
      "2 : 150\n"
     ]
    }
   ],
   "source": [
    "cnt = Counter(train_classes)\n",
    "print \"Number of files in each category in TRAIN set:\"\n",
    "for k in sorted(cnt.keys()):\n",
    "    print k, \":\", cnt[k]"
   ]
  },
  {
   "cell_type": "code",
   "execution_count": 46,
   "metadata": {
    "colab": {},
    "colab_type": "code",
    "id": "6Z7EWOkYuMM4"
   },
   "outputs": [],
   "source": [
    "from sklearn.model_selection import KFold"
   ]
  },
  {
   "cell_type": "code",
   "execution_count": 47,
   "metadata": {
    "colab": {},
    "colab_type": "code",
    "id": "Ot4cz55tubnx"
   },
   "outputs": [],
   "source": [
    "x = data"
   ]
  },
  {
   "cell_type": "code",
   "execution_count": 48,
   "metadata": {
    "colab": {},
    "colab_type": "code",
    "id": "IfvQNEZTUsaI"
   },
   "outputs": [],
   "source": [
    "def plot_traincurve(history, fold):\n",
    "    # define 4 colors for up to 4 different values in history\n",
    "    colors = {'loss':'r', 'acc':'b', 'val_loss':'m', 'val_acc':'g'}\n",
    "    plt.figure(figsize=(10,6))\n",
    "    plt.title('Training Curve = {:.2f}'.format(fold))\n",
    "#     plt.title(\"Training Curve\") \n",
    "    plt.xlabel(\"Epoch\")\n",
    "\n",
    "    for measure in history.keys():\n",
    "        color = colors[measure]\n",
    "        ln = len(history[measure])\n",
    "        plt.plot(range(1,ln+1), history[measure], color + '-', label=measure)  # use last 2 values to draw line\n",
    "\n",
    "    plt.legend(loc='upper left', scatterpoints = 1, frameon=False)"
   ]
  },
  {
   "cell_type": "markdown",
   "metadata": {
    "colab_type": "text",
    "id": "UaJSNAXHD5Qf"
   },
   "source": [
    "Now the number of files in each category in the training set is equal.\n",
    "\n",
    "(It is equal because our full set had 100 files in each category; a Stratified Split preserves the relative distribution of instances per category, also if the dataset is unbalanced between the classess.)"
   ]
  },
  {
   "cell_type": "markdown",
   "metadata": {
    "colab_type": "text",
    "id": "W4cqUOgvD5Qh"
   },
   "source": [
    "# Convolutional Neural Networks\n",
    "\n",
    "A Convolutional Neural Network (ConvNet or CNN) is a type of (deep) Neural Network that is well-suited for 2D axes data, such as images or spectrograms, as it is optimized for learning from spatial proximity. Its core elements are 2D filter kernels which essentially learn the weights of the Neural Network, and downscaling functions such as Max Pooling.\n",
    "\n",
    "A CNN can have one or more Convolution layers, each of them having an arbitrary number of N filters (which define the depth of the CNN layer), following typically by a pooling step, which aggregates neighboring pixels together and thus reduces the image resolution by retaining only the maximum values of neighboring pixels."
   ]
  },
  {
   "cell_type": "code",
   "execution_count": null,
   "metadata": {
    "colab": {
     "base_uri": "https://localhost:8080/",
     "height": 128
    },
    "colab_type": "code",
    "executionInfo": {
     "elapsed": 879,
     "status": "error",
     "timestamp": 1557647580692,
     "user": {
      "displayName": "saesa rahmike",
      "photoUrl": "",
      "userId": "16840703955574169797"
     },
     "user_tz": -420
    },
    "id": "LXRFXb6-uf9T",
    "outputId": "f7419cd7-4e28-4a50-dd71-28fef351a1bd",
    "scrolled": false
   },
   "outputs": [
    {
     "name": "stdout",
     "output_type": "stream",
     "text": [
      "('Fold ', 1)\n",
      "TRAIN INDEX: [ 20  21  22  23  24  25  26  27  28  29 ... 590 591 592 593 594 595 596 597 598 599]\n",
      "TEST INDEX: [  0   1   2   3   4   5   6   7   8   9 ... 410 411 412 413 414 415 416 417 418 419]\n",
      "('Fold ', 2)\n",
      "TRAIN INDEX: [  0   1   2   3   4   5   6   7   8   9 ... 590 591 592 593 594 595 596 597 598 599]\n",
      "TEST INDEX: [ 20  21  22  23  24  25  26  27  28  29 ... 430 431 432 433 434 435 436 437 438 439]\n",
      "('Fold ', 3)\n",
      "TRAIN INDEX: [  0   1   2   3   4   5   6   7   8   9 ... 590 591 592 593 594 595 596 597 598 599]\n",
      "TEST INDEX: [ 40  41  42  43  44  45  46  47  48  49 ... 450 451 452 453 454 455 456 457 458 459]\n",
      "('Fold ', 4)\n",
      "TRAIN INDEX: [  0   1   2   3   4   5   6   7   8   9 ... 590 591 592 593 594 595 596 597 598 599]\n",
      "TEST INDEX: [ 60  61  62  63  64  65  66  67  68  69 ... 470 471 472 473 474 475 476 477 478 479]\n",
      "('Fold ', 5)\n",
      "TRAIN INDEX: [  0   1   2   3   4   5   6   7   8   9 ... 590 591 592 593 594 595 596 597 598 599]\n",
      "TEST INDEX: [ 80  81  82  83  84  85  86  87  88  89 ... 490 491 492 493 494 495 496 497 498 499]\n",
      "('Fold ', 6)\n",
      "TRAIN INDEX: [  0   1   2   3   4   5   6   7   8   9 ... 590 591 592 593 594 595 596 597 598 599]\n",
      "TEST INDEX: [100 101 102 103 104 105 106 107 108 109 ... 510 511 512 513 514 515 516 517 518 519]\n",
      "('Fold ', 7)\n",
      "TRAIN INDEX: [  0   1   2   3   4   5   6   7   8   9 ... 590 591 592 593 594 595 596 597 598 599]\n",
      "TEST INDEX: [120 121 122 123 124 125 126 127 128 129 ... 530 531 532 533 534 535 536 537 538 539]\n",
      "('Fold ', 8)\n",
      "TRAIN INDEX: [  0   1   2   3   4   5   6   7   8   9 ... 590 591 592 593 594 595 596 597 598 599]\n",
      "TEST INDEX: [140 141 142 143 144 145 146 147 148 149 ... 550 551 552 553 554 555 556 557 558 559]\n",
      "('Fold ', 9)\n",
      "TRAIN INDEX: [  0   1   2   3   4   5   6   7   8   9 ... 590 591 592 593 594 595 596 597 598 599]\n",
      "TEST INDEX: [160 161 162 163 164 165 166 167 168 169 ... 570 571 572 573 574 575 576 577 578 579]\n",
      "('Fold ', 10)\n",
      "TRAIN INDEX: [  0   1   2   3   4   5   6   7   8   9 ... 570 571 572 573 574 575 576 577 578 579]\n",
      "TEST INDEX: [180 181 182 183 184 185 186 187 188 189 ... 590 591 592 593 594 595 596 597 598 599]\n",
      "Epoch 1/45\n"
     ]
    }
   ],
   "source": [
    "\n",
    "fold = 0\n",
    "n_channels = 1\n",
    "if sklearn_version.startswith('0.17'):\n",
    "#   splits = StratifiedShuffleSplit(classes_num, n_iter=10, test_size=testset_size, random_state=0)\n",
    "  splits = StratifiedKFold(n_splits=10, shuffle=False)\n",
    "else: # >= 0.18:\n",
    "    splitter = StratifiedKFold(n_splits=10, shuffle=False, random_state=60)\n",
    "    splits = splitter.split(data, classes_num)\n",
    "#   splitter = StratifiedShuffleSplit(n_splits=10, test_size=testset_size, random_state=0)\n",
    "\n",
    "fold = 0\n",
    "for train_index, test_index in splits:\n",
    "    fold = fold+1\n",
    "    print(\"Fold \", fold)\n",
    "    print \"TRAIN INDEX:\", train_index\n",
    "    print \"TEST INDEX:\", test_index\n",
    "    # split the data\n",
    "    train_set = data[train_index]\n",
    "    test_set = data[test_index]\n",
    "    \n",
    "    # and the numeric classes (groundtruth)\n",
    "    train_classes = classes_num[train_index]\n",
    "    train_classes_1hot = classes_num_1hot[train_index]  # 1 hot we need for traning\n",
    "    test_classes = classes_num[test_index]\n",
    "    if keras.backend.image_dim_ordering() == 'th':\n",
    "        # Theano ordering (~/.keras/keras.json: \"image_dim_ordering\": \"th\")\n",
    "        train_set = train_set.reshape(train_set.shape[0], n_channels, ydim, xdim)\n",
    "        test_set = test_set.reshape(test_set.shape[0], n_channels, ydim, xdim)\n",
    "    else:\n",
    "        # Tensorflow ordering (~/.keras/keras.json: \"image_dim_ordering\": \"tf\")\n",
    "        train_set = train_set.reshape(train_set.shape[0], ydim, xdim, n_channels)\n",
    "        test_set = test_set.reshape(test_set.shape[0], ydim, xdim, n_channels)\n",
    "\n",
    "input_shape = train_set.shape[1:]  \n",
    "#model\n",
    "np.random.seed(0) # make results repeatable\n",
    "model = Sequential()\n",
    "conv_filters = 16   # number of convolution filters (= CNN depth)\n",
    "  #conv_filters = 32   # number of convolution filters (= CNN depth)\n",
    "# Layer 1\n",
    "model.add(Convolution2D(conv_filters, 4, 12, input_shape=input_shape))\n",
    "model.add(Activation('relu'))\n",
    "model.add(MaxPooling2D(pool_size=(2, 2))) \n",
    "  #model.add(Dropout(0.25)) \n",
    "\n",
    "# Layer 2\n",
    "model.add(Convolution2D(conv_filters, 3, 3))\n",
    "model.add(BatchNormalization())\n",
    "model.add(Activation('relu')) \n",
    "model.add(MaxPooling2D(pool_size=(2, 2))) \n",
    "\n",
    "# After Convolution, we have a 16*x*y matrix output\n",
    "# In order to feed this to a Full(Dense) layer, we need to flatten all data\n",
    "# Note: Keras does automatic shape inference, i.e. it knows how many (flat) input units the next layer will need,\n",
    "# so no parameter is needed for the Flatten() layer.\n",
    "model.add(Flatten()) \n",
    "\n",
    "# Full layer\n",
    "model.add(Dense(256, activation='sigmoid')) \n",
    "model.add(Dropout(0.1))\n",
    "  #model.add(Dense(256, activation='sigmoid')) \n",
    "\n",
    "  # Output layer\n",
    "  # For binary/2-class problems use ONE sigmoid unit, for multi-class/multi-label problems use n output units \n",
    "  # activation should be 'softmax' for multi-class / single-label output, 'sigmoid' for binary or multi-label tasks\n",
    "model.add(Dense(n_classes,activation='softmax'))\n",
    "  #   print(model.summary())\n",
    "# Define a loss function \n",
    "loss = 'categorical_crossentropy' \n",
    "learn_rate = 0.02\n",
    "\n",
    "  # Note: for binary classification (2 classes) OR for multi-class problems use:\n",
    "  #loss = 'binary_crossentropy' \n",
    "\n",
    "  # Optimizer = Stochastic Gradient Descent\n",
    "optimizer = 'sgd' \n",
    "\n",
    "  # Compiling the model\n",
    "model.compile(loss=loss, optimizer=optimizer, metrics=['accuracy'])\n",
    "history = None\n",
    "  # TRAINING the model\n",
    "\n",
    "  # YOU MAY RUN THIS CELL MULTIPLE TIMES TO CONTINUE TO TRAIN THE MODEL FURTHER\n",
    "  #for train, test in kf.split(X, Y):\n",
    "\n",
    "  # for how many epochs (iterations) to train\n",
    "epochs = 45\n",
    "  \n",
    "  # for training we need the \"1 hot encoded\" numeric classes of the ground truth\n",
    "  #   History = model.fit(train_set, train_classes_1hot, batch_size=32, nb_epoch=epochs)\n",
    "History = model.fit(train_set, train_classes_1hot, batch_size=32, nb_epoch=epochs)\n",
    "\n",
    "  # we keep the history of accuracies on training set\n",
    "  # we append this to previous history in case we execute this cell multiple times\n",
    "if history is None:\n",
    "    history = History.history\n",
    "else:\n",
    "    for key in History.history.keys():\n",
    "        history[key].extend(History.history[key])\n",
    "    plot_traincurve(history, fold)\n",
    "    test_pred = model.predict_classes(test_set)\n",
    "  \n",
    "  # predictions\n",
    "#   print(test_pred)\n",
    "  \n",
    "#   # groundtruth\n",
    "#   print(test_classes)\n",
    "  # 1 layer\n",
    "    print(\"\\n\")\n",
    "    print(accuracy_score(test_classes, test_pred))\n",
    "    print(\"\\n\")\n",
    "# Note: this for loop is only executed once, if n_splits==1\n",
    "# print train_set.shape\n",
    "# print test_set.shape\n"
   ]
  },
  {
   "cell_type": "markdown",
   "metadata": {
    "colab_type": "text",
    "id": "U6Gw-UmaD5Qi"
   },
   "source": [
    "## Preparing the Data\n",
    "\n",
    "### Adding the channel\n",
    "\n",
    "As CNNs were invented for image data (often having 3 color channels), we need to add a dimension for the color channel to the data. \n",
    "\n",
    "<b>Spectrograms, are considered like greyscale images, which only have 1 color channel. Still we add the extra dimension, defining just 1 channel.</b>\n",
    "\n",
    "#### Theano vs. Tensorflow\n",
    "\n",
    "In Theano, traditionally the color channel is the <b>first</b> dimension in the image shape. \n",
    "In Tensorflow, the color channel is the <b>last</b> dimension in the image shape. \n",
    "\n",
    "This can be configured now in ~/.keras/keras.json: \"image_dim_ordering\": \"th\" or \"tf\" with \"tf\" (Tensorflow) being the default image ordering even though you use Theano. Depending on this, use one of the code lines below.\n",
    "\n",
    "We created an 'if' statement here to check which dimension ordering to use:"
   ]
  },
  {
   "cell_type": "code",
   "execution_count": 0,
   "metadata": {
    "colab": {},
    "colab_type": "code",
    "id": "rhD3o5n4D5Qj"
   },
   "outputs": [],
   "source": [
    "n_channels = 1 # 1 for grey-scale, 3 for RGB (in this case usually already present in the data)\n",
    "\n",
    "if keras.backend.image_dim_ordering() == 'th':\n",
    "    # Theano ordering (~/.keras/keras.json: \"image_dim_ordering\": \"th\")\n",
    "    train_set = train_set.reshape(train_set.shape[0], n_channels, ydim, xdim)\n",
    "    test_set = test_set.reshape(test_set.shape[0], n_channels, ydim, xdim)\n",
    "else:\n",
    "    # Tensorflow ordering (~/.keras/keras.json: \"image_dim_ordering\": \"tf\")\n",
    "    train_set = train_set.reshape(train_set.shape[0], ydim, xdim, n_channels)\n",
    "    test_set = test_set.reshape(test_set.shape[0], ydim, xdim, n_channels)"
   ]
  },
  {
   "cell_type": "code",
   "execution_count": 67,
   "metadata": {
    "colab": {
     "base_uri": "https://localhost:8080/",
     "height": 33
    },
    "colab_type": "code",
    "executionInfo": {
     "elapsed": 1020,
     "status": "ok",
     "timestamp": 1557643729144,
     "user": {
      "displayName": "saesa rahmike",
      "photoUrl": "",
      "userId": "16840703955574169797"
     },
     "user_tz": -420
    },
    "id": "_sg6dtCuD5Qn",
    "outputId": "c5edb250-0c84-4f1c-8d00-6e45dead7bf2"
   },
   "outputs": [
    {
     "data": {
      "text/plain": [
       "'tf'"
      ]
     },
     "execution_count": 67,
     "metadata": {
      "tags": []
     },
     "output_type": "execute_result"
    }
   ],
   "source": [
    "keras.backend.image_dim_ordering()"
   ]
  },
  {
   "cell_type": "code",
   "execution_count": 68,
   "metadata": {
    "colab": {
     "base_uri": "https://localhost:8080/",
     "height": 33
    },
    "colab_type": "code",
    "executionInfo": {
     "elapsed": 740,
     "status": "ok",
     "timestamp": 1557643729602,
     "user": {
      "displayName": "saesa rahmike",
      "photoUrl": "",
      "userId": "16840703955574169797"
     },
     "user_tz": -420
    },
    "id": "0p3sOUZqD5Qr",
    "outputId": "881a1835-eea6-434e-bd49-92efb503a9bd"
   },
   "outputs": [
    {
     "data": {
      "text/plain": [
       "(450, 40, 80, 1)"
      ]
     },
     "execution_count": 68,
     "metadata": {
      "tags": []
     },
     "output_type": "execute_result"
    }
   ],
   "source": [
    "train_set.shape"
   ]
  },
  {
   "cell_type": "code",
   "execution_count": 69,
   "metadata": {
    "colab": {
     "base_uri": "https://localhost:8080/",
     "height": 33
    },
    "colab_type": "code",
    "executionInfo": {
     "elapsed": 1138,
     "status": "ok",
     "timestamp": 1557643731073,
     "user": {
      "displayName": "saesa rahmike",
      "photoUrl": "",
      "userId": "16840703955574169797"
     },
     "user_tz": -420
    },
    "id": "2Zp-lcpoD5Qx",
    "outputId": "9ce5916a-4bf5-4519-8708-960d35a0dd04"
   },
   "outputs": [
    {
     "data": {
      "text/plain": [
       "(150, 40, 80, 1)"
      ]
     },
     "execution_count": 69,
     "metadata": {
      "tags": []
     },
     "output_type": "execute_result"
    }
   ],
   "source": [
    "test_set.shape"
   ]
  },
  {
   "cell_type": "code",
   "execution_count": 70,
   "metadata": {
    "colab": {
     "base_uri": "https://localhost:8080/",
     "height": 33
    },
    "colab_type": "code",
    "executionInfo": {
     "elapsed": 988,
     "status": "ok",
     "timestamp": 1557643734975,
     "user": {
      "displayName": "saesa rahmike",
      "photoUrl": "",
      "userId": "16840703955574169797"
     },
     "user_tz": -420
    },
    "id": "ochxxudUD5Q1",
    "outputId": "0537e07b-79ce-433f-af7b-eefd5fece54a"
   },
   "outputs": [
    {
     "data": {
      "text/plain": [
       "(40, 80, 1)"
      ]
     },
     "execution_count": 70,
     "metadata": {
      "tags": []
     },
     "output_type": "execute_result"
    }
   ],
   "source": [
    "# we store the new shape of the images in the 'input_shape' variable.\n",
    "# take all dimensions except the 0th one (which is the number of images)\n",
    "input_shape = train_set.shape[1:]  \n",
    "input_shape"
   ]
  },
  {
   "cell_type": "markdown",
   "metadata": {
    "colab_type": "text",
    "id": "UHJbvRPAD5Q7"
   },
   "source": [
    "# Creating Neural Network Models in Keras\n",
    "\n",
    "## Sequential Models\n",
    "\n",
    "In Keras, one can choose between a Sequential model and a Graph model. Sequential models are the standard case. Graph models are for parallel networks."
   ]
  },
  {
   "cell_type": "markdown",
   "metadata": {
    "colab_type": "text",
    "id": "C33lVMPfD5Q8"
   },
   "source": [
    "## Creating a Single Layer and a Two Layer CNN"
   ]
  },
  {
   "cell_type": "markdown",
   "metadata": {
    "colab_type": "text",
    "id": "umzjbdpGD5Q9"
   },
   "source": [
    "Try: (comment/uncomment code in the following code block)\n",
    "* 1 Layer\n",
    "* 2 Layer\n",
    "* more conv_filters\n",
    "* Dropout"
   ]
  },
  {
   "cell_type": "code",
   "execution_count": 89,
   "metadata": {
    "colab": {
     "base_uri": "https://localhost:8080/",
     "height": 128
    },
    "colab_type": "code",
    "executionInfo": {
     "elapsed": 926,
     "status": "error",
     "timestamp": 1557647144532,
     "user": {
      "displayName": "saesa rahmike",
      "photoUrl": "",
      "userId": "16840703955574169797"
     },
     "user_tz": -420
    },
    "id": "PwZxfl7HD5RN",
    "outputId": "042e9f43-0f86-4d5e-8d0d-01b754daadd9"
   },
   "outputs": [
    {
     "ename": "SyntaxError",
     "evalue": "ignored",
     "output_type": "error",
     "traceback": [
      "\u001b[0;36m  File \u001b[0;32m\"<ipython-input-89-56f8bba8d7c3>\"\u001b[0;36m, line \u001b[0;32m37\u001b[0m\n\u001b[0;31m    conv_ filters = 16   # number of convolution filters (= CNN depth)\u001b[0m\n\u001b[0m                ^\u001b[0m\n\u001b[0;31mSyntaxError\u001b[0m\u001b[0;31m:\u001b[0m invalid syntax\n"
     ]
    }
   ],
   "source": [
    "\n",
    "\n",
    "model = Sequential()\n",
    "\n",
    "conv_ h  ers = 16   # number of convolution filters (= CNN depth)\n",
    "#conv_filters = 32   # number of convolution filters (= CNN depth)\n",
    "\n",
    "# Layer 1\n",
    "model.add(Convolution2D(conv_filters, 4, 12, input_shape=input_shape))\n",
    "model.add(MaxPooling2D(pool_size=(2, 2))) \n",
    "#model.add(Dropout(0.25)) \n",
    "\n",
    "# Layer 2\n",
    "model.add(Convolution2D(conv_filters, 3, 3))\n",
    "model.add(MaxPooling2D(pool_size=(2, 2))) \n",
    "\n",
    "# After Convolution, we have a 16*x*y matrix output\n",
    "# In order to feed this to a Full(Dense) layer, we need to flatten all data\n",
    "# Note: Keras does automatic shape inference, i.e. it knows how many (flat) input units the next layer will need,\n",
    "# so no parameter is needed for the Flatten() layer.\n",
    "model.add(Flatten()) \n",
    "\n",
    "# Full layer\n",
    "model.add(Dense(200, activation='sigmoid')) \n",
    "#model.add(Dense(256, activation='sigmoid')) \n",
    "\n",
    "# Output layer\n",
    "# For binary/2-class problems use ONE sigmoid unit, for multi-class/multi-label problems use n output units \n",
    "# activation should be 'softmax' for multi-class / single-label output, 'sigmoid' for binary or multi-label tasks\n",
    "model.add(Dense(n_classes,activation='softmax'))"
   ]
  },
  {
   "cell_type": "markdown",
   "metadata": {
    "colab_type": "text",
    "id": "x_9UyMpID5RT"
   },
   "source": [
    "If you get OverflowError: Range exceeds valid bounds in the above box, check the correct Theano vs. Tensorflow ordering in the box before and your keras.json configuration file."
   ]
  },
  {
   "cell_type": "code",
   "execution_count": 0,
   "metadata": {
    "colab": {},
    "colab_type": "code",
    "id": "m_gcPYfUD5RU"
   },
   "outputs": [],
   "source": [
    "model.summary()"
   ]
  },
  {
   "cell_type": "markdown",
   "metadata": {
    "colab_type": "text",
    "id": "4DDnS4jKD5Rc"
   },
   "source": [
    "## Training the CNN"
   ]
  },
  {
   "cell_type": "code",
   "execution_count": 0,
   "metadata": {
    "colab": {},
    "colab_type": "code",
    "id": "3yeVHiugD5Re"
   },
   "outputs": [],
   "source": [
    "# Define a loss function \n",
    "loss = 'categorical_crossentropy' \n",
    "learn_rate = 0.08\n",
    "\n",
    "# Note: for binary classification (2 classes) OR for multi-class problems use:\n",
    "#loss = 'binary_crossentropy' \n",
    "\n",
    "# Optimizer = Stochastic Gradient Descent\n",
    "optimizer = 'sgd' \n",
    "\n",
    "# Compiling the model\n",
    "model.compile(loss=loss, optimizer=optimizer, metrics=['accuracy'])"
   ]
  },
  {
   "cell_type": "code",
   "execution_count": 0,
   "metadata": {
    "colab": {},
    "colab_type": "code",
    "id": "6s7YBZ5YD5Ry"
   },
   "outputs": [],
   "source": [
    "history = None"
   ]
  },
  {
   "cell_type": "code",
   "execution_count": 0,
   "metadata": {
    "colab": {},
    "colab_type": "code",
    "id": "hPI1r7NpD5SD"
   },
   "outputs": [],
   "source": [
    "def plot_traincurve(history):\n",
    "    # define 4 colors for up to 4 different values in history\n",
    "    colors = {'loss':'r', 'acc':'b', 'val_loss':'m', 'val_acc':'g'}\n",
    "    plt.figure(figsize=(10,6))\n",
    "    plt.title(\"Training Curve\") \n",
    "    plt.xlabel(\"Epoch\")\n",
    "\n",
    "    for measure in history.keys():\n",
    "        color = colors[measure]\n",
    "        ln = len(history[measure])\n",
    "        plt.plot(range(1,ln+1), history[measure], color + '-', label=measure)  # use last 2 values to draw line\n",
    "\n",
    "    plt.legend(loc='upper left', scatterpoints = 1, frameon=False)"
   ]
  },
  {
   "cell_type": "code",
   "execution_count": 0,
   "metadata": {
    "colab": {},
    "colab_type": "code",
    "id": "GZ6fCJPGD5R4"
   },
   "outputs": [],
   "source": [
    "# TRAINING the model\n",
    "\n",
    "# YOU MAY RUN THIS CELL MULTIPLE TIMES TO CONTINUE TO TRAIN THE MODEL FURTHER\n",
    "#for train, test in kf.split(X, Y):\n",
    "  \n",
    "  # for how many epochs (iterations) to train\n",
    "  epochs = 15\n",
    "\n",
    "  # for training we need the \"1 hot encoded\" numeric classes of the ground truth\n",
    "#   History = model.fit(train_set, train_classes_1hot, batch_size=32, nb_epoch=epochs)\n",
    "  History = model.fit(train_set, train_classes_1hot, batch_size=32, nb_epoch=epochs)\n",
    "\n",
    "  # we keep the history of accuracies on training set\n",
    "  # we append this to previous history in case we execute this cell multiple times\n",
    "  if history is None:\n",
    "      history = History.history\n",
    "  else:\n",
    "      for key in History.history.keys():\n",
    "          history[key].extend(History.history[key])\n",
    "  plot_traincurve(history)\n",
    "  test_pred = model.predict_classes(test_set)"
   ]
  },
  {
   "cell_type": "code",
   "execution_count": 0,
   "metadata": {
    "colab": {},
    "colab_type": "code",
    "id": "q7QKksNbD5SN"
   },
   "outputs": [],
   "source": [
    "plot_traincurve(history)"
   ]
  },
  {
   "cell_type": "markdown",
   "metadata": {
    "colab_type": "text",
    "id": "wCuCWkhUD5SY"
   },
   "source": [
    "#### Accuracy always goes up on Train set! Also on Test set?"
   ]
  },
  {
   "cell_type": "markdown",
   "metadata": {
    "colab_type": "text",
    "id": "ceqOPzUhD5SZ"
   },
   "source": [
    "### Verifying Accuracy on Test Set"
   ]
  },
  {
   "cell_type": "code",
   "execution_count": 0,
   "metadata": {
    "colab": {},
    "colab_type": "code",
    "id": "FhFBZBWID5Sd",
    "scrolled": true
   },
   "outputs": [],
   "source": [
    "test_pred = model.predict_classes(test_set)"
   ]
  },
  {
   "cell_type": "code",
   "execution_count": 0,
   "metadata": {
    "colab": {},
    "colab_type": "code",
    "id": "9Hq-m_K2D5Sm"
   },
   "outputs": [],
   "source": [
    "# predictions\n",
    "test_pred"
   ]
  },
  {
   "cell_type": "code",
   "execution_count": 0,
   "metadata": {
    "colab": {},
    "colab_type": "code",
    "id": "RfcNPo5BD5S6"
   },
   "outputs": [],
   "source": [
    "# groundtruth\n",
    "test_classes"
   ]
  },
  {
   "cell_type": "code",
   "execution_count": 0,
   "metadata": {
    "colab": {},
    "colab_type": "code",
    "id": "2xvw8LLBD5TD"
   },
   "outputs": [],
   "source": [
    "# 1 layer\n",
    "accuracy_score(test_classes, test_pred)"
   ]
  },
  {
   "cell_type": "code",
   "execution_count": 0,
   "metadata": {
    "colab": {},
    "colab_type": "code",
    "id": "iOqzwoPDD5TO"
   },
   "outputs": [],
   "source": [
    "# 2 layer\n",
    "accuracy_score(test_classes, test_pred)"
   ]
  },
  {
   "cell_type": "code",
   "execution_count": 0,
   "metadata": {
    "colab": {},
    "colab_type": "code",
    "id": "EISovUkYD5Tu",
    "scrolled": true
   },
   "outputs": [],
   "source": [
    "# 2 layer + 32 convolution filters\n",
    "accuracy_score(test_classes, test_pred)"
   ]
  },
  {
   "cell_type": "code",
   "execution_count": 0,
   "metadata": {
    "colab": {},
    "colab_type": "code",
    "id": "0EJp8Wt3D5T2"
   },
   "outputs": [],
   "source": [
    "# 2 layer + 32 convolution filters + ReLU + Dropout\n",
    "accuracy_score(test_classes, test_pred)"
   ]
  },
  {
   "cell_type": "markdown",
   "metadata": {
    "colab_type": "text",
    "id": "OEshRiLaD5UG"
   },
   "source": [
    "## Custom Model"
   ]
  },
  {
   "cell_type": "code",
   "execution_count": 101,
   "metadata": {
    "colab": {
     "base_uri": "https://localhost:8080/",
     "height": 20270
    },
    "colab_type": "code",
    "executionInfo": {
     "elapsed": 105622,
     "status": "ok",
     "timestamp": 1557648336446,
     "user": {
      "displayName": "saesa rahmike",
      "photoUrl": "",
      "userId": "16840703955574169797"
     },
     "user_tz": -420
    },
    "id": "ed9z7HE4D5UJ",
    "outputId": "3ccbc5ef-1d99-4f98-83a3-59df4bc00770"
   },
   "outputs": [
    {
     "name": "stdout",
     "output_type": "stream",
     "text": [
      "('Fold ', 1)\n",
      "TRAIN INDEX: [ 20  21  22  23  24  25  26  27  28  29 ... 590 591 592 593 594 595 596 597 598 599]\n",
      "TEST INDEX: [  0   1   2   3   4   5   6   7   8   9 ... 410 411 412 413 414 415 416 417 418 419]\n",
      "Epoch 1/45\n",
      "540/540 [==============================] - 1s - loss: 1.0499 - acc: 0.4556     \n",
      "Epoch 2/45\n",
      "540/540 [==============================] - 0s - loss: 0.9000 - acc: 0.5074     \n",
      "Epoch 3/45\n",
      "540/540 [==============================] - 0s - loss: 0.8284 - acc: 0.6222     \n",
      "Epoch 4/45\n",
      "540/540 [==============================] - 0s - loss: 0.7925 - acc: 0.6481     \n",
      "Epoch 5/45\n",
      "540/540 [==============================] - 0s - loss: 0.7970 - acc: 0.6333     \n",
      "Epoch 6/45\n",
      "540/540 [==============================] - 0s - loss: 0.7709 - acc: 0.6574     \n",
      "Epoch 7/45\n",
      "540/540 [==============================] - 0s - loss: 0.7430 - acc: 0.6463     \n",
      "Epoch 8/45\n",
      "540/540 [==============================] - 0s - loss: 0.7108 - acc: 0.6685     \n",
      "Epoch 9/45\n",
      "540/540 [==============================] - 0s - loss: 0.7263 - acc: 0.6704     \n",
      "Epoch 10/45\n",
      "540/540 [==============================] - 0s - loss: 0.6991 - acc: 0.6685     \n",
      "Epoch 11/45\n",
      "540/540 [==============================] - 0s - loss: 0.6802 - acc: 0.6926     \n",
      "Epoch 12/45\n",
      "540/540 [==============================] - 0s - loss: 0.6415 - acc: 0.7241     \n",
      "Epoch 13/45\n",
      "540/540 [==============================] - 0s - loss: 0.6079 - acc: 0.7444     \n",
      "Epoch 14/45\n",
      "540/540 [==============================] - 0s - loss: 0.5921 - acc: 0.7519     \n",
      "Epoch 15/45\n",
      "540/540 [==============================] - 0s - loss: 0.5678 - acc: 0.7648     \n",
      "Epoch 16/45\n",
      "540/540 [==============================] - 0s - loss: 0.5829 - acc: 0.7852     \n",
      "Epoch 17/45\n",
      "540/540 [==============================] - 0s - loss: 0.5603 - acc: 0.7796     \n",
      "Epoch 18/45\n",
      "540/540 [==============================] - 0s - loss: 0.5477 - acc: 0.7870     \n",
      "Epoch 19/45\n",
      "540/540 [==============================] - 0s - loss: 0.5485 - acc: 0.7685     \n",
      "Epoch 20/45\n",
      "540/540 [==============================] - 0s - loss: 0.5198 - acc: 0.7907     \n",
      "Epoch 21/45\n",
      "540/540 [==============================] - 0s - loss: 0.5158 - acc: 0.7963     \n",
      "Epoch 22/45\n",
      "540/540 [==============================] - 0s - loss: 0.4868 - acc: 0.8222     \n",
      "Epoch 23/45\n",
      "540/540 [==============================] - 0s - loss: 0.4517 - acc: 0.8407     \n",
      "Epoch 24/45\n",
      "540/540 [==============================] - 0s - loss: 0.4767 - acc: 0.8222     \n",
      "Epoch 25/45\n",
      "540/540 [==============================] - 0s - loss: 0.4758 - acc: 0.8204     \n",
      "Epoch 26/45\n",
      "540/540 [==============================] - 0s - loss: 0.4418 - acc: 0.8444     \n",
      "Epoch 27/45\n",
      "540/540 [==============================] - 0s - loss: 0.4505 - acc: 0.8278     \n",
      "Epoch 28/45\n",
      "540/540 [==============================] - 0s - loss: 0.4219 - acc: 0.8481     \n",
      "Epoch 29/45\n",
      "540/540 [==============================] - 0s - loss: 0.3954 - acc: 0.8630     \n",
      "Epoch 30/45\n",
      "540/540 [==============================] - 0s - loss: 0.4168 - acc: 0.8537     \n",
      "Epoch 31/45\n",
      "540/540 [==============================] - 0s - loss: 0.4047 - acc: 0.8370     \n",
      "Epoch 32/45\n",
      "540/540 [==============================] - 0s - loss: 0.3814 - acc: 0.8778     \n",
      "Epoch 33/45\n",
      "540/540 [==============================] - 0s - loss: 0.3881 - acc: 0.8519     \n",
      "Epoch 34/45\n",
      "540/540 [==============================] - 0s - loss: 0.3800 - acc: 0.8574     \n",
      "Epoch 35/45\n",
      "540/540 [==============================] - 0s - loss: 0.3854 - acc: 0.8611     \n",
      "Epoch 36/45\n",
      "540/540 [==============================] - 0s - loss: 0.3567 - acc: 0.8648     \n",
      "Epoch 37/45\n",
      "540/540 [==============================] - 0s - loss: 0.3500 - acc: 0.8907     \n",
      "Epoch 38/45\n",
      "540/540 [==============================] - 0s - loss: 0.3455 - acc: 0.8815     \n",
      "Epoch 39/45\n",
      "540/540 [==============================] - 0s - loss: 0.3731 - acc: 0.8611     \n",
      "Epoch 40/45\n",
      "540/540 [==============================] - 0s - loss: 0.3237 - acc: 0.8963     \n",
      "Epoch 41/45\n",
      "540/540 [==============================] - 0s - loss: 0.3240 - acc: 0.8722     \n",
      "Epoch 42/45\n",
      "540/540 [==============================] - 0s - loss: 0.3283 - acc: 0.8926     \n",
      "Epoch 43/45\n",
      "540/540 [==============================] - 0s - loss: 0.3219 - acc: 0.8796     \n",
      "Epoch 44/45\n",
      "540/540 [==============================] - 0s - loss: 0.3014 - acc: 0.9093     \n",
      "Epoch 45/45\n",
      "540/540 [==============================] - 0s - loss: 0.3176 - acc: 0.8815     \n",
      "60/60 [==============================] - 1s     \n",
      "\n",
      "\n",
      "0.7333333333333333\n",
      "\n",
      "\n",
      "('Fold ', 2)\n",
      "TRAIN INDEX: [  0   1   2   3   4   5   6   7   8   9 ... 590 591 592 593 594 595 596 597 598 599]\n",
      "TEST INDEX: [ 20  21  22  23  24  25  26  27  28  29 ... 430 431 432 433 434 435 436 437 438 439]\n",
      "Epoch 1/45\n",
      "540/540 [==============================] - 2s - loss: 1.0386 - acc: 0.4370     \n",
      "Epoch 2/45\n",
      "540/540 [==============================] - 0s - loss: 0.9295 - acc: 0.5370     \n",
      "Epoch 3/45\n",
      "540/540 [==============================] - 0s - loss: 0.8762 - acc: 0.5519     \n",
      "Epoch 4/45\n",
      "540/540 [==============================] - 0s - loss: 0.8225 - acc: 0.5926     \n",
      "Epoch 5/45\n",
      "540/540 [==============================] - 0s - loss: 0.7939 - acc: 0.6259     \n",
      "Epoch 6/45\n",
      "540/540 [==============================] - 0s - loss: 0.7841 - acc: 0.6352     \n",
      "Epoch 7/45\n",
      "540/540 [==============================] - 0s - loss: 0.7461 - acc: 0.6519     \n",
      "Epoch 8/45\n",
      "540/540 [==============================] - 0s - loss: 0.7307 - acc: 0.6759     \n",
      "Epoch 9/45\n",
      "540/540 [==============================] - 0s - loss: 0.6916 - acc: 0.6852     \n",
      "Epoch 10/45\n",
      "540/540 [==============================] - 0s - loss: 0.6936 - acc: 0.6667     \n",
      "Epoch 11/45\n",
      "540/540 [==============================] - 0s - loss: 0.6638 - acc: 0.7241     \n",
      "Epoch 12/45\n",
      "540/540 [==============================] - 0s - loss: 0.6355 - acc: 0.7407     \n",
      "Epoch 13/45\n",
      "540/540 [==============================] - 0s - loss: 0.6384 - acc: 0.7241     \n",
      "Epoch 14/45\n",
      "540/540 [==============================] - 0s - loss: 0.5745 - acc: 0.7796     \n",
      "Epoch 15/45\n",
      "540/540 [==============================] - 0s - loss: 0.5916 - acc: 0.7407     \n",
      "Epoch 16/45\n",
      "540/540 [==============================] - 0s - loss: 0.5585 - acc: 0.7852     \n",
      "Epoch 17/45\n",
      "540/540 [==============================] - 0s - loss: 0.5451 - acc: 0.7741     \n",
      "Epoch 18/45\n",
      "540/540 [==============================] - 0s - loss: 0.5466 - acc: 0.7778     \n",
      "Epoch 19/45\n",
      "540/540 [==============================] - 0s - loss: 0.5085 - acc: 0.8074     \n",
      "Epoch 20/45\n",
      "540/540 [==============================] - 0s - loss: 0.4976 - acc: 0.8296     \n",
      "Epoch 21/45\n",
      "540/540 [==============================] - 0s - loss: 0.4758 - acc: 0.8148     \n",
      "Epoch 22/45\n",
      "540/540 [==============================] - 0s - loss: 0.4649 - acc: 0.8278     \n",
      "Epoch 23/45\n",
      "540/540 [==============================] - 0s - loss: 0.4717 - acc: 0.8278     \n",
      "Epoch 24/45\n",
      "540/540 [==============================] - 0s - loss: 0.4285 - acc: 0.8648     \n",
      "Epoch 25/45\n",
      "540/540 [==============================] - 0s - loss: 0.4335 - acc: 0.8389     \n",
      "Epoch 26/45\n",
      "540/540 [==============================] - 0s - loss: 0.4289 - acc: 0.8426     \n",
      "Epoch 27/45\n",
      "540/540 [==============================] - 0s - loss: 0.4220 - acc: 0.8611     \n",
      "Epoch 28/45\n",
      "540/540 [==============================] - 0s - loss: 0.3898 - acc: 0.8630     \n",
      "Epoch 29/45\n",
      "540/540 [==============================] - 0s - loss: 0.3766 - acc: 0.8519     \n",
      "Epoch 30/45\n",
      "540/540 [==============================] - 0s - loss: 0.3842 - acc: 0.8759     \n",
      "Epoch 31/45\n",
      "540/540 [==============================] - 0s - loss: 0.3561 - acc: 0.8907     \n",
      "Epoch 32/45\n",
      "540/540 [==============================] - 0s - loss: 0.3714 - acc: 0.8741     \n",
      "Epoch 33/45\n",
      "540/540 [==============================] - 0s - loss: 0.3677 - acc: 0.8704     \n",
      "Epoch 34/45\n",
      "540/540 [==============================] - 0s - loss: 0.3603 - acc: 0.8926     \n",
      "Epoch 35/45\n",
      "540/540 [==============================] - 0s - loss: 0.3273 - acc: 0.8926     \n",
      "Epoch 36/45\n",
      "540/540 [==============================] - 0s - loss: 0.3237 - acc: 0.9074     \n",
      "Epoch 37/45\n",
      "540/540 [==============================] - 0s - loss: 0.3434 - acc: 0.8889     \n",
      "Epoch 38/45\n",
      "540/540 [==============================] - 0s - loss: 0.3048 - acc: 0.9056     \n",
      "Epoch 39/45\n",
      "540/540 [==============================] - 0s - loss: 0.3099 - acc: 0.8981     \n",
      "Epoch 40/45\n",
      "540/540 [==============================] - 0s - loss: 0.3036 - acc: 0.9167     \n",
      "Epoch 41/45\n",
      "540/540 [==============================] - 0s - loss: 0.2848 - acc: 0.9074     \n",
      "Epoch 42/45\n",
      "540/540 [==============================] - 0s - loss: 0.2693 - acc: 0.9241     \n",
      "Epoch 43/45\n",
      "540/540 [==============================] - 0s - loss: 0.2757 - acc: 0.9259     \n",
      "Epoch 44/45\n",
      "540/540 [==============================] - 0s - loss: 0.2717 - acc: 0.9204     \n",
      "Epoch 45/45\n",
      "540/540 [==============================] - 0s - loss: 0.2605 - acc: 0.9241     \n",
      "32/60 [===============>..............] - ETA: 1s\n",
      "\n",
      "0.85\n",
      "\n",
      "\n",
      "('Fold ', 3)\n",
      "TRAIN INDEX: [  0   1   2   3   4   5   6   7   8   9 ... 590 591 592 593 594 595 596 597 598 599]\n",
      "TEST INDEX: [ 40  41  42  43  44  45  46  47  48  49 ... 450 451 452 453 454 455 456 457 458 459]\n",
      "Epoch 1/45\n",
      "540/540 [==============================] - 1s - loss: 1.0122 - acc: 0.4667     \n",
      "Epoch 2/45\n",
      "540/540 [==============================] - 0s - loss: 0.9046 - acc: 0.5426     \n",
      "Epoch 3/45\n",
      "540/540 [==============================] - 0s - loss: 0.8714 - acc: 0.5537     \n",
      "Epoch 4/45\n",
      "540/540 [==============================] - 0s - loss: 0.8162 - acc: 0.6352     \n",
      "Epoch 5/45\n",
      "540/540 [==============================] - 0s - loss: 0.7753 - acc: 0.6222     \n",
      "Epoch 6/45\n",
      "540/540 [==============================] - 0s - loss: 0.7720 - acc: 0.6407     \n",
      "Epoch 7/45\n",
      "540/540 [==============================] - 0s - loss: 0.7565 - acc: 0.6500     \n",
      "Epoch 8/45\n",
      "540/540 [==============================] - 0s - loss: 0.7363 - acc: 0.6722     \n",
      "Epoch 9/45\n",
      "540/540 [==============================] - 0s - loss: 0.7047 - acc: 0.7000     \n",
      "Epoch 10/45\n",
      "540/540 [==============================] - 0s - loss: 0.6858 - acc: 0.7019     \n",
      "Epoch 11/45\n",
      "540/540 [==============================] - 0s - loss: 0.6499 - acc: 0.7222     \n",
      "Epoch 12/45\n",
      "540/540 [==============================] - 0s - loss: 0.6272 - acc: 0.7519     \n",
      "Epoch 13/45\n",
      "540/540 [==============================] - 0s - loss: 0.6048 - acc: 0.7444     \n",
      "Epoch 14/45\n",
      "540/540 [==============================] - 0s - loss: 0.5955 - acc: 0.7593     \n",
      "Epoch 15/45\n",
      "540/540 [==============================] - 0s - loss: 0.5598 - acc: 0.7907     \n",
      "Epoch 16/45\n",
      "540/540 [==============================] - 0s - loss: 0.5545 - acc: 0.7796     \n",
      "Epoch 17/45\n",
      "540/540 [==============================] - 0s - loss: 0.5484 - acc: 0.7815     \n",
      "Epoch 18/45\n",
      "540/540 [==============================] - 0s - loss: 0.5258 - acc: 0.8093     \n",
      "Epoch 19/45\n",
      "540/540 [==============================] - 0s - loss: 0.5275 - acc: 0.7815     \n",
      "Epoch 20/45\n",
      "540/540 [==============================] - 0s - loss: 0.5020 - acc: 0.8074     \n",
      "Epoch 21/45\n",
      "540/540 [==============================] - 0s - loss: 0.4935 - acc: 0.7981     \n",
      "Epoch 22/45\n",
      "540/540 [==============================] - 0s - loss: 0.4928 - acc: 0.8167     \n",
      "Epoch 23/45\n",
      "540/540 [==============================] - 0s - loss: 0.4719 - acc: 0.8093     \n",
      "Epoch 24/45\n",
      "540/540 [==============================] - 0s - loss: 0.4360 - acc: 0.8481     \n",
      "Epoch 25/45\n",
      "540/540 [==============================] - 0s - loss: 0.4428 - acc: 0.8296     \n",
      "Epoch 26/45\n",
      "540/540 [==============================] - 0s - loss: 0.4377 - acc: 0.8296     \n",
      "Epoch 27/45\n",
      "540/540 [==============================] - 0s - loss: 0.4268 - acc: 0.8500     \n",
      "Epoch 28/45\n",
      "540/540 [==============================] - 0s - loss: 0.4061 - acc: 0.8444     \n",
      "Epoch 29/45\n",
      "540/540 [==============================] - 0s - loss: 0.3991 - acc: 0.8630     \n",
      "Epoch 30/45\n",
      "540/540 [==============================] - 0s - loss: 0.3810 - acc: 0.8815     \n",
      "Epoch 31/45\n",
      "540/540 [==============================] - 0s - loss: 0.3716 - acc: 0.8833     \n",
      "Epoch 32/45\n",
      "540/540 [==============================] - 0s - loss: 0.3755 - acc: 0.8685     \n",
      "Epoch 33/45\n",
      "540/540 [==============================] - 0s - loss: 0.3646 - acc: 0.8630     \n",
      "Epoch 34/45\n",
      "540/540 [==============================] - 0s - loss: 0.3495 - acc: 0.8889     \n",
      "Epoch 35/45\n",
      "540/540 [==============================] - 0s - loss: 0.3490 - acc: 0.8870     \n",
      "Epoch 36/45\n",
      "540/540 [==============================] - 0s - loss: 0.3358 - acc: 0.8833     \n",
      "Epoch 37/45\n",
      "540/540 [==============================] - 0s - loss: 0.3199 - acc: 0.9056     \n",
      "Epoch 38/45\n",
      "540/540 [==============================] - 0s - loss: 0.3034 - acc: 0.9185     \n",
      "Epoch 39/45\n",
      "540/540 [==============================] - 0s - loss: 0.2938 - acc: 0.9037     \n",
      "Epoch 40/45\n",
      "540/540 [==============================] - 0s - loss: 0.2937 - acc: 0.9037     \n",
      "Epoch 41/45\n",
      "540/540 [==============================] - 0s - loss: 0.2999 - acc: 0.9037     \n",
      "Epoch 42/45\n",
      "540/540 [==============================] - 0s - loss: 0.2855 - acc: 0.9167     \n",
      "Epoch 43/45\n",
      "540/540 [==============================] - 0s - loss: 0.2770 - acc: 0.9148     \n",
      "Epoch 44/45\n",
      "540/540 [==============================] - 0s - loss: 0.2618 - acc: 0.9259     \n",
      "Epoch 45/45\n",
      "540/540 [==============================] - 0s - loss: 0.2570 - acc: 0.9315     \n",
      "32/60 [===============>..............] - ETA: 1s\n",
      "\n",
      "0.85\n",
      "\n",
      "\n",
      "('Fold ', 4)\n",
      "TRAIN INDEX: [  0   1   2   3   4   5   6   7   8   9 ... 590 591 592 593 594 595 596 597 598 599]\n",
      "TEST INDEX: [ 60  61  62  63  64  65  66  67  68  69 ... 470 471 472 473 474 475 476 477 478 479]\n",
      "Epoch 1/45\n",
      "540/540 [==============================] - 2s - loss: 1.0586 - acc: 0.4407     \n",
      "Epoch 2/45\n",
      "540/540 [==============================] - 0s - loss: 0.9269 - acc: 0.5093     \n",
      "Epoch 3/45\n",
      "540/540 [==============================] - 0s - loss: 0.8503 - acc: 0.5963     \n",
      "Epoch 4/45\n",
      "540/540 [==============================] - 0s - loss: 0.7919 - acc: 0.6259     \n",
      "Epoch 5/45\n",
      "540/540 [==============================] - 0s - loss: 0.7699 - acc: 0.6241     \n",
      "Epoch 6/45\n",
      "540/540 [==============================] - 0s - loss: 0.7643 - acc: 0.6370     \n",
      "Epoch 7/45\n",
      "540/540 [==============================] - 0s - loss: 0.7440 - acc: 0.6593     \n",
      "Epoch 8/45\n",
      "540/540 [==============================] - 0s - loss: 0.6970 - acc: 0.6796     \n",
      "Epoch 9/45\n",
      "540/540 [==============================] - 0s - loss: 0.6540 - acc: 0.7056     \n",
      "Epoch 10/45\n",
      "540/540 [==============================] - 0s - loss: 0.6292 - acc: 0.7389     \n",
      "Epoch 11/45\n",
      "540/540 [==============================] - 0s - loss: 0.6189 - acc: 0.7444     \n",
      "Epoch 12/45\n",
      "540/540 [==============================] - 0s - loss: 0.6084 - acc: 0.7333     \n",
      "Epoch 13/45\n",
      "540/540 [==============================] - 0s - loss: 0.5926 - acc: 0.7370     \n",
      "Epoch 14/45\n",
      "540/540 [==============================] - 0s - loss: 0.5643 - acc: 0.7741     \n",
      "Epoch 15/45\n",
      "540/540 [==============================] - 0s - loss: 0.5643 - acc: 0.7778     \n",
      "Epoch 16/45\n",
      "540/540 [==============================] - 0s - loss: 0.5509 - acc: 0.7630     \n",
      "Epoch 17/45\n",
      "540/540 [==============================] - 0s - loss: 0.5401 - acc: 0.7870     \n",
      "Epoch 18/45\n",
      "540/540 [==============================] - 0s - loss: 0.5260 - acc: 0.7815     \n",
      "Epoch 19/45\n",
      "540/540 [==============================] - 0s - loss: 0.4897 - acc: 0.8056     \n",
      "Epoch 20/45\n",
      "540/540 [==============================] - 0s - loss: 0.4918 - acc: 0.8037     \n",
      "Epoch 21/45\n",
      "540/540 [==============================] - 0s - loss: 0.4989 - acc: 0.8241     \n",
      "Epoch 22/45\n",
      "540/540 [==============================] - 0s - loss: 0.4487 - acc: 0.8278     \n",
      "Epoch 23/45\n",
      "540/540 [==============================] - 0s - loss: 0.4560 - acc: 0.8259     \n",
      "Epoch 24/45\n",
      "540/540 [==============================] - 0s - loss: 0.4422 - acc: 0.8370     \n",
      "Epoch 25/45\n",
      "540/540 [==============================] - 0s - loss: 0.4322 - acc: 0.8241     \n",
      "Epoch 26/45\n",
      "540/540 [==============================] - 0s - loss: 0.4064 - acc: 0.8407     \n",
      "Epoch 27/45\n",
      "540/540 [==============================] - 0s - loss: 0.4289 - acc: 0.8185     \n",
      "Epoch 28/45\n",
      "540/540 [==============================] - 0s - loss: 0.4076 - acc: 0.8556     \n",
      "Epoch 29/45\n",
      "540/540 [==============================] - 0s - loss: 0.3869 - acc: 0.8537     \n",
      "Epoch 30/45\n",
      "540/540 [==============================] - 0s - loss: 0.4006 - acc: 0.8519     \n",
      "Epoch 31/45\n",
      "540/540 [==============================] - 0s - loss: 0.3591 - acc: 0.8685     \n",
      "Epoch 32/45\n",
      "540/540 [==============================] - 0s - loss: 0.3548 - acc: 0.8722     \n",
      "Epoch 33/45\n",
      "540/540 [==============================] - 0s - loss: 0.3707 - acc: 0.8648     \n",
      "Epoch 34/45\n",
      "540/540 [==============================] - 0s - loss: 0.3550 - acc: 0.8741     \n",
      "Epoch 35/45\n",
      "540/540 [==============================] - 0s - loss: 0.3435 - acc: 0.8704     \n",
      "Epoch 36/45\n",
      "540/540 [==============================] - 0s - loss: 0.3345 - acc: 0.8796     \n",
      "Epoch 37/45\n",
      "540/540 [==============================] - 0s - loss: 0.3024 - acc: 0.8963     \n",
      "Epoch 38/45\n",
      "540/540 [==============================] - 0s - loss: 0.3167 - acc: 0.8926     \n",
      "Epoch 39/45\n",
      "540/540 [==============================] - 0s - loss: 0.3000 - acc: 0.9074     \n",
      "Epoch 40/45\n",
      "540/540 [==============================] - 0s - loss: 0.3200 - acc: 0.8796     \n",
      "Epoch 41/45\n",
      "540/540 [==============================] - 0s - loss: 0.2914 - acc: 0.9000     \n",
      "Epoch 42/45\n",
      "540/540 [==============================] - 0s - loss: 0.2906 - acc: 0.9056     \n",
      "Epoch 43/45\n",
      "540/540 [==============================] - 0s - loss: 0.2727 - acc: 0.9130     \n",
      "Epoch 44/45\n",
      "540/540 [==============================] - 0s - loss: 0.2799 - acc: 0.9019     \n",
      "Epoch 45/45\n",
      "540/540 [==============================] - 0s - loss: 0.2500 - acc: 0.9185     \n",
      "32/60 [===============>..............] - ETA: 1s\n",
      "\n",
      "0.7\n",
      "\n",
      "\n",
      "('Fold ', 5)\n",
      "TRAIN INDEX: [  0   1   2   3   4   5   6   7   8   9 ... 590 591 592 593 594 595 596 597 598 599]\n",
      "TEST INDEX: [ 80  81  82  83  84  85  86  87  88  89 ... 490 491 492 493 494 495 496 497 498 499]\n",
      "Epoch 1/45\n",
      "540/540 [==============================] - 2s - loss: 1.0516 - acc: 0.4537     \n",
      "Epoch 2/45\n",
      "540/540 [==============================] - 0s - loss: 0.9115 - acc: 0.5722     \n",
      "Epoch 3/45\n",
      "540/540 [==============================] - 0s - loss: 0.8468 - acc: 0.5981     \n",
      "Epoch 4/45\n",
      "540/540 [==============================] - 0s - loss: 0.7881 - acc: 0.6222     \n",
      "Epoch 5/45\n",
      "540/540 [==============================] - 0s - loss: 0.7729 - acc: 0.6444     \n",
      "Epoch 6/45\n",
      "540/540 [==============================] - 0s - loss: 0.7312 - acc: 0.6667     \n",
      "Epoch 7/45\n",
      "540/540 [==============================] - 0s - loss: 0.6985 - acc: 0.6926     \n",
      "Epoch 8/45\n",
      "540/540 [==============================] - 0s - loss: 0.6627 - acc: 0.6944     \n",
      "Epoch 9/45\n",
      "540/540 [==============================] - 0s - loss: 0.6492 - acc: 0.7185     \n",
      "Epoch 10/45\n",
      "540/540 [==============================] - 0s - loss: 0.6160 - acc: 0.7333     \n",
      "Epoch 11/45\n",
      "540/540 [==============================] - 0s - loss: 0.5839 - acc: 0.7630     \n",
      "Epoch 12/45\n",
      "540/540 [==============================] - 0s - loss: 0.5623 - acc: 0.7704     \n",
      "Epoch 13/45\n",
      "540/540 [==============================] - 0s - loss: 0.5579 - acc: 0.7685     \n",
      "Epoch 14/45\n",
      "540/540 [==============================] - 0s - loss: 0.5305 - acc: 0.7963     \n",
      "Epoch 15/45\n",
      "540/540 [==============================] - 0s - loss: 0.5124 - acc: 0.8093     \n",
      "Epoch 16/45\n",
      "540/540 [==============================] - 0s - loss: 0.4893 - acc: 0.8241     \n",
      "Epoch 17/45\n",
      "540/540 [==============================] - 0s - loss: 0.4727 - acc: 0.8093     \n",
      "Epoch 18/45\n",
      "540/540 [==============================] - 0s - loss: 0.4934 - acc: 0.8074     \n",
      "Epoch 19/45\n",
      "540/540 [==============================] - 0s - loss: 0.4710 - acc: 0.7926     \n",
      "Epoch 20/45\n",
      "540/540 [==============================] - 0s - loss: 0.4320 - acc: 0.8407     \n",
      "Epoch 21/45\n",
      "540/540 [==============================] - 0s - loss: 0.4193 - acc: 0.8574     \n",
      "Epoch 22/45\n",
      "540/540 [==============================] - 0s - loss: 0.4331 - acc: 0.8370     \n",
      "Epoch 23/45\n",
      "540/540 [==============================] - 0s - loss: 0.4085 - acc: 0.8296     \n",
      "Epoch 24/45\n",
      "540/540 [==============================] - 0s - loss: 0.3915 - acc: 0.8593     \n",
      "Epoch 25/45\n",
      "540/540 [==============================] - 0s - loss: 0.3771 - acc: 0.8500     \n",
      "Epoch 26/45\n",
      "540/540 [==============================] - 0s - loss: 0.3749 - acc: 0.8611     \n",
      "Epoch 27/45\n",
      "540/540 [==============================] - 0s - loss: 0.3498 - acc: 0.8796     \n",
      "Epoch 28/45\n",
      "540/540 [==============================] - 0s - loss: 0.3470 - acc: 0.8778     \n",
      "Epoch 29/45\n",
      "540/540 [==============================] - 0s - loss: 0.3374 - acc: 0.8796     \n",
      "Epoch 30/45\n",
      "540/540 [==============================] - 0s - loss: 0.3434 - acc: 0.8741     \n",
      "Epoch 31/45\n",
      "540/540 [==============================] - 0s - loss: 0.3522 - acc: 0.8759     \n",
      "Epoch 32/45\n",
      "540/540 [==============================] - 0s - loss: 0.3123 - acc: 0.8944     \n",
      "Epoch 33/45\n",
      "540/540 [==============================] - 0s - loss: 0.3194 - acc: 0.9000     \n",
      "Epoch 34/45\n",
      "540/540 [==============================] - 0s - loss: 0.3027 - acc: 0.9000     \n",
      "Epoch 35/45\n",
      "540/540 [==============================] - 0s - loss: 0.2976 - acc: 0.9019     \n",
      "Epoch 36/45\n",
      "540/540 [==============================] - 0s - loss: 0.2991 - acc: 0.8907     \n",
      "Epoch 37/45\n",
      "540/540 [==============================] - 0s - loss: 0.2751 - acc: 0.9093     \n",
      "Epoch 38/45\n",
      "540/540 [==============================] - 0s - loss: 0.2900 - acc: 0.9000     \n",
      "Epoch 39/45\n",
      "540/540 [==============================] - 0s - loss: 0.2517 - acc: 0.9370     \n",
      "Epoch 40/45\n",
      "540/540 [==============================] - 0s - loss: 0.2740 - acc: 0.8963     \n",
      "Epoch 41/45\n",
      "540/540 [==============================] - 0s - loss: 0.2606 - acc: 0.9037     \n",
      "Epoch 42/45\n",
      "540/540 [==============================] - 0s - loss: 0.2487 - acc: 0.9333     \n",
      "Epoch 43/45\n",
      "540/540 [==============================] - 0s - loss: 0.2476 - acc: 0.9204     \n",
      "Epoch 44/45\n",
      "540/540 [==============================] - 0s - loss: 0.2389 - acc: 0.9278     \n",
      "Epoch 45/45\n",
      "540/540 [==============================] - 0s - loss: 0.2333 - acc: 0.9278     \n",
      "32/60 [===============>..............] - ETA: 1s\n",
      "\n",
      "0.6833333333333333\n",
      "\n",
      "\n",
      "('Fold ', 6)\n",
      "TRAIN INDEX: [  0   1   2   3   4   5   6   7   8   9 ... 590 591 592 593 594 595 596 597 598 599]\n",
      "TEST INDEX: [100 101 102 103 104 105 106 107 108 109 ... 510 511 512 513 514 515 516 517 518 519]\n",
      "Epoch 1/45\n",
      "540/540 [==============================] - 2s - loss: 0.9989 - acc: 0.5185     \n",
      "Epoch 2/45\n",
      "540/540 [==============================] - 0s - loss: 0.8811 - acc: 0.5870     \n",
      "Epoch 3/45\n",
      "540/540 [==============================] - 0s - loss: 0.7964 - acc: 0.6111     \n",
      "Epoch 4/45\n",
      "540/540 [==============================] - 0s - loss: 0.7999 - acc: 0.6204     \n",
      "Epoch 5/45\n",
      "540/540 [==============================] - 0s - loss: 0.7147 - acc: 0.6778     \n",
      "Epoch 6/45\n",
      "540/540 [==============================] - 0s - loss: 0.7197 - acc: 0.6741     \n",
      "Epoch 7/45\n",
      "540/540 [==============================] - 0s - loss: 0.6796 - acc: 0.7019     \n",
      "Epoch 8/45\n",
      "540/540 [==============================] - 0s - loss: 0.6608 - acc: 0.7056     \n",
      "Epoch 9/45\n",
      "540/540 [==============================] - 0s - loss: 0.6335 - acc: 0.7222     \n",
      "Epoch 10/45\n",
      "540/540 [==============================] - 0s - loss: 0.6038 - acc: 0.7463     \n",
      "Epoch 11/45\n",
      "540/540 [==============================] - 0s - loss: 0.5761 - acc: 0.7667     \n",
      "Epoch 12/45\n",
      "540/540 [==============================] - 0s - loss: 0.5566 - acc: 0.7815     \n",
      "Epoch 13/45\n",
      "540/540 [==============================] - 0s - loss: 0.5413 - acc: 0.7944     \n",
      "Epoch 14/45\n",
      "540/540 [==============================] - 0s - loss: 0.5337 - acc: 0.7741     \n",
      "Epoch 15/45\n",
      "540/540 [==============================] - 0s - loss: 0.5351 - acc: 0.7778     \n",
      "Epoch 16/45\n",
      "540/540 [==============================] - 0s - loss: 0.5030 - acc: 0.8019     \n",
      "Epoch 17/45\n",
      "540/540 [==============================] - 0s - loss: 0.4687 - acc: 0.8000     \n",
      "Epoch 18/45\n",
      "540/540 [==============================] - 0s - loss: 0.4600 - acc: 0.8407     \n",
      "Epoch 19/45\n",
      "540/540 [==============================] - 0s - loss: 0.4525 - acc: 0.8389     \n",
      "Epoch 20/45\n",
      "540/540 [==============================] - 0s - loss: 0.4528 - acc: 0.8352     \n",
      "Epoch 21/45\n",
      "540/540 [==============================] - 0s - loss: 0.4298 - acc: 0.8370     \n",
      "Epoch 22/45\n",
      "540/540 [==============================] - 0s - loss: 0.4232 - acc: 0.8370     \n",
      "Epoch 23/45\n",
      "540/540 [==============================] - 0s - loss: 0.4028 - acc: 0.8593     \n",
      "Epoch 24/45\n",
      "540/540 [==============================] - 0s - loss: 0.3989 - acc: 0.8481     \n",
      "Epoch 25/45\n",
      "540/540 [==============================] - 0s - loss: 0.4096 - acc: 0.8426     \n",
      "Epoch 26/45\n",
      "540/540 [==============================] - 0s - loss: 0.3748 - acc: 0.8889     \n",
      "Epoch 27/45\n",
      "540/540 [==============================] - 0s - loss: 0.3660 - acc: 0.8778     \n",
      "Epoch 28/45\n",
      "540/540 [==============================] - 0s - loss: 0.3510 - acc: 0.8722     \n",
      "Epoch 29/45\n",
      "540/540 [==============================] - 0s - loss: 0.3557 - acc: 0.8833     \n",
      "Epoch 30/45\n",
      "540/540 [==============================] - 0s - loss: 0.3310 - acc: 0.8926     \n",
      "Epoch 31/45\n",
      "540/540 [==============================] - 0s - loss: 0.3264 - acc: 0.8778     \n",
      "Epoch 32/45\n",
      "540/540 [==============================] - 0s - loss: 0.3106 - acc: 0.9074     \n",
      "Epoch 33/45\n",
      "540/540 [==============================] - 0s - loss: 0.3221 - acc: 0.8833     \n",
      "Epoch 34/45\n",
      "540/540 [==============================] - 0s - loss: 0.3241 - acc: 0.8852     \n",
      "Epoch 35/45\n",
      "540/540 [==============================] - 0s - loss: 0.3034 - acc: 0.8926     \n",
      "Epoch 36/45\n",
      "540/540 [==============================] - 0s - loss: 0.2994 - acc: 0.8926     \n",
      "Epoch 37/45\n",
      "540/540 [==============================] - 0s - loss: 0.2863 - acc: 0.8944     \n",
      "Epoch 38/45\n",
      "540/540 [==============================] - 0s - loss: 0.2810 - acc: 0.8981     \n",
      "Epoch 39/45\n",
      "540/540 [==============================] - 0s - loss: 0.2724 - acc: 0.9130     \n",
      "Epoch 40/45\n",
      "540/540 [==============================] - 0s - loss: 0.2835 - acc: 0.9037     \n",
      "Epoch 41/45\n",
      "540/540 [==============================] - 0s - loss: 0.2738 - acc: 0.9148     \n",
      "Epoch 42/45\n",
      "540/540 [==============================] - 0s - loss: 0.2584 - acc: 0.9222     \n",
      "Epoch 43/45\n",
      "540/540 [==============================] - 0s - loss: 0.2546 - acc: 0.9204     \n",
      "Epoch 44/45\n",
      "540/540 [==============================] - 0s - loss: 0.2382 - acc: 0.9241     \n",
      "Epoch 45/45\n",
      "540/540 [==============================] - 0s - loss: 0.2196 - acc: 0.9426     \n",
      "32/60 [===============>..............] - ETA: 1s\n",
      "\n",
      "0.6666666666666666\n",
      "\n",
      "\n",
      "('Fold ', 7)\n",
      "TRAIN INDEX: [  0   1   2   3   4   5   6   7   8   9 ... 590 591 592 593 594 595 596 597 598 599]\n",
      "TEST INDEX: [120 121 122 123 124 125 126 127 128 129 ... 530 531 532 533 534 535 536 537 538 539]\n",
      "Epoch 1/45\n",
      "540/540 [==============================] - 2s - loss: 1.0186 - acc: 0.4796     \n",
      "Epoch 2/45\n",
      "540/540 [==============================] - 0s - loss: 0.8954 - acc: 0.5500     \n",
      "Epoch 3/45\n",
      "540/540 [==============================] - 0s - loss: 0.8338 - acc: 0.6185     \n",
      "Epoch 4/45\n",
      "540/540 [==============================] - 0s - loss: 0.8416 - acc: 0.5981     \n",
      "Epoch 5/45\n",
      "540/540 [==============================] - 0s - loss: 0.7795 - acc: 0.6278     \n",
      "Epoch 6/45\n",
      "540/540 [==============================] - 0s - loss: 0.7573 - acc: 0.6574     \n",
      "Epoch 7/45\n",
      "540/540 [==============================] - 0s - loss: 0.7673 - acc: 0.6407     \n",
      "Epoch 8/45\n",
      "540/540 [==============================] - 0s - loss: 0.7287 - acc: 0.6611     \n",
      "Epoch 9/45\n",
      "540/540 [==============================] - 0s - loss: 0.7120 - acc: 0.6778     \n",
      "Epoch 10/45\n",
      "540/540 [==============================] - 0s - loss: 0.6915 - acc: 0.7130     \n",
      "Epoch 11/45\n",
      "540/540 [==============================] - 0s - loss: 0.7106 - acc: 0.7019     \n",
      "Epoch 12/45\n",
      "540/540 [==============================] - 0s - loss: 0.6482 - acc: 0.7352     \n",
      "Epoch 13/45\n",
      "540/540 [==============================] - 0s - loss: 0.6281 - acc: 0.7296     \n",
      "Epoch 14/45\n",
      "540/540 [==============================] - 0s - loss: 0.6047 - acc: 0.7556     \n",
      "Epoch 15/45\n",
      "540/540 [==============================] - 0s - loss: 0.5760 - acc: 0.7593     \n",
      "Epoch 16/45\n",
      "540/540 [==============================] - 0s - loss: 0.5789 - acc: 0.7667     \n",
      "Epoch 17/45\n",
      "540/540 [==============================] - 0s - loss: 0.5577 - acc: 0.7815     \n",
      "Epoch 18/45\n",
      "540/540 [==============================] - 0s - loss: 0.5350 - acc: 0.7963     \n",
      "Epoch 19/45\n",
      "540/540 [==============================] - 0s - loss: 0.4951 - acc: 0.8296     \n",
      "Epoch 20/45\n",
      "540/540 [==============================] - 0s - loss: 0.5176 - acc: 0.8037     \n",
      "Epoch 21/45\n",
      "540/540 [==============================] - 0s - loss: 0.4835 - acc: 0.8370     \n",
      "Epoch 22/45\n",
      "540/540 [==============================] - 0s - loss: 0.4606 - acc: 0.8204     \n",
      "Epoch 23/45\n",
      "540/540 [==============================] - 0s - loss: 0.4669 - acc: 0.8426     \n",
      "Epoch 24/45\n",
      "540/540 [==============================] - 0s - loss: 0.4512 - acc: 0.8407     \n",
      "Epoch 25/45\n",
      "540/540 [==============================] - 0s - loss: 0.4358 - acc: 0.8333     \n",
      "Epoch 26/45\n",
      "540/540 [==============================] - 0s - loss: 0.4149 - acc: 0.8519     \n",
      "Epoch 27/45\n",
      "540/540 [==============================] - 0s - loss: 0.4214 - acc: 0.8519     \n",
      "Epoch 28/45\n",
      "540/540 [==============================] - 0s - loss: 0.3919 - acc: 0.8630     \n",
      "Epoch 29/45\n",
      "540/540 [==============================] - 0s - loss: 0.4044 - acc: 0.8537     \n",
      "Epoch 30/45\n",
      "540/540 [==============================] - 0s - loss: 0.3876 - acc: 0.8630     \n",
      "Epoch 31/45\n",
      "540/540 [==============================] - 0s - loss: 0.3841 - acc: 0.8593     \n",
      "Epoch 32/45\n",
      "540/540 [==============================] - 0s - loss: 0.3639 - acc: 0.8889     \n",
      "Epoch 33/45\n",
      "540/540 [==============================] - 0s - loss: 0.3424 - acc: 0.8926     \n",
      "Epoch 34/45\n",
      "540/540 [==============================] - 0s - loss: 0.3551 - acc: 0.8759     \n",
      "Epoch 35/45\n",
      "540/540 [==============================] - 0s - loss: 0.3226 - acc: 0.8944     \n",
      "Epoch 36/45\n",
      "540/540 [==============================] - 0s - loss: 0.3151 - acc: 0.8796     \n",
      "Epoch 37/45\n",
      "540/540 [==============================] - 0s - loss: 0.3121 - acc: 0.8981     \n",
      "Epoch 38/45\n",
      "540/540 [==============================] - 0s - loss: 0.3070 - acc: 0.8963     \n",
      "Epoch 39/45\n",
      "540/540 [==============================] - 0s - loss: 0.3126 - acc: 0.9019     \n",
      "Epoch 40/45\n",
      "540/540 [==============================] - 0s - loss: 0.3032 - acc: 0.8944     \n",
      "Epoch 41/45\n",
      "540/540 [==============================] - 0s - loss: 0.2716 - acc: 0.9093     \n",
      "Epoch 42/45\n",
      "540/540 [==============================] - 0s - loss: 0.2793 - acc: 0.9093     \n",
      "Epoch 43/45\n",
      "540/540 [==============================] - 0s - loss: 0.2629 - acc: 0.9148     \n",
      "Epoch 44/45\n",
      "540/540 [==============================] - 0s - loss: 0.2643 - acc: 0.9241     \n",
      "Epoch 45/45\n",
      "540/540 [==============================] - 0s - loss: 0.2358 - acc: 0.9352     \n",
      "32/60 [===============>..............] - ETA: 1s\n",
      "\n",
      "0.7833333333333333\n",
      "\n",
      "\n",
      "('Fold ', 8)\n",
      "TRAIN INDEX: [  0   1   2   3   4   5   6   7   8   9 ... 590 591 592 593 594 595 596 597 598 599]\n",
      "TEST INDEX: [140 141 142 143 144 145 146 147 148 149 ... 550 551 552 553 554 555 556 557 558 559]\n",
      "Epoch 1/45\n",
      "540/540 [==============================] - 2s - loss: 1.0033 - acc: 0.4778     \n",
      "Epoch 2/45\n",
      "540/540 [==============================] - 0s - loss: 0.8574 - acc: 0.6056     \n",
      "Epoch 3/45\n",
      "540/540 [==============================] - 0s - loss: 0.8195 - acc: 0.6111     \n",
      "Epoch 4/45\n",
      "540/540 [==============================] - 0s - loss: 0.7979 - acc: 0.6241     \n",
      "Epoch 5/45\n",
      "540/540 [==============================] - 0s - loss: 0.7774 - acc: 0.6278     \n",
      "Epoch 6/45\n",
      "540/540 [==============================] - 0s - loss: 0.7251 - acc: 0.6574     \n",
      "Epoch 7/45\n",
      "540/540 [==============================] - 0s - loss: 0.7127 - acc: 0.6889     \n",
      "Epoch 8/45\n",
      "540/540 [==============================] - 0s - loss: 0.6678 - acc: 0.6870     \n",
      "Epoch 9/45\n",
      "540/540 [==============================] - 0s - loss: 0.6415 - acc: 0.7352     \n",
      "Epoch 10/45\n",
      "540/540 [==============================] - 0s - loss: 0.5990 - acc: 0.7500     \n",
      "Epoch 11/45\n",
      "540/540 [==============================] - 0s - loss: 0.5995 - acc: 0.7389     \n",
      "Epoch 12/45\n",
      "540/540 [==============================] - 0s - loss: 0.5564 - acc: 0.7630     \n",
      "Epoch 13/45\n",
      "540/540 [==============================] - 0s - loss: 0.5546 - acc: 0.7815     \n",
      "Epoch 14/45\n",
      "540/540 [==============================] - 0s - loss: 0.5428 - acc: 0.7741     \n",
      "Epoch 15/45\n",
      "540/540 [==============================] - 0s - loss: 0.5372 - acc: 0.7796     \n",
      "Epoch 16/45\n",
      "540/540 [==============================] - 0s - loss: 0.4937 - acc: 0.8111     \n",
      "Epoch 17/45\n",
      "540/540 [==============================] - 0s - loss: 0.5007 - acc: 0.7852     \n",
      "Epoch 18/45\n",
      "540/540 [==============================] - 0s - loss: 0.4687 - acc: 0.8019     \n",
      "Epoch 19/45\n",
      "540/540 [==============================] - 0s - loss: 0.4681 - acc: 0.8222     \n",
      "Epoch 20/45\n",
      "540/540 [==============================] - 0s - loss: 0.4517 - acc: 0.8259     \n",
      "Epoch 21/45\n",
      "540/540 [==============================] - 0s - loss: 0.4429 - acc: 0.8259     \n",
      "Epoch 22/45\n",
      "540/540 [==============================] - 0s - loss: 0.4334 - acc: 0.8315     \n",
      "Epoch 23/45\n",
      "540/540 [==============================] - 0s - loss: 0.4342 - acc: 0.8315     \n",
      "Epoch 24/45\n",
      "540/540 [==============================] - 0s - loss: 0.4023 - acc: 0.8500     \n",
      "Epoch 25/45\n",
      "540/540 [==============================] - 0s - loss: 0.4235 - acc: 0.8389     \n",
      "Epoch 26/45\n",
      "540/540 [==============================] - 0s - loss: 0.3987 - acc: 0.8481     \n",
      "Epoch 27/45\n",
      "540/540 [==============================] - 0s - loss: 0.3845 - acc: 0.8593     \n",
      "Epoch 28/45\n",
      "540/540 [==============================] - 0s - loss: 0.3594 - acc: 0.8500     \n",
      "Epoch 29/45\n",
      "540/540 [==============================] - 0s - loss: 0.3639 - acc: 0.8685     \n",
      "Epoch 30/45\n",
      "540/540 [==============================] - 0s - loss: 0.3523 - acc: 0.8870     \n",
      "Epoch 31/45\n",
      "540/540 [==============================] - 0s - loss: 0.3417 - acc: 0.8852     \n",
      "Epoch 32/45\n",
      "540/540 [==============================] - 0s - loss: 0.3287 - acc: 0.8815     \n",
      "Epoch 33/45\n",
      "540/540 [==============================] - 0s - loss: 0.3365 - acc: 0.8759     \n",
      "Epoch 34/45\n",
      "540/540 [==============================] - 0s - loss: 0.3416 - acc: 0.8704     \n",
      "Epoch 35/45\n",
      "540/540 [==============================] - 0s - loss: 0.3378 - acc: 0.8833     \n",
      "Epoch 36/45\n",
      "540/540 [==============================] - 0s - loss: 0.2970 - acc: 0.8944     \n",
      "Epoch 37/45\n",
      "540/540 [==============================] - 0s - loss: 0.2970 - acc: 0.9111     \n",
      "Epoch 38/45\n",
      "540/540 [==============================] - 0s - loss: 0.2959 - acc: 0.8963     \n",
      "Epoch 39/45\n",
      "540/540 [==============================] - 0s - loss: 0.3089 - acc: 0.8889     \n",
      "Epoch 40/45\n",
      "540/540 [==============================] - 0s - loss: 0.2740 - acc: 0.9148     \n",
      "Epoch 41/45\n",
      "540/540 [==============================] - 0s - loss: 0.2718 - acc: 0.9074     \n",
      "Epoch 42/45\n",
      "540/540 [==============================] - 0s - loss: 0.2587 - acc: 0.9111     \n",
      "Epoch 43/45\n",
      "540/540 [==============================] - 0s - loss: 0.2687 - acc: 0.9222     \n",
      "Epoch 44/45\n",
      "540/540 [==============================] - 0s - loss: 0.2620 - acc: 0.9259     \n",
      "Epoch 45/45\n",
      "540/540 [==============================] - 0s - loss: 0.2454 - acc: 0.9315     \n",
      "32/60 [===============>..............] - ETA: 1s\n",
      "\n",
      "0.7166666666666667\n",
      "\n",
      "\n",
      "('Fold ', 9)\n",
      "TRAIN INDEX: [  0   1   2   3   4   5   6   7   8   9 ... 590 591 592 593 594 595 596 597 598 599]\n",
      "TEST INDEX: [160 161 162 163 164 165 166 167 168 169 ... 570 571 572 573 574 575 576 577 578 579]\n",
      "Epoch 1/45\n",
      "540/540 [==============================] - 2s - loss: 1.0463 - acc: 0.4815     \n",
      "Epoch 2/45\n",
      "540/540 [==============================] - 0s - loss: 0.8786 - acc: 0.5889     \n",
      "Epoch 3/45\n",
      "540/540 [==============================] - 0s - loss: 0.8661 - acc: 0.5870     \n",
      "Epoch 4/45\n",
      "540/540 [==============================] - 0s - loss: 0.8049 - acc: 0.6185     \n",
      "Epoch 5/45\n",
      "540/540 [==============================] - 0s - loss: 0.7709 - acc: 0.6111     \n",
      "Epoch 6/45\n",
      "540/540 [==============================] - 0s - loss: 0.7514 - acc: 0.6500     \n",
      "Epoch 7/45\n",
      "540/540 [==============================] - 0s - loss: 0.7217 - acc: 0.6796     \n",
      "Epoch 8/45\n",
      "540/540 [==============================] - 0s - loss: 0.6760 - acc: 0.7167     \n",
      "Epoch 9/45\n",
      "540/540 [==============================] - 0s - loss: 0.6657 - acc: 0.7315     \n",
      "Epoch 10/45\n",
      "540/540 [==============================] - 0s - loss: 0.6353 - acc: 0.7463     \n",
      "Epoch 11/45\n",
      "540/540 [==============================] - 0s - loss: 0.6218 - acc: 0.7519     \n",
      "Epoch 12/45\n",
      "540/540 [==============================] - 0s - loss: 0.6098 - acc: 0.7444     \n",
      "Epoch 13/45\n",
      "540/540 [==============================] - 0s - loss: 0.5652 - acc: 0.7833     \n",
      "Epoch 14/45\n",
      "540/540 [==============================] - 0s - loss: 0.5707 - acc: 0.7667     \n",
      "Epoch 15/45\n",
      "540/540 [==============================] - 0s - loss: 0.5765 - acc: 0.7574     \n",
      "Epoch 16/45\n",
      "540/540 [==============================] - 0s - loss: 0.5351 - acc: 0.7870     \n",
      "Epoch 17/45\n",
      "540/540 [==============================] - 0s - loss: 0.5097 - acc: 0.7963     \n",
      "Epoch 18/45\n",
      "540/540 [==============================] - 0s - loss: 0.5188 - acc: 0.7926     \n",
      "Epoch 19/45\n",
      "540/540 [==============================] - 0s - loss: 0.5032 - acc: 0.7833     \n",
      "Epoch 20/45\n",
      "540/540 [==============================] - 0s - loss: 0.4898 - acc: 0.7944     \n",
      "Epoch 21/45\n",
      "540/540 [==============================] - 0s - loss: 0.4799 - acc: 0.8241     \n",
      "Epoch 22/45\n",
      "540/540 [==============================] - 0s - loss: 0.4426 - acc: 0.8426     \n",
      "Epoch 23/45\n",
      "540/540 [==============================] - 0s - loss: 0.4457 - acc: 0.8296     \n",
      "Epoch 24/45\n",
      "540/540 [==============================] - 0s - loss: 0.4473 - acc: 0.8333     \n",
      "Epoch 25/45\n",
      "540/540 [==============================] - 0s - loss: 0.4240 - acc: 0.8500     \n",
      "Epoch 26/45\n",
      "540/540 [==============================] - 0s - loss: 0.4147 - acc: 0.8519     \n",
      "Epoch 27/45\n",
      "540/540 [==============================] - 0s - loss: 0.4077 - acc: 0.8519     \n",
      "Epoch 28/45\n",
      "540/540 [==============================] - 0s - loss: 0.4079 - acc: 0.8611     \n",
      "Epoch 29/45\n",
      "540/540 [==============================] - 0s - loss: 0.3830 - acc: 0.8611     \n",
      "Epoch 30/45\n",
      "540/540 [==============================] - 0s - loss: 0.3873 - acc: 0.8556     \n",
      "Epoch 31/45\n",
      "540/540 [==============================] - 0s - loss: 0.3517 - acc: 0.8833     \n",
      "Epoch 32/45\n",
      "540/540 [==============================] - 0s - loss: 0.3850 - acc: 0.8444     \n",
      "Epoch 33/45\n",
      "540/540 [==============================] - 0s - loss: 0.3601 - acc: 0.8778     \n",
      "Epoch 34/45\n",
      "540/540 [==============================] - 0s - loss: 0.3628 - acc: 0.8611     \n",
      "Epoch 35/45\n",
      "540/540 [==============================] - 0s - loss: 0.3440 - acc: 0.8704     \n",
      "Epoch 36/45\n",
      "540/540 [==============================] - 0s - loss: 0.3310 - acc: 0.8944     \n",
      "Epoch 37/45\n",
      "540/540 [==============================] - 0s - loss: 0.3543 - acc: 0.8741     \n",
      "Epoch 38/45\n",
      "540/540 [==============================] - 0s - loss: 0.3030 - acc: 0.8963     \n",
      "Epoch 39/45\n",
      "540/540 [==============================] - 0s - loss: 0.3106 - acc: 0.8926     \n",
      "Epoch 40/45\n",
      "540/540 [==============================] - 0s - loss: 0.2968 - acc: 0.9000     \n",
      "Epoch 41/45\n",
      "540/540 [==============================] - 0s - loss: 0.3046 - acc: 0.8870     \n",
      "Epoch 42/45\n",
      "540/540 [==============================] - 0s - loss: 0.3041 - acc: 0.9056     \n",
      "Epoch 43/45\n",
      "540/540 [==============================] - 0s - loss: 0.2751 - acc: 0.9241     \n",
      "Epoch 44/45\n",
      "540/540 [==============================] - 0s - loss: 0.2804 - acc: 0.9074     \n",
      "Epoch 45/45\n",
      "540/540 [==============================] - 0s - loss: 0.2774 - acc: 0.9093     \n",
      "32/60 [===============>..............] - ETA: 1s\n",
      "\n",
      "0.8166666666666667\n",
      "\n",
      "\n",
      "('Fold ', 10)\n",
      "TRAIN INDEX: [  0   1   2   3   4   5   6   7   8   9 ... 570 571 572 573 574 575 576 577 578 579]\n",
      "TEST INDEX: [180 181 182 183 184 185 186 187 188 189 ... 590 591 592 593 594 595 596 597 598 599]\n",
      "Epoch 1/45\n",
      "540/540 [==============================] - 2s - loss: 1.0187 - acc: 0.4833     \n",
      "Epoch 2/45\n",
      "540/540 [==============================] - 0s - loss: 0.8869 - acc: 0.5759     \n",
      "Epoch 3/45\n",
      "540/540 [==============================] - 0s - loss: 0.8589 - acc: 0.5685     \n",
      "Epoch 4/45\n",
      "540/540 [==============================] - 0s - loss: 0.7910 - acc: 0.6241     \n",
      "Epoch 5/45\n",
      "540/540 [==============================] - 0s - loss: 0.7643 - acc: 0.6426     \n",
      "Epoch 6/45\n",
      "540/540 [==============================] - 0s - loss: 0.7181 - acc: 0.6815     \n",
      "Epoch 7/45\n",
      "540/540 [==============================] - 0s - loss: 0.6998 - acc: 0.6852     \n",
      "Epoch 8/45\n",
      "540/540 [==============================] - 0s - loss: 0.6622 - acc: 0.7259     \n",
      "Epoch 9/45\n",
      "540/540 [==============================] - 0s - loss: 0.6497 - acc: 0.7167     \n",
      "Epoch 10/45\n",
      "540/540 [==============================] - 0s - loss: 0.6267 - acc: 0.7500     \n",
      "Epoch 11/45\n",
      "540/540 [==============================] - 0s - loss: 0.6077 - acc: 0.7407     \n",
      "Epoch 12/45\n",
      "540/540 [==============================] - 0s - loss: 0.5832 - acc: 0.7889     \n",
      "Epoch 13/45\n",
      "540/540 [==============================] - 0s - loss: 0.5939 - acc: 0.7556     \n",
      "Epoch 14/45\n",
      "540/540 [==============================] - 0s - loss: 0.5442 - acc: 0.7889     \n",
      "Epoch 15/45\n",
      "540/540 [==============================] - 0s - loss: 0.5378 - acc: 0.7815     \n",
      "Epoch 16/45\n",
      "540/540 [==============================] - 0s - loss: 0.5230 - acc: 0.7944     \n",
      "Epoch 17/45\n",
      "540/540 [==============================] - 0s - loss: 0.5043 - acc: 0.7963     \n",
      "Epoch 18/45\n",
      "540/540 [==============================] - 0s - loss: 0.5026 - acc: 0.8185     \n",
      "Epoch 19/45\n",
      "540/540 [==============================] - 0s - loss: 0.4910 - acc: 0.8241     \n",
      "Epoch 20/45\n",
      "540/540 [==============================] - 0s - loss: 0.4566 - acc: 0.8241     \n",
      "Epoch 21/45\n",
      "540/540 [==============================] - 0s - loss: 0.4429 - acc: 0.8222     \n",
      "Epoch 22/45\n",
      "540/540 [==============================] - 0s - loss: 0.4492 - acc: 0.8426     \n",
      "Epoch 23/45\n",
      "540/540 [==============================] - 0s - loss: 0.4449 - acc: 0.8389     \n",
      "Epoch 24/45\n",
      "540/540 [==============================] - 0s - loss: 0.4314 - acc: 0.8685     \n",
      "Epoch 25/45\n",
      "540/540 [==============================] - 0s - loss: 0.4176 - acc: 0.8315     \n",
      "Epoch 26/45\n",
      "540/540 [==============================] - 0s - loss: 0.4195 - acc: 0.8463     \n",
      "Epoch 27/45\n",
      "540/540 [==============================] - 0s - loss: 0.3885 - acc: 0.8852     \n",
      "Epoch 28/45\n",
      "540/540 [==============================] - 0s - loss: 0.3933 - acc: 0.8704     \n",
      "Epoch 29/45\n",
      "540/540 [==============================] - 0s - loss: 0.3845 - acc: 0.8611     \n",
      "Epoch 30/45\n",
      "540/540 [==============================] - 0s - loss: 0.3652 - acc: 0.8685     \n",
      "Epoch 31/45\n",
      "540/540 [==============================] - 0s - loss: 0.3649 - acc: 0.8759     \n",
      "Epoch 32/45\n",
      "540/540 [==============================] - 0s - loss: 0.3464 - acc: 0.8852     \n",
      "Epoch 33/45\n",
      "540/540 [==============================] - 0s - loss: 0.3397 - acc: 0.8852     \n",
      "Epoch 34/45\n",
      "540/540 [==============================] - 0s - loss: 0.3157 - acc: 0.9000     \n",
      "Epoch 35/45\n",
      "540/540 [==============================] - 0s - loss: 0.3121 - acc: 0.8907     \n",
      "Epoch 36/45\n",
      "540/540 [==============================] - 0s - loss: 0.3144 - acc: 0.8889     \n",
      "Epoch 37/45\n",
      "540/540 [==============================] - 0s - loss: 0.2924 - acc: 0.8981     \n",
      "Epoch 38/45\n",
      "540/540 [==============================] - 0s - loss: 0.3008 - acc: 0.8889     \n",
      "Epoch 39/45\n",
      "540/540 [==============================] - 0s - loss: 0.2823 - acc: 0.9093     \n",
      "Epoch 40/45\n",
      "540/540 [==============================] - 0s - loss: 0.2815 - acc: 0.9056     \n",
      "Epoch 41/45\n",
      "540/540 [==============================] - 0s - loss: 0.2787 - acc: 0.9204     \n",
      "Epoch 42/45\n",
      "540/540 [==============================] - 0s - loss: 0.2655 - acc: 0.9204     \n",
      "Epoch 43/45\n",
      "540/540 [==============================] - 0s - loss: 0.2605 - acc: 0.9204     \n",
      "Epoch 44/45\n",
      "540/540 [==============================] - 0s - loss: 0.2486 - acc: 0.9148     \n",
      "Epoch 45/45\n",
      "540/540 [==============================] - 0s - loss: 0.2324 - acc: 0.9352     \n",
      "60/60 [==============================] - 1s     \n",
      "\n",
      "\n",
      "0.6166666666666667\n",
      "\n",
      "\n"
     ]
    },
    {
     "data": {
      "image/png": "[encoded data removed]",
      "text/plain": [
       "<Figure size 720x432 with 1 Axes>"
      ]
     },
     "metadata": {
      "tags": []
     },
     "output_type": "display_data"
    },
    {
     "data": {
      "image/png": "[encoded data removed]",
      "text/plain": [
       "<Figure size 720x432 with 1 Axes>"
      ]
     },
     "metadata": {
      "tags": []
     },
     "output_type": "display_data"
    },
    {
     "data": {
      "image/png": "[encoded data removed]",
      "text/plain": [
       "<Figure size 720x432 with 1 Axes>"
      ]
     },
     "metadata": {
      "tags": []
     },
     "output_type": "display_data"
    },
    {
     "data": {
      "image/png": "[encoded data removed]",
      "text/plain": [
       "<Figure size 720x432 with 1 Axes>"
      ]
     },
     "metadata": {
      "tags": []
     },
     "output_type": "display_data"
    },
    {
     "data": {
      "image/png": "[encoded data removed]",
      "text/plain": [
       "<Figure size 720x432 with 1 Axes>"
      ]
     },
     "metadata": {
      "tags": []
     },
     "output_type": "display_data"
    },
    {
     "data": {
      "image/png": "[encoded data removed]",
      "text/plain": [
       "<Figure size 720x432 with 1 Axes>"
      ]
     },
     "metadata": {
      "tags": []
     },
     "output_type": "display_data"
    },
    {
     "data": {
      "image/png": "[encoded data removed]",
      "text/plain": [
       "<Figure size 720x432 with 1 Axes>"
      ]
     },
     "metadata": {
      "tags": []
     },
     "output_type": "display_data"
    },
    {
     "data": {
      "image/png": "[encoded data removed]",
      "text/plain": [
       "<Figure size 720x432 with 1 Axes>"
      ]
     },
     "metadata": {
      "tags": []
     },
     "output_type": "display_data"
    },
    {
     "data": {
      "image/png": "[encoded data removed]",
      "text/plain": [
       "<Figure size 720x432 with 1 Axes>"
      ]
     },
     "metadata": {
      "tags": []
     },
     "output_type": "display_data"
    },
    {
     "data": {
      "image/png": "[encoded data removed]",
      "text/plain": [
       "<Figure size 720x432 with 1 Axes>"
      ]
     },
     "metadata": {
      "tags": []
     },
     "output_type": "display_data"
    }
   ],
   "source": [
    "fold = 0\n",
    "if sklearn_version.startswith('0.17'):\n",
    "#   splits = StratifiedShuffleSplit(classes_num, n_iter=10, test_size=testset_size, random_state=0)\n",
    "  splits = StratifiedKFold(n_splits=10, shuffle=False)\n",
    "else: # >= 0.18:\n",
    "#   splitter = StratifiedShuffleSplit(n_splits=10, test_size=testset_size, random_state=0)\n",
    "  splitter = StratifiedKFold(n_splits=10, shuffle=False, random_state=60)\n",
    "  splits = splitter.split(data, classes_num)\n",
    "fold = 0\n",
    "for train_index, test_index in splits:\n",
    "  fold = fold+1\n",
    "  print(\"Fold \", fold)\n",
    "  print \"TRAIN INDEX:\", train_index\n",
    "  print \"TEST INDEX:\", test_index\n",
    "  # split the data\n",
    "  train_set = data[train_index]\n",
    "  test_set = data[test_index]\n",
    "\n",
    "  # and the numeric classes (groundtruth)\n",
    "  train_classes = classes_num[train_index]\n",
    "  train_classes_1hot = classes_num_1hot[train_index]  # 1 hot we need for traning\n",
    "  test_classes = classes_num[test_index]\n",
    "  if keras.backend.image_dim_ordering() == 'th':\n",
    "    # Theano ordering (~/.keras/keras.json: \"image_dim_ordering\": \"th\")\n",
    "    train_set = train_set.reshape(train_set.shape[0], n_channels, ydim, xdim)\n",
    "    test_set = test_set.reshape(test_set.shape[0], n_channels, ydim, xdim)\n",
    "  else:\n",
    "    # Tensorflow ordering (~/.keras/keras.json: \"image_dim_ordering\": \"tf\")\n",
    "    train_set = train_set.reshape(train_set.shape[0], ydim, xdim, n_channels)\n",
    "    test_set = test_set.reshape(test_set.shape[0], ydim, xdim, n_channels)\n",
    "\n",
    "  input_shape = train_set.shape[1:]  \n",
    "\n",
    "\n",
    "  model = Sequential()\n",
    "\n",
    "  conv_filters = 16   # number of convolution filters (= CNN depth)\n",
    "\n",
    "#cnn_act = 'relu' # sigmoid or relu\n",
    "\n",
    "# Layer 1\n",
    "#model.add(Convolution2D(conv_filters, 3, 3, border_mode='valid', input_shape=input_shape))\n",
    "  model.add(Convolution2D(conv_filters, 4, 12, input_shape=input_shape))\n",
    "  model.add(Activation('relu')) \n",
    "  model.add(MaxPooling2D(pool_size=(2, 2))) \n",
    "#model.add(MaxPooling2D(pool_size=(1, 20))) \n",
    "\n",
    "# Layer 2\n",
    "  model.add(Convolution2D(conv_filters, 3, 3, border_mode='valid', input_shape=input_shape))\n",
    "  model.add(BatchNormalization())\n",
    "  model.add(Activation('relu')) \n",
    "  model.add(MaxPooling2D(pool_size=(2, 2))) \n",
    "\n",
    "# After Convolution, we have a 16*x*y matrix output\n",
    "# In order to feed this to a Full(Dense) layer, we need to flatten all data\n",
    "# Note: Keras does automatic shape inference, i.e. it knows how many (flat) input units the next layer will need,\n",
    "# so no parameter is needed for the Flatten() layer.\n",
    "  model.add(Flatten()) \n",
    "\n",
    "# Full layer\n",
    "  model.add(Dense(256, activation='sigmoid'))  \n",
    "  model.add(Dropout(0.25))  \n",
    "#==> sebelum dicomment drop nya tidak bisa jalan.kenapa?\n",
    "\n",
    "# Output layer\n",
    "# For binary/2-class problems use ONE sigmoid unit, for multi-class/multi-label problems use n output units \n",
    "# activation should be 'softmax' for multi-class / single-label output, 'sigmoid' for binary or multi-label tasks\n",
    "  model.add(Dense(n_classes,activation='softmax'))\n",
    "\n",
    "  loss = 'categorical_crossentropy' \n",
    "  learn_rate = 0.02\n",
    "\n",
    "  # Note: for binary classification (2 classes) OR for multi-class problems use:\n",
    "  #loss = 'binary_crossentropy' \n",
    "\n",
    "  # Optimizer = Stochastic Gradient Descent\n",
    "  optimizer = 'sgd' \n",
    "\n",
    "  # Compiling the model\n",
    "  model.compile(loss=loss, optimizer=optimizer, metrics=['accuracy'])\n",
    "  history = None\n",
    "  # TRAINING the model\n",
    "\n",
    "  # YOU MAY RUN THIS CELL MULTIPLE TIMES TO CONTINUE TO TRAIN THE MODEL FURTHER\n",
    "  #for train, test in kf.split(X, Y):\n",
    "\n",
    "  # for how many epochs (iterations) to train\n",
    "  epochs = 45\n",
    "    \n",
    "  # for training we need the \"1 hot encoded\" numeric classes of the ground truth\n",
    "  #   History = model.fit(train_set, train_classes_1hot, batch_size=32, nb_epoch=epochs)\n",
    "  History = model.fit(train_set, train_classes_1hot, batch_size=32, nb_epoch=epochs)\n",
    "\n",
    "  # we keep the history of accuracies on training set\n",
    "  # we append this to previous history in case we execute this cell multiple times\n",
    "  if history is None:\n",
    "    history = History.history\n",
    "  else:\n",
    "    for key in History.history.keys():\n",
    "      history[key].extend(History.history[key])\n",
    "  plot_traincurve(history, fold)\n",
    "  test_pred = model.predict_classes(test_set)\n",
    "  \n",
    "  # predictions\n",
    "#   print(test_pred)\n",
    "  \n",
    "#   # groundtruth\n",
    "#   print(test_classes)\n",
    "  # 1 layer\n",
    "  print(\"\\n\")\n",
    "  print(accuracy_score(test_classes, test_pred))\n",
    "  print(\"\\n\")\n",
    "# Note: this for loop is only executed once, if n_splits==1\n",
    "# print train_set.shape\n",
    "# print test_set.shape\n"
   ]
  },
  {
   "cell_type": "markdown",
   "metadata": {
    "colab_type": "text",
    "id": "arJaMCCQD5UO"
   },
   "source": [
    "### Training"
   ]
  },
  {
   "cell_type": "code",
   "execution_count": 0,
   "metadata": {
    "colab": {},
    "colab_type": "code",
    "id": "32rzEKm9D5UR"
   },
   "outputs": [],
   "source": [
    "# Compiling the model\n",
    "\n",
    "learn_rate = 0.05\n",
    "optimizer = SGD(lr=learn_rate) #, momentum=momentum) \n",
    "\n",
    "model.compile(loss='categorical_crossentropy' , optimizer=optimizer, metrics=['accuracy'])\n",
    "\n",
    "history = None"
   ]
  },
  {
   "cell_type": "code",
   "execution_count": 0,
   "metadata": {
    "colab": {},
    "colab_type": "code",
    "id": "1ZmF84jHD5UY"
   },
   "outputs": [],
   "source": [
    "# TRAINING the model - (you may repeat execution of this cell to FURTHER train the model!)\n",
    "epochs = 45\n",
    "History = model.fit(train_set, train_classes_1hot, batch_size=32, nb_epoch=epochs)\n",
    "\n",
    "# we keep the history of accuracies on training set\n",
    "# we append this to previous history in case we execute this cell multiple times\n",
    "if history is None:\n",
    "    history = History.history\n",
    "else:\n",
    "    for key in History.history.keys():\n",
    "        history[key].extend(History.history[key])"
   ]
  },
  {
   "cell_type": "code",
   "execution_count": 0,
   "metadata": {
    "colab": {},
    "colab_type": "code",
    "id": "ctb94V4fD5Ui"
   },
   "outputs": [],
   "source": [
    "plot_traincurve(history)"
   ]
  },
  {
   "cell_type": "markdown",
   "metadata": {
    "colab_type": "text",
    "id": "BSUmjxpbD5Ut"
   },
   "source": [
    "### Testing"
   ]
  },
  {
   "cell_type": "code",
   "execution_count": 0,
   "metadata": {
    "colab": {},
    "colab_type": "code",
    "id": "qeUEpwZcD5Uu",
    "scrolled": true
   },
   "outputs": [],
   "source": [
    "test_pred = model.predict_classes(test_set)"
   ]
  },
  {
   "cell_type": "code",
   "execution_count": 0,
   "metadata": {
    "colab": {},
    "colab_type": "code",
    "id": "eIMdqqKXD5U_"
   },
   "outputs": [],
   "source": [
    "accuracy_score(test_classes, test_pred)"
   ]
  },
  {
   "cell_type": "markdown",
   "metadata": {
    "colab_type": "text",
    "id": "9iut4IxBD5VE"
   },
   "source": [
    "## Additional Parameters & Techniques\n",
    "\n",
    "Try: (comment/uncomment code blocks below)\n",
    "* Adding ReLU activation\n",
    "* Adding Batch normalization\n",
    "* Adding Dropout"
   ]
  },
  {
   "cell_type": "code",
   "execution_count": 0,
   "metadata": {
    "colab": {},
    "colab_type": "code",
    "id": "FGcXX89WD5VG"
   },
   "outputs": [],
   "source": [
    "model = Sequential()\n",
    "\n",
    "conv_filters = 16   # number of convolution filters (= CNN depth)\n",
    "\n",
    "# Layer 1\n",
    "model.add(Convolution2D(conv_filters, 3, 3, border_mode='valid', input_shape=input_shape))\n",
    "#model.add(Convolution2D(conv_filters, 4, 12, border_mode='valid', input_shape=input_shape))\n",
    "model.add(Activation('relu'))\n",
    "model.add(MaxPooling2D(pool_size=(2, 2))) \n",
    "#model.add(MaxPooling2D(pool_size=(1, 20))) \n",
    "\n",
    "# Layer 2\n",
    "model.add(Convolution2D(conv_filters, 3, 3, border_mode='valid', input_shape=input_shape))\n",
    "#model.add(BatchNormalization())\n",
    "model.add(Activation('relu')) \n",
    "model.add(MaxPooling2D(pool_size=(2, 2))) \n",
    "\n",
    "# After Convolution, we have a 16*x*y matrix output\n",
    "# In order to feed this to a Full(Dense) layer, we need to flatten all data\n",
    "# Note: Keras does automatic shape inference, i.e. it knows how many (flat) input units the next layer will need,\n",
    "# so no parameter is needed for the Flatten() layer.\n",
    "model.add(Flatten()) \n",
    "\n",
    "# Full layer\n",
    "model.add(Dense(256))  \n",
    "model.add(Activation('relu'))\n",
    "model.add(Dropout(0.1))\n",
    "\n",
    "# Output layer\n",
    "# For binary/2-class problems use ONE sigmoid unit, \n",
    "# for multi-class/multi-label problems use n output units and activation='softmax!'\n",
    "model.add(Dense(n_classes,activation='softmax'))"
   ]
  },
  {
   "cell_type": "markdown",
   "metadata": {
    "colab_type": "text",
    "id": "7EZ7bWCtD5VO"
   },
   "source": [
    "### Training"
   ]
  },
  {
   "cell_type": "code",
   "execution_count": 0,
   "metadata": {
    "colab": {},
    "colab_type": "code",
    "id": "V9hZo7YeD5VP"
   },
   "outputs": [],
   "source": [
    "# Compiling the model\n",
    "\n",
    "optimizer = 'sgd'\n",
    "\n",
    "#learn_rate = 0.02\n",
    "#optimizer = SGD(lr=learn_rate) #, momentum=momentum) \n",
    "\n",
    "model.compile(loss='categorical_crossentropy' , optimizer=optimizer, metrics=['accuracy'])"
   ]
  },
  {
   "cell_type": "code",
   "execution_count": 0,
   "metadata": {
    "colab": {},
    "colab_type": "code",
    "id": "aJ5C_EcxD5VS"
   },
   "outputs": [],
   "source": [
    "# TRAINING the model - (you may repeat execution of this cell to FURTHER train the model!)\n",
    "epochs = 45\n",
    "history = model.fit(train_set, train_classes_1hot, batch_size=32, nb_epoch=epochs)"
   ]
  },
  {
   "cell_type": "markdown",
   "metadata": {
    "colab_type": "text",
    "id": "6RkbD5SFD5Vd"
   },
   "source": [
    "### Testing"
   ]
  },
  {
   "cell_type": "code",
   "execution_count": 0,
   "metadata": {
    "colab": {},
    "colab_type": "code",
    "id": "ZuE3x_4sD5Ve"
   },
   "outputs": [],
   "source": [
    "test_pred = model.predict_classes(test_set)"
   ]
  },
  {
   "cell_type": "code",
   "execution_count": 0,
   "metadata": {
    "colab": {},
    "colab_type": "code",
    "id": "nFvwaD1pD5Vj"
   },
   "outputs": [],
   "source": [
    "accuracy_score(test_classes, test_pred)"
   ]
  }
 ],
 "metadata": {
  "accelerator": "GPU",
  "colab": {
   "collapsed_sections": [
    "wCuCWkhUD5SY",
    "BSUmjxpbD5Ut",
    "9iut4IxBD5VE",
    "7EZ7bWCtD5VO",
    "6RkbD5SFD5Vd"
   ],
   "name": "Music_genre_classification.ipynb",
   "provenance": [],
   "version": "0.3.2"
  },
  "kernelspec": {
   "display_name": "Python 3",
   "language": "python",
   "name": "python3"
  },
  "language_info": {
   "codemirror_mode": {
    "name": "ipython",
    "version": 3
   },
   "file_extension": ".py",
   "mimetype": "text/x-python",
   "name": "python",
   "nbconvert_exporter": "python",
   "pygments_lexer": "ipython3",
   "version": "3.5.6"
  }
 },
 "nbformat": 4,
 "nbformat_minor": 1
}
